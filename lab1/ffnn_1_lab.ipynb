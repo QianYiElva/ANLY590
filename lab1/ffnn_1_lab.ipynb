{
 "cells": [
  {
   "cell_type": "code",
   "execution_count": 1,
   "metadata": {
    "colab": {},
    "colab_type": "code",
    "id": "jUI9Jbekte4t"
   },
   "outputs": [],
   "source": [
    "import matplotlib.pyplot as plt\n",
    "import numpy as np"
   ]
  },
  {
   "cell_type": "markdown",
   "metadata": {
    "colab_type": "text",
    "id": "eSL4ugW8uEUt"
   },
   "source": [
    "**intro + NumPy**\n",
    "\n",
    "In this lab we will implement the forward pass of a neural network. We will rely heavily on NumPy -- a Python package for efficienct processing of array data.\n",
    "\n",
    "To get started with this, here is an implementation of a function that computes the sigmoid activation function using NumPy to help us compute the exponential. "
   ]
  },
  {
   "cell_type": "code",
   "execution_count": 2,
   "metadata": {
    "colab": {},
    "colab_type": "code",
    "id": "_2HxaPkguD5h"
   },
   "outputs": [],
   "source": [
    "def sigmoid(z):\n",
    "  '''\n",
    "  Sigmoid activation function\n",
    "\n",
    "  parameters:\n",
    "  - z (array): input to the activation function\n",
    "  '''\n",
    "  return 1 / (1 + np.exp(-np.array(z)))"
   ]
  },
  {
   "cell_type": "markdown",
   "metadata": {
    "colab_type": "text",
    "id": "j8EkDVrFuwtf"
   },
   "source": [
    "One great thing about using NumPy is that often times we can write code that looks like it operates on a single number, but NumPy will also work on its own `ndarray` array objects (nd = 'n-dimensional') as well as lists (which it will convert to arrays for you.\n",
    "\n",
    "Try it out before. Use this function to compute the output of the sigmoid activation function for the input value 0.0 by itself, and then also for the values (-2.0, -1.0, 0.0, 1.0, 2.0) at the same time with only one call to the function."
   ]
  },
  {
   "cell_type": "code",
   "execution_count": 3,
   "metadata": {
    "colab": {},
    "colab_type": "code",
    "id": "rUKdaVZ5ve9L"
   },
   "outputs": [
    {
     "data": {
      "text/plain": [
       "0.5"
      ]
     },
     "execution_count": 3,
     "metadata": {},
     "output_type": "execute_result"
    }
   ],
   "source": [
    "sigmoid(0.0)"
   ]
  },
  {
   "cell_type": "code",
   "execution_count": 4,
   "metadata": {},
   "outputs": [
    {
     "data": {
      "text/plain": [
       "array([0.11920292, 0.26894142, 0.5       , 0.73105858, 0.88079708])"
      ]
     },
     "execution_count": 4,
     "metadata": {},
     "output_type": "execute_result"
    }
   ],
   "source": [
    "sigmoid([-2.0, -1.0, 0.0, 1.0, 2.0])"
   ]
  },
  {
   "cell_type": "markdown",
   "metadata": {
    "colab_type": "text",
    "id": "6WUgTplRvr56"
   },
   "source": [
    "**single neuron**\n",
    "\n",
    "As a warm-up for implementing a full neural network layer, let's implement the computation performed by a single neuron.\n",
    "\n",
    "If our neuron has $m$ inputs, then its output will be defined by:\n",
    "\n",
    "- the inputs, which we can represent as an $m$-dimensional array: $x=[x_1, x_2, ..., x_m]$\n",
    "- the weights for each input, which we can represent as another $m$-dimensional vector: $w = [w_1, w_2, ..., w_n]$\n",
    "- the bias, which is a scalar: $b$\n",
    "\n",
    "Use the sigmoid activation function -- $\\sigma(z)$ -- for this neuron.\n",
    "\n",
    "With these definitions, the output of our neuron is:\n",
    "$$a = \\sigma(w_1 x_1 + w_2 x_2 + ... + w_m x_m + b)$$\n",
    "$$=\\sigma(w \\cdot x + b)$$"
   ]
  },
  {
   "cell_type": "code",
   "execution_count": 5,
   "metadata": {
    "colab": {},
    "colab_type": "code",
    "id": "MXN-vL7owPRS"
   },
   "outputs": [],
   "source": [
    "def neuron(x, w, b):\n",
    "    \n",
    "    '''\n",
    "    tranformation for a single layer of a neural network\n",
    "\n",
    "    parameters\n",
    "    ----------\n",
    "    x (1d array): input vector\n",
    "    w (1d array): neuron weights\n",
    "    b (float):    bias\n",
    "    '''\n",
    "    # remove the `pass` and add your code that returns the correct result\n",
    "    z=0\n",
    "    for i in range(len(x)):\n",
    " \n",
    "        z += x[i]*w[i]\n",
    "    z += b\n",
    "    return sigmoid(z)\n",
    "\n"
   ]
  },
  {
   "cell_type": "code",
   "execution_count": 6,
   "metadata": {},
   "outputs": [],
   "source": [
    "\n",
    "def neuron(x,w,b):\n",
    "    return sigmoid(np.sum([x_i*w_i for x_i, w_i in zip(x,w)])+b)"
   ]
  },
  {
   "cell_type": "markdown",
   "metadata": {
    "colab_type": "text",
    "id": "rfrP9HZGy2cS"
   },
   "source": [
    "Here are some tests that should pass if your implementation is correct."
   ]
  },
  {
   "cell_type": "code",
   "execution_count": 7,
   "metadata": {
    "colab": {},
    "colab_type": "code",
    "id": "YVNiKA47y1bC"
   },
   "outputs": [],
   "source": [
    "np.testing.assert_equal(\n",
    "    neuron([0, 0, 0], [0, 0, 0], 0),\n",
    "    0.5\n",
    ")\n",
    "np.testing.assert_equal(\n",
    "    neuron([0, 0, 0], [0, 0, 0], 1),\n",
    "    1 / (1 + np.exp(-1))\n",
    ")\n",
    "np.testing.assert_equal(\n",
    "    neuron([1, 0, 1], [0, 1, 0], 0),\n",
    "    0.5\n",
    ")\n",
    "np.testing.assert_equal(\n",
    "    neuron([1, -1, 0], [2, 1, 0], -1),\n",
    "    0.5\n",
    ")"
   ]
  },
  {
   "cell_type": "markdown",
   "metadata": {
    "colab_type": "text",
    "id": "Qgo1Amx_wbhU"
   },
   "source": [
    "**vectorizing**\n",
    "\n",
    "If your code for a single neuron used a loop, you had the right idea! However, in languages with Python, which are not built for speed, writing your own loops can be slow. Right now, your code probably doesn't feel very slow, but once we start to fit your neural net to data, you will need to call this function many times (easily millions of times, if not more!).\n",
    "\n",
    "For critical portions of your code like this, it can be worth the extra work to *vectorize* your code. This means rewriting your code to use a package like NumPy that can compute the result you want directly from vectors/arrays, allowing NumPy to do the looping under the hood for you. The benefit here is that NumPy's has critical loops written in lower level languages (like C, C++, or FORTRAN) where loops are faster (though the code is harder to write and make sure it is correct).\n",
    "\n",
    "Go back and try to write a vectorized version of the `neuron` function using helper functions from NumPy that let you avoid writing a loop. Hint: check out the NumPy's `np.dot` function."
   ]
  },
  {
   "cell_type": "code",
   "execution_count": 8,
   "metadata": {
    "colab": {},
    "colab_type": "code",
    "id": "NEorVEyNy-23"
   },
   "outputs": [],
   "source": [
    "# vectorized version\n",
    "def neuron(x, w, b):\n",
    "    '''\n",
    "    tranformation for a single layer of a neural network\n",
    "\n",
    "    parameters\n",
    "    ----------\n",
    "    x (1d array): input vector\n",
    "    w (1d array): neuron weights\n",
    "    b (float):    bias\n",
    "    '''\n",
    "    z=np.dot(x,w)\n",
    "    z+=b\n",
    "    return sigmoid(z)\n",
    "\n",
    "  "
   ]
  },
  {
   "cell_type": "markdown",
   "metadata": {
    "colab_type": "text",
    "id": "elFSDgDI3Nwm"
   },
   "source": [
    "Try the tests again to make sure it still works."
   ]
  },
  {
   "cell_type": "code",
   "execution_count": 9,
   "metadata": {
    "colab": {},
    "colab_type": "code",
    "id": "6N06NPgL3R_O"
   },
   "outputs": [],
   "source": [
    "np.testing.assert_equal(\n",
    "    neuron([0, 0, 0], [0, 0, 0], 0),\n",
    "    0.5\n",
    ")\n",
    "np.testing.assert_equal(\n",
    "    neuron([0, 0, 0], [0, 0, 0], 1),\n",
    "    1 / (1 + np.exp(-1))\n",
    ")\n",
    "np.testing.assert_equal(\n",
    "    neuron([1, 0, 1], [0, 1, 0], 0),\n",
    "    0.5\n",
    ")\n",
    "np.testing.assert_equal(\n",
    "    neuron([1, -1, 0], [2, 1, 0], -1),\n",
    "    0.5\n",
    ")"
   ]
  },
  {
   "cell_type": "markdown",
   "metadata": {
    "colab_type": "text",
    "id": "7ji8uJNCzFUQ"
   },
   "source": [
    "**neural net layer with batch inputs**\n",
    "\n",
    "Now for the real deal: extending our function for a single neuron in two ways:\n",
    "- first, so that it can process a \"batch\" of multiple inputs rather than just a single input\n",
    "- second, so that it can do the computation for an entire hidden layer of neurons instead of just one\n",
    "\n",
    "Let's look at the math for each of these extensions in turn.\n",
    "\n",
    "*batch inputs*:\n",
    "\n",
    "We want to process a set (or \"batch\") of inputs at the same time, both for the sake of convenience and so we can hopefully vectorize the code to make processing a batch faster than simply looping through all of the inputs in the batch.\n",
    "\n",
    "If we have $k$ inputs in a batch, each of which are $m$-dimensional, then we can organize these inputs into a $k$-by-$m$ matrix simply by stacking the individual input vectors:\n",
    "\n",
    "\\\\\n",
    "$$\n",
    "\\begin{bmatrix}\n",
    "  -\\, x^1 \\, -\\\\\n",
    "  -\\, x^2 \\, -\\\\\n",
    "  \\vdots \\\\\n",
    "  -\\, x^k \\, -\\\\\n",
    "\\end{bmatrix}\n",
    "=\n",
    "\\begin{bmatrix}\n",
    "x_{11} & x_{12} & \\cdots & x_{1m} \\\\\n",
    "x_{21} & x_{22} & \\cdots & x_{2m} \\\\\n",
    "\\vdots & \\vdots  &  \\ddots & \\vdots \\\\\n",
    "x_{k1} & x_{k2} & \\cdots & x_{km}\n",
    "\\end{bmatrix}\n",
    "$$\n",
    "\n",
    "\\\\\n",
    "where each row contains the components for one input\n",
    "\n",
    "*multiple neurons*\n",
    "\n",
    "Now let's considering an entire layer of neurons that recieve this same input and, again, we want to compute the outputs for the entire layer together for convenience and efficiency.\n",
    "\n",
    "If we have $n$ neurons, we will now have $m$ of weights (for a  $m$-dimensional input) for each neuron. Similar to what we just saw for extending to multiple inputs, we can collect these weights in an $m$-by-$n$ matrix, but this times lets put each weight vector in its own column (we'll see why shortly):\n",
    "\n",
    "\\\\\n",
    "$$W =\n",
    "\\begin{bmatrix}\n",
    "| & | & \\quad & | \\\\\n",
    "w^1 & w^2 & \\cdots & w^n \\\\\n",
    "| & | & \\quad & |\n",
    "\\end{bmatrix}\n",
    "=\n",
    "\\begin{bmatrix}\n",
    "w_{11} & w_{12} & \\cdots & w_{1n} \\\\\n",
    "w_{21} & w_{22} & \\cdots & w_{2n} \\\\\n",
    "\\vdots & \\vdots & \\ddots & \\vdots \\\\\n",
    "w_{m1} & w_{m2} & \\cdots & w_{mn}\n",
    "\\end{bmatrix}\n",
    "$$\n",
    "\n",
    "\\\\\n",
    "where each column contains the weights for one of the neurons in the layer. We also have one bias for each neuron, which we can organize in a vector:\n",
    "\n",
    "\\\\\n",
    "$$\n",
    "b =\n",
    "\\begin{bmatrix}\n",
    "b_1 & b_2 & \\cdots & b_n\n",
    "\\end{bmatrix}\n",
    "$$.\n",
    "\n",
    "\\\\\n",
    "*putting it all together*\n",
    "\n",
    "Next, we want to compute the total weighted input to each neuron in the layer for each input. We can organize these values into a matrix, with one row for each sample and one column for each neuron in our layer. \n",
    "\n",
    "\\\\\n",
    "$$\n",
    "\\begin{bmatrix}\n",
    "x^1 \\cdot w^1 & x^1 \\cdot w^2 & \\cdots & x^1 \\cdot w^n \\\\\n",
    "x^2 \\cdot w^1 & x^2 \\cdot w^2 & \\cdots & x^2 \\cdot x^n \\\\\n",
    "\\vdots & \\vdots & \\ddots & \\vdots \\\\\n",
    "x^m \\cdot w^1 & x^m \\cdot w^2 & \\cdots & x^m \\cdot w^n\n",
    "\\end{bmatrix}\n",
    "$$\n",
    "\n",
    "\\\\\n",
    "But taking the dot product between all rows of one matrix with all columns of another matrix is exactly the definition of matrix multiplication, so we have:\n",
    "\n",
    "\\\\\n",
    "$$\n",
    "\\begin{bmatrix}\n",
    "x^1 \\cdot w^1 & x^1 \\cdot w^2 & \\cdots & x^1 \\cdot w^n \\\\\n",
    "x^2 \\cdot w^1 & x^2 \\cdot w^2 & \\cdots & x^2 \\cdot x^n \\\\\n",
    "\\vdots & \\vdots & \\ddots & \\vdots \\\\\n",
    "x^m \\cdot w^1 & x^m \\cdot w^2 & \\cdots & x^m \\cdot w^n\n",
    "\\end{bmatrix}\n",
    "=\n",
    "\\begin{bmatrix}\n",
    "  -\\, x^1 \\, -\\\\\n",
    "  -\\, x^2 \\, -\\\\\n",
    "  \\vdots \\\\\n",
    "  -\\, x^k \\, -\\\\\n",
    "\\end{bmatrix} \n",
    "\\begin{bmatrix}\n",
    "| & | & \\quad & | \\\\\n",
    "w^1 & w^2 & \\cdots & w^n \\\\\n",
    "| & | & \\quad & |\n",
    "\\end{bmatrix}\n",
    "=XW\n",
    "$$\n",
    "\n",
    "\\\\\n",
    "We also need to add the bias terms, which is the same for each row/neuron. We can write this as:\n",
    "\n",
    "\\\\\n",
    "$$\n",
    "\\begin{bmatrix}\n",
    "x^1 \\cdot w^1 + b_1 & x^1 \\cdot w^2 + b_2 & \\cdots & x^1 \\cdot w^n + b_n \\\\\n",
    "x^2 \\cdot w^1 + b_1 & x^2 \\cdot w^2 + b_2 & \\cdots & x^2 \\cdot x^n + b_n \\\\\n",
    "\\vdots & \\vdots & \\ddots & \\vdots \\\\\n",
    "x^m \\cdot w^1 + b_1 & x^2 \\cdot w^2 + b_2 & \\cdots & x^m \\cdot w^n + b_n\n",
    "\\end{bmatrix} \\\\\n",
    "=\n",
    "\\begin{bmatrix}\n",
    "x^1 \\cdot w^1 & x^1 \\cdot w^2 & \\cdots & x^1 \\cdot w^n \\\\\n",
    "x^2 \\cdot w^1 & x^2 \\cdot w^2 & \\cdots & x^2 \\cdot x^n \\\\\n",
    "\\vdots & \\vdots & \\ddots & \\vdots \\\\\n",
    "x^m \\cdot w^1 & x^m \\cdot w^2 & \\cdots & x^m \\cdot w^n\n",
    "\\end{bmatrix}\n",
    "+\n",
    "\\begin{bmatrix}\n",
    "b_1 & b_2 & \\cdots & b_m\n",
    "\\end{bmatrix}\n",
    "= XW + b\n",
    "$$\n",
    "\n",
    "\\\\\n",
    "where when have have addition of a matrix to a row/column vector, we interpret this via *broadcasting*: we assume that the row/column is repeated across all rows/columns to match the shape of the matrix. This is exactly how many numeric programming langauges/packages (including NumPy) handle this as well.\n",
    "\n",
    "Finally, the outputs for all neurons across all batches can be computed by applying the activation function elementwise for a final result of:\n",
    "\n",
    "\\\\\n",
    "$$\n",
    "A = \\sigma(XW + b)\n",
    "$$\n",
    "\n",
    "\\\\\n",
    "And here is the best part: the same function in NumPy that computes the dot-product between two 1-dimensional arrays also computes matrix multiplication when given 2-dimensional arrays instead. This means that the function you wrote for a single neuron will already work for multiple neurons across a batch of inputs!\n",
    "\n",
    "Go ahead and try it -- simply change the weights and inputs to 2d-arrays (and you can change the biases to a 1d-array if you want a different bias for each neuron."
   ]
  },
  {
   "cell_type": "code",
   "execution_count": 10,
   "metadata": {
    "colab": {},
    "colab_type": "code",
    "id": "D_sH6F9WzMvD"
   },
   "outputs": [],
   "source": [
    "def nn_layer(X, W, b):\n",
    "    '''\n",
    "    tranformation for a single layer of a neural network\n",
    "\n",
    "    parameters\n",
    "    ----------\n",
    "    X (2d array): input vectors\n",
    "    W (2d array): neuron weights\n",
    "    b (1d array): biases\n",
    "    '''\n",
    "    z=np.dot(X,W)\n",
    "    z+=b\n",
    "    return sigmoid(z)"
   ]
  },
  {
   "cell_type": "markdown",
   "metadata": {
    "colab_type": "text",
    "id": "t3UTPy9QzRGB"
   },
   "source": [
    "Again, here are some tests to see if your network is probably handling multiple inputs and multiple outputs."
   ]
  },
  {
   "cell_type": "code",
   "execution_count": 11,
   "metadata": {
    "colab": {},
    "colab_type": "code",
    "id": "pJjbo6QOzW9s"
   },
   "outputs": [],
   "source": [
    "X = [\n",
    "     [0, 0, 0],\n",
    "     [1, 1, 1],\n",
    "     [-1, 0, 1]\n",
    "]\n",
    "W = [\n",
    "     [0, 1, 0],\n",
    "     [0, 1, 1],\n",
    "     [0, 1, 2]\n",
    "]\n",
    "b = [0, 0, 0]\n",
    "A = nn_layer(X, W, b)\n",
    "np.testing.assert_array_equal(A, [[0.5, 0.5, 0.5], [0.5, sigmoid(3), sigmoid(3)], [0.5, 0.5, sigmoid(2)]])\n",
    "\n",
    "b = [[1, 2, 3]]\n",
    "A = nn_layer(X, W, b)\n",
    "np.testing.assert_array_equal(A, [[sigmoid(1), sigmoid(2), sigmoid(3)], [sigmoid(1), sigmoid(5), sigmoid(6)], [sigmoid(1), sigmoid(2), sigmoid(5)]])"
   ]
  },
  {
   "cell_type": "markdown",
   "metadata": {
    "colab_type": "text",
    "id": "mEXH8yhKzc4z"
   },
   "source": [
    "**neural net with one hidden layer**\n",
    "\n",
    "Next, let's make a function to implement a two-layer neural network - one hidden layer and the output layer. It should takes as inputs:\n",
    "- An input matrix, $X$\n",
    "- Two weight matrices, $W_1$ and $W_2$ (one for each layer)\n",
    "- Two bias vectors, $b_1$ and $b_2$ (one for each layer)\n",
    "\n",
    "This function should call your `nn_layer` function twice with the appropriate arguments, chaining the output of the first layer into the input to the secocond layer, and then returning the final output"
   ]
  },
  {
   "cell_type": "code",
   "execution_count": 12,
   "metadata": {
    "colab": {},
    "colab_type": "code",
    "id": "rD96HaR4zkW3"
   },
   "outputs": [],
   "source": [
    "def nn_two_layers(X, W_1, b_1, W_2, b_2):\n",
    "    '''\n",
    "    forward pass of a two-layer neural network\n",
    "\n",
    "    parameters\n",
    "    ----------\n",
    "    X (2d array):   input matrix\n",
    "    W_1 (2d array): weight matrix for first layer\n",
    "    b_1 (1d array): biases for first layer\n",
    "    W_2 (2d array): weight matrix for second layer\n",
    "    b_2 (1darray):  biases for second layer\n",
    "    '''\n",
    "    H=nn_layer(X, W_1,b_1)\n",
    "    Y=nn_layer(H, W_2, b_2)\n",
    "    return sigmoid(Y)\n",
    "  "
   ]
  },
  {
   "cell_type": "markdown",
   "metadata": {
    "colab_type": "text",
    "id": "J9xr7V-hzqGi"
   },
   "source": [
    "To test out your brand new neral net function, let's test it out on a 1-dimensional input and a 1-dimensional output so that we can plot the results with a line graph. We will use random values for the weight and biases.\n",
    "\n",
    "Follow along below as we walk through how to do this with some NumPy functions and Python's popular plotting package, Matplotlib."
   ]
  },
  {
   "cell_type": "code",
   "execution_count": 13,
   "metadata": {
    "colab": {},
    "colab_type": "code",
    "id": "euPE7moLzuSI"
   },
   "outputs": [
    {
     "data": {
      "image/png": "[encoded data removed]",
      "text/plain": [
       "<Figure size 432x288 with 1 Axes>"
      ]
     },
     "metadata": {
      "needs_background": "light"
     },
     "output_type": "display_data"
    }
   ],
   "source": [
    "# Set the input dimension, the number of hidden units, and the number of ouptput units\n",
    "n_input, n_hidden, n_output = 1, 20, 1\n",
    "\n",
    "# We want get the NN's output for a range of input values, so that we cant plot\n",
    "# input vs output. We can get evenly space values using `np.linspace`. We also\n",
    "# want to process these inputs as a \"batch\", so we use `np.newaxis` to turn this\n",
    "# 1-d array into a 2-d array with a single column.\n",
    "n_grid = 1000\n",
    "x_left, x_right = -100, 100\n",
    "X = np.linspace(x_left, x_right, n_grid)[:, np.newaxis]\n",
    "\n",
    "# We can generate random values (drawn from a standard gaussian distribution --\n",
    "# mean = 0, standard deviation = 1), with `np.random.randn(shape)`\n",
    "W_1 = np.random.randn(n_input, n_hidden)\n",
    "b_1 = np.random.randn(n_hidden)\n",
    "W_2 = np.random.randn(n_hidden, n_output)\n",
    "b_2 = np.random.randn(n_output)\n",
    "\n",
    "# Use our NN to compute the outputs for these inputs\n",
    "Y_hat = nn_two_layers(X, W_1, b_1, W_2, b_2)\n",
    "\n",
    "# Plot the input values (x-axis) against the output values (y-axis)\n",
    "plt.plot(X, Y_hat)\n",
    "plt.show()"
   ]
  },
  {
   "cell_type": "markdown",
   "metadata": {
    "colab_type": "text",
    "id": "bM_SXaaGzzU1"
   },
   "source": [
    "### Exercises"
   ]
  },
  {
   "cell_type": "markdown",
   "metadata": {
    "colab_type": "text",
    "id": "RIn58-Siz0hO"
   },
   "source": [
    "**function exploration**\n",
    "\n",
    "Use your code for the 2-layer neural network to explore how the number of neruons in the hidden layer affects the function that the neural network implements. Vary the number of hidden neurons between say 1 and 20 and look at a few example networks for each. Plot some results for various values.\n",
    "\n",
    "How does the number of hidden units effect the function that your neural net represents? Explain why this is is this?\n",
    "\n",
    "What range of outputs seems to be acheivable? Why is this? What kind of supervised learning task would this network be suited for because of this?\n",
    "\n",
    "Type your answer in a text box below."
   ]
  },
  {
   "cell_type": "code",
   "execution_count": 14,
   "metadata": {},
   "outputs": [],
   "source": [
    "# The more hidden nodes, the neural net will be more \"complex\". \n",
    "# Because when more nodes added, there will be more number of (x_i * w_i), which will bring more flexibility. \n",
    "# From the graph, I can see that when adding more hiden nodes, the visualization will be more fluctuate. \n",
    "# The range of output is (0, 1), the reason is the activation function is sigmoid. \n",
    "# The supervised learning use case could be: predict binary results of a model, e.g. recommend or not "
   ]
  },
  {
   "cell_type": "markdown",
   "metadata": {
    "colab_type": "text",
    "id": "4yIy_a2I0tnS"
   },
   "source": [
    "**deep neural nets**\n",
    "\n",
    "Our neural network currently works for only a single hidden layer. This is a rather shallow network, and the next step is to extend it to a deep network that can handle any number of layers.\n",
    "\n",
    "To handle an arbitrary number of layers, switch to taking a 3-dimensional array for the layer weights -- now the first index will specify which layer the remaing 2-dimension subarray is associated with (e.g. `W[2]` would be the 2-d array of weights for the connections from layer 2 to layer 3). Similary, add another dimension to the biases to specify the layer, making $b$ a 2-dimensional array.\n",
    "\n",
    "Here you will probably need to use a for loop to iterate through the layers. You can continue to use the sigmoid activation function for all layers."
   ]
  },
  {
   "cell_type": "code",
   "execution_count": 15,
   "metadata": {
    "colab": {},
    "colab_type": "code",
    "id": "0D8I7im509tV"
   },
   "outputs": [],
   "source": [
    "def deep_nn(X, W, b, f_hidden, f_output):\n",
    "    '''\n",
    "    forward pass for a deep neural net with an arbitrary number of layers\n",
    "\n",
    "    parameters\n",
    "    ----------\n",
    "    X (2d array):     input vectors\n",
    "    W (3d array):     weight matrices -- W[layer, input, neuron]\n",
    "    b (2d array):     biase vectors -- b[layer, neuron]\n",
    "    '''\n",
    "    \n",
    "    H=nn_layer(X, W[0], b[0]) # initial H value \n",
    "    for i in range(1, len(W)):\n",
    "        H=nn_layer(H, W[i], b[i])\n",
    "    return H \n",
    "    "
   ]
  },
  {
   "cell_type": "code",
   "execution_count": null,
   "metadata": {},
   "outputs": [],
   "source": []
  }
 ],
 "metadata": {
  "colab": {
   "collapsed_sections": [],
   "name": "ffnn-1-lab.ipynb",
   "provenance": []
  },
  "kernelspec": {
   "display_name": "Python 3",
   "language": "python",
   "name": "python3"
  },
  "language_info": {
   "codemirror_mode": {
    "name": "ipython",
    "version": 3
   },
   "file_extension": ".py",
   "mimetype": "text/x-python",
   "name": "python",
   "nbconvert_exporter": "python",
   "pygments_lexer": "ipython3",
   "version": "3.7.3"
  }
 },
 "nbformat": 4,
 "nbformat_minor": 1
}
