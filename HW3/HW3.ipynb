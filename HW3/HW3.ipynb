{
  "nbformat": 4,
  "nbformat_minor": 0,
  "metadata": {
    "accelerator": "GPU",
    "colab": {
      "name": "HW3.ipynb",
      "provenance": [],
      "collapsed_sections": [],
      "toc_visible": true
    },
    "kernelspec": {
      "display_name": "Python 3",
      "name": "python3"
    }
  },
  "cells": [
    {
      "cell_type": "code",
      "metadata": {
        "id": "eb7QjB6obwHY"
      },
      "source": [
        "# HW3 disccussion group member: Jingyu Zhang "
      ],
      "execution_count": 9,
      "outputs": []
    },
    {
      "cell_type": "markdown",
      "metadata": {
        "id": "vs1u9tNcbzBQ"
      },
      "source": [
        "# 1. Autoencoder \n",
        "  Build and fit a convolutional autoencoder for the CIFAR10 data set.The components of this network will be many of the same pieces we’ve used with convolutional classification networks: Conv2D, MaxPooling, and so on.The encoder part of the network should run the input image through a few convolutional layers of your choice. The decoder part of the network will utilize UpSampling2D to get the representation back to the original image size.\n",
        "\n",
        "  After training your network, visualize some examples of input images and their decoded reconstruction.\n",
        "\n",
        "reference: https://blog.keras.io/building-autoencoders-in-keras.html"
      ]
    },
    {
      "cell_type": "code",
      "metadata": {
        "id": "hffgHYfvHLxo"
      },
      "source": [
        ""
      ],
      "execution_count": 9,
      "outputs": []
    },
    {
      "cell_type": "code",
      "metadata": {
        "id": "VrVlwaBvS-Zf"
      },
      "source": [
        "import numpy as np\n",
        "import pandas as pd \n",
        "import tensorflow as tf\n",
        "import tensorflow.keras as tfk\n",
        "import tensorflow.keras.layers as tfkl\n",
        "from tensorflow.keras.models import Sequential\n",
        "from keras.datasets import cifar10\n",
        "from keras.callbacks import TensorBoard\n",
        "from keras.layers import Input, Dense, Flatten, Dropout, Conv2D, MaxPooling2D, LeakyReLU, LSTM, UpSampling2D\n",
        "from keras.models import Model\n",
        "from keras import backend as K \n",
        "from matplotlib import pyplot as plt\n",
        "from keras.utils import np_utils\n",
        "from keras.optimizers import Adam\n",
        "import keras\n",
        "from keras import layers"
      ],
      "execution_count": 10,
      "outputs": []
    },
    {
      "cell_type": "code",
      "metadata": {
        "id": "q9z8ybfaN7w0"
      },
      "source": [
        "# load the data \n",
        "(trainX, trainY), (testX, testY)=cifar10.load_data()"
      ],
      "execution_count": 11,
      "outputs": []
    },
    {
      "cell_type": "code",
      "metadata": {
        "colab": {
          "base_uri": "https://localhost:8080/"
        },
        "id": "UIITe2coS0rs",
        "outputId": "01ea8348-31b7-4486-ebb1-7b004d9526e7"
      },
      "source": [
        "# print Training set shape \n",
        "print('Training set X shape is: ', trainX.shape) \n",
        "print('Training set Y shape is: ', trainY.shape)\n",
        "\n",
        "# print Testing set shape \n",
        "print('Testing set X shape is: ', testX.shape) \n",
        "print('Testing  set Y shape is: ', testY.shape)\n",
        "\n"
      ],
      "execution_count": 12,
      "outputs": [
        {
          "output_type": "stream",
          "text": [
            "Training set X shape is:  (50000, 32, 32, 3)\n",
            "Training set Y shape is:  (50000, 1)\n",
            "Testing set X shape is:  (10000, 32, 32, 3)\n",
            "Testing  set Y shape is:  (10000, 1)\n"
          ],
          "name": "stdout"
        }
      ]
    },
    {
      "cell_type": "code",
      "metadata": {
        "id": "ZQUGxUw9nzwz"
      },
      "source": [
        "# normalize image data \n",
        "trainX=trainX.astype('float32')/255.0\n",
        "testX=testX.astype('float32')/255.0"
      ],
      "execution_count": 13,
      "outputs": []
    },
    {
      "cell_type": "code",
      "metadata": {
        "colab": {
          "base_uri": "https://localhost:8080/"
        },
        "id": "Rt7kLkDFz-lz",
        "outputId": "87e5e692-a067-4d0b-a2f5-2fffde8b22d3"
      },
      "source": [
        "print(trainX.shape)\n",
        "print(testX.shape)"
      ],
      "execution_count": 14,
      "outputs": [
        {
          "output_type": "stream",
          "text": [
            "(50000, 32, 32, 3)\n",
            "(10000, 32, 32, 3)\n"
          ],
          "name": "stdout"
        }
      ]
    },
    {
      "cell_type": "code",
      "metadata": {
        "colab": {
          "base_uri": "https://localhost:8080/"
        },
        "id": "EeJAoBwQn0AP",
        "outputId": "8ab9b0d7-3c2e-4858-c26f-6c9e4c217214"
      },
      "source": [
        "# train the autoencoder \n",
        "input_img=Input(shape=(32,32,3))\n",
        "\n",
        "# Convolutional autoencoder: \n",
        "x = Conv2D(filters=32, kernel_size=(3,3),padding=\"same\", activation='relu')(input_img)\n",
        "x = MaxPooling2D((2, 2), padding='same')(x)\n",
        "\n",
        "x = Conv2D(8, kernel_size = (3, 3), activation='relu', padding='same')(x)\n",
        "x = MaxPooling2D((2, 2), padding='same')(x)\n",
        "\n",
        "x = Conv2D(8, kernel_size = (3, 3), activation='relu', padding='same')(x)\n",
        "encoded = MaxPooling2D((2, 2), padding='same')(x)\n",
        "\n",
        "\n",
        "x = Conv2D(8, kernel_size =  (3, 3), activation='relu', padding='same')(encoded)\n",
        "x = UpSampling2D((2, 2))(x)\n",
        "\n",
        "x = Conv2D(8, kernel_size = (3, 3), activation='relu', padding='same')(x)\n",
        "x = UpSampling2D((2, 2))(x)\n",
        "\n",
        "x = Conv2D(32, kernel_size = (3, 3), activation='relu',padding='same')(x)\n",
        "x = UpSampling2D((2, 2))(x)\n",
        "\n",
        "decoded = Conv2D(3, kernel_size = (3, 3), activation='relu', padding='same')(x)\n",
        "\n",
        "\n",
        "autoencoder = Model(input_img, decoded)\n",
        "autoencoder.compile(optimizer='adam', metrics=['accuracy'], loss='mean_squared_error')\n",
        "\n",
        "autoencoder.summary()"
      ],
      "execution_count": 15,
      "outputs": [
        {
          "output_type": "stream",
          "text": [
            "Model: \"functional_3\"\n",
            "_________________________________________________________________\n",
            "Layer (type)                 Output Shape              Param #   \n",
            "=================================================================\n",
            "input_2 (InputLayer)         [(None, 32, 32, 3)]       0         \n",
            "_________________________________________________________________\n",
            "conv2d_7 (Conv2D)            (None, 32, 32, 32)        896       \n",
            "_________________________________________________________________\n",
            "max_pooling2d_3 (MaxPooling2 (None, 16, 16, 32)        0         \n",
            "_________________________________________________________________\n",
            "conv2d_8 (Conv2D)            (None, 16, 16, 8)         2312      \n",
            "_________________________________________________________________\n",
            "max_pooling2d_4 (MaxPooling2 (None, 8, 8, 8)           0         \n",
            "_________________________________________________________________\n",
            "conv2d_9 (Conv2D)            (None, 8, 8, 8)           584       \n",
            "_________________________________________________________________\n",
            "max_pooling2d_5 (MaxPooling2 (None, 4, 4, 8)           0         \n",
            "_________________________________________________________________\n",
            "conv2d_10 (Conv2D)           (None, 4, 4, 8)           584       \n",
            "_________________________________________________________________\n",
            "up_sampling2d_3 (UpSampling2 (None, 8, 8, 8)           0         \n",
            "_________________________________________________________________\n",
            "conv2d_11 (Conv2D)           (None, 8, 8, 8)           584       \n",
            "_________________________________________________________________\n",
            "up_sampling2d_4 (UpSampling2 (None, 16, 16, 8)         0         \n",
            "_________________________________________________________________\n",
            "conv2d_12 (Conv2D)           (None, 16, 16, 32)        2336      \n",
            "_________________________________________________________________\n",
            "up_sampling2d_5 (UpSampling2 (None, 32, 32, 32)        0         \n",
            "_________________________________________________________________\n",
            "conv2d_13 (Conv2D)           (None, 32, 32, 3)         867       \n",
            "=================================================================\n",
            "Total params: 8,163\n",
            "Trainable params: 8,163\n",
            "Non-trainable params: 0\n",
            "_________________________________________________________________\n"
          ],
          "name": "stdout"
        }
      ]
    },
    {
      "cell_type": "code",
      "metadata": {
        "colab": {
          "base_uri": "https://localhost:8080/"
        },
        "id": "zAuKtTryn0Dg",
        "outputId": "316661a1-21dc-41ae-f072-8fb5b5291fcf"
      },
      "source": [
        "autoencoder.fit(trainX, trainX,\n",
        "                epochs=10,\n",
        "                batch_size=128,\n",
        "                shuffle=True,\n",
        "                validation_data=(testX, testX))"
      ],
      "execution_count": 16,
      "outputs": [
        {
          "output_type": "stream",
          "text": [
            "Epoch 1/10\n",
            "391/391 [==============================] - 4s 11ms/step - loss: 0.0357 - accuracy: 0.4120 - val_loss: 0.0199 - val_accuracy: 0.5441\n",
            "Epoch 2/10\n",
            "391/391 [==============================] - 4s 10ms/step - loss: 0.0179 - accuracy: 0.5818 - val_loss: 0.0167 - val_accuracy: 0.5948\n",
            "Epoch 3/10\n",
            "391/391 [==============================] - 4s 10ms/step - loss: 0.0159 - accuracy: 0.6083 - val_loss: 0.0150 - val_accuracy: 0.6158\n",
            "Epoch 4/10\n",
            "391/391 [==============================] - 4s 10ms/step - loss: 0.0146 - accuracy: 0.6186 - val_loss: 0.0144 - val_accuracy: 0.6345\n",
            "Epoch 5/10\n",
            "391/391 [==============================] - 4s 10ms/step - loss: 0.0140 - accuracy: 0.6239 - val_loss: 0.0137 - val_accuracy: 0.6167\n",
            "Epoch 6/10\n",
            "391/391 [==============================] - 4s 10ms/step - loss: 0.0136 - accuracy: 0.6276 - val_loss: 0.0134 - val_accuracy: 0.6321\n",
            "Epoch 7/10\n",
            "391/391 [==============================] - 4s 10ms/step - loss: 0.0133 - accuracy: 0.6298 - val_loss: 0.0132 - val_accuracy: 0.6310\n",
            "Epoch 8/10\n",
            "391/391 [==============================] - 4s 10ms/step - loss: 0.0131 - accuracy: 0.6326 - val_loss: 0.0130 - val_accuracy: 0.6330\n",
            "Epoch 9/10\n",
            "391/391 [==============================] - 4s 10ms/step - loss: 0.0129 - accuracy: 0.6344 - val_loss: 0.0128 - val_accuracy: 0.6375\n",
            "Epoch 10/10\n",
            "391/391 [==============================] - 4s 10ms/step - loss: 0.0127 - accuracy: 0.6359 - val_loss: 0.0126 - val_accuracy: 0.6317\n"
          ],
          "name": "stdout"
        },
        {
          "output_type": "execute_result",
          "data": {
            "text/plain": [
              "<tensorflow.python.keras.callbacks.History at 0x7f2499fea780>"
            ]
          },
          "metadata": {
            "tags": []
          },
          "execution_count": 16
        }
      ]
    },
    {
      "cell_type": "code",
      "metadata": {
        "colab": {
          "base_uri": "https://localhost:8080/",
          "height": 341
        },
        "id": "XbPcF4scn0Gp",
        "outputId": "aecc7f1d-04ab-49a1-90a2-8a4acf5adfa9"
      },
      "source": [
        "# Reconstructed images\n",
        "decoded_imgs = autoencoder.predict(testX)\n",
        "\n",
        "plt.figure(figsize=(15, 5))\n",
        "for i in range(1,6):\n",
        "    # original\n",
        "    ax = plt.subplot(2, 5, i)\n",
        "    plt.imshow(testX[i])\n",
        "    ax.get_xaxis().set_visible(False)\n",
        "    ax.get_yaxis().set_visible(False)\n",
        "\n",
        "    # after autoencoder \n",
        "    ax = plt.subplot(2, 5, i + 5)\n",
        "    plt.imshow(decoded_imgs[i])\n",
        "    ax.get_xaxis().set_visible(False)\n",
        "    ax.get_yaxis().set_visible(False)\n",
        "plt.show()\n"
      ],
      "execution_count": 17,
      "outputs": [
        {
          "output_type": "stream",
          "text": [
            "Clipping input data to the valid range for imshow with RGB data ([0..1] for floats or [0..255] for integers).\n",
            "Clipping input data to the valid range for imshow with RGB data ([0..1] for floats or [0..255] for integers).\n"
          ],
          "name": "stderr"
        },
        {
          "output_type": "display_data",
          "data": {
            "image/png": "[encoded data removed]",
            "text/plain": [
              "<Figure size 1080x360 with 10 Axes>"
            ]
          },
          "metadata": {
            "tags": [],
            "needs_background": "light"
          }
        }
      ]
    },
    {
      "cell_type": "markdown",
      "metadata": {
        "id": "2gDm2VWXSad0"
      },
      "source": [
        "# 2. Image Classification "
      ]
    },
    {
      "cell_type": "markdown",
      "metadata": {
        "id": "sy7pAWwjuE9H"
      },
      "source": [
        "## 2.1 CNN\n",
        "Build a deep CNN to classify the images. Provide a brief description of the architectural choices you’ve made:  kernel sizes, strides, padding, network depth.Train your network end-to-end. Report on your model’s performanceon the training set and test set.\n"
      ]
    },
    {
      "cell_type": "markdown",
      "metadata": {
        "id": "hdaeIZx6UBEi"
      },
      "source": [
        "Beief Description: \\\n",
        "The depth of CNN is 8, with 6 Conv layers and 2 Dense layers.  \n",
        "\n",
        "There are 3 big blocks. The first block contains two Convolution 2D layers, each layer have 32 filters with kernel size of 3\\*3 and relu activation. The second block contains two Convolution 2D layers, each layer have 64 filters with kernel size of 4\\*4 and relu activation. The second block contains two Convolution 2D layers, each layer have 128 filters with kernel size of 5\\*5 and relu activation. \n",
        "\n",
        "In each block, I choose MaxPool2D because I hope the model perform \"feature extraction\" function. To avoid overfitting, I added dropout to randomly \"forget\" some information learned. \n",
        "\n",
        "For padding, I choose \"same\" because I want the model add zero-padded values to the image. For the stride, I choose the default \"sliding window\" because this will capture all the features as kernel moves.\n",
        "\n",
        "In the Dense layers, I choose 256 unites for the first one because I want the feature vector contains rich information while not be too complicated. Then the second Dense layer has 10 unites with softmax activation because the dataset has 10 categories. \n",
        "\n"
      ]
    },
    {
      "cell_type": "code",
      "metadata": {
        "id": "gVesSO_g2CuD"
      },
      "source": [
        "# load the data \n",
        "(trainX, trainY), (testX, testY)=cifar10.load_data()"
      ],
      "execution_count": 18,
      "outputs": []
    },
    {
      "cell_type": "code",
      "metadata": {
        "id": "bWwhJuwU2C1v"
      },
      "source": [
        "# normalize image data \n",
        "trainX=trainX.astype('float32')/255.0\n",
        "testX=testX.astype('float32')/255.0"
      ],
      "execution_count": 19,
      "outputs": []
    },
    {
      "cell_type": "code",
      "metadata": {
        "colab": {
          "base_uri": "https://localhost:8080/"
        },
        "id": "t7lWLhTg4MTB",
        "outputId": "57d03233-8dc3-4184-9ce0-6ef382894817"
      },
      "source": [
        "testY"
      ],
      "execution_count": 20,
      "outputs": [
        {
          "output_type": "execute_result",
          "data": {
            "text/plain": [
              "array([[3],\n",
              "       [8],\n",
              "       [8],\n",
              "       ...,\n",
              "       [5],\n",
              "       [1],\n",
              "       [7]], dtype=uint8)"
            ]
          },
          "metadata": {
            "tags": []
          },
          "execution_count": 20
        }
      ]
    },
    {
      "cell_type": "code",
      "metadata": {
        "id": "aIsWQ5i_UV6H"
      },
      "source": [
        "# one-hot encoding for labels \n",
        "# Although the labels are in 0~9 numbers format, they are actually categorical variables. We want to encode them into one-hot version.\n",
        "trainY = np_utils.to_categorical(trainY, 10)\n",
        "testY = np_utils.to_categorical(testY, 10)"
      ],
      "execution_count": 21,
      "outputs": []
    },
    {
      "cell_type": "code",
      "metadata": {
        "colab": {
          "base_uri": "https://localhost:8080/"
        },
        "id": "1AiijuqLn0JO",
        "outputId": "b3a8ff47-09ed-44fb-b610-065ae534d766"
      },
      "source": [
        "model = tfk.Sequential()\n",
        "\n",
        "# block 1\n",
        "model.add(tfkl.Conv2D(filters = 32, kernel_size=(3,3),  padding=\"same\", activation='relu', input_shape=(32, 32, 3)))\n",
        "model.add(tfkl.Conv2D(filters = 32, kernel_size=(3,3),  padding=\"same\", activation='relu'))\n",
        "model.add(tfkl.MaxPool2D(pool_size=(2,2), padding='same'))\n",
        "model.add(tfkl.Dropout(0.1)) # add dropout to prevent overfitting \n",
        "\n",
        "# block 2\n",
        "model.add(tfkl.Conv2D(filters = 64, kernel_size=(4,4),  padding=\"same\", activation='relu'))\n",
        "model.add(tfkl.Conv2D(filters = 64, kernel_size=(4,4),  padding=\"same\", activation='relu'))\n",
        "model.add(tfkl.MaxPool2D(pool_size=(2,2)))\n",
        "model.add(tfkl.Dropout(.2))  # add dropout to prevent overfitting \n",
        "\n",
        "# block 3\n",
        "model.add(tfkl.Conv2D(filters = 128, kernel_size=(5,5),  padding=\"same\", activation='relu'))\n",
        "model.add(tfkl.Conv2D(filters = 128, kernel_size=(5,5),  padding=\"same\", activation='relu'))\n",
        "model.add(tfkl.MaxPool2D(pool_size=(2,2)))\n",
        "model.add(tfkl.Dropout(.2))  # add dropout to prevent overfitting \n",
        "\n",
        "\n",
        "# fully connected layer\n",
        "model.add(Flatten())\n",
        "model.add(Dense(256, activation='relu')) # choose 256 nodes because we want the features to be robust\n",
        "model.add(Dropout(0.1))  # add dropout to prevent overfitting \n",
        "model.add(Dense(10, activation='softmax'))\n",
        "\n",
        "model.summary()"
      ],
      "execution_count": 22,
      "outputs": [
        {
          "output_type": "stream",
          "text": [
            "Model: \"sequential\"\n",
            "_________________________________________________________________\n",
            "Layer (type)                 Output Shape              Param #   \n",
            "=================================================================\n",
            "conv2d_14 (Conv2D)           (None, 32, 32, 32)        896       \n",
            "_________________________________________________________________\n",
            "conv2d_15 (Conv2D)           (None, 32, 32, 32)        9248      \n",
            "_________________________________________________________________\n",
            "max_pooling2d_6 (MaxPooling2 (None, 16, 16, 32)        0         \n",
            "_________________________________________________________________\n",
            "dropout (Dropout)            (None, 16, 16, 32)        0         \n",
            "_________________________________________________________________\n",
            "conv2d_16 (Conv2D)           (None, 16, 16, 64)        32832     \n",
            "_________________________________________________________________\n",
            "conv2d_17 (Conv2D)           (None, 16, 16, 64)        65600     \n",
            "_________________________________________________________________\n",
            "max_pooling2d_7 (MaxPooling2 (None, 8, 8, 64)          0         \n",
            "_________________________________________________________________\n",
            "dropout_1 (Dropout)          (None, 8, 8, 64)          0         \n",
            "_________________________________________________________________\n",
            "conv2d_18 (Conv2D)           (None, 8, 8, 128)         204928    \n",
            "_________________________________________________________________\n",
            "conv2d_19 (Conv2D)           (None, 8, 8, 128)         409728    \n",
            "_________________________________________________________________\n",
            "max_pooling2d_8 (MaxPooling2 (None, 4, 4, 128)         0         \n",
            "_________________________________________________________________\n",
            "dropout_2 (Dropout)          (None, 4, 4, 128)         0         \n",
            "_________________________________________________________________\n",
            "flatten (Flatten)            (None, 2048)              0         \n",
            "_________________________________________________________________\n",
            "dense (Dense)                (None, 256)               524544    \n",
            "_________________________________________________________________\n",
            "dropout_3 (Dropout)          (None, 256)               0         \n",
            "_________________________________________________________________\n",
            "dense_1 (Dense)              (None, 10)                2570      \n",
            "=================================================================\n",
            "Total params: 1,250,346\n",
            "Trainable params: 1,250,346\n",
            "Non-trainable params: 0\n",
            "_________________________________________________________________\n"
          ],
          "name": "stdout"
        }
      ]
    },
    {
      "cell_type": "code",
      "metadata": {
        "colab": {
          "base_uri": "https://localhost:8080/"
        },
        "id": "IW_0xaTwTJEA",
        "outputId": "8fa11156-28a6-4f1b-f566-10bde3e28313"
      },
      "source": [
        "model.compile(\n",
        "    optimizer=Adam(lr=0.001),\n",
        "    loss='categorical_crossentropy',\n",
        "    metrics=['accuracy']\n",
        ")\n",
        "\n",
        "results = model.fit(trainX, trainY, steps_per_epoch=100, epochs=20, batch_size=500, validation_data=(testX, testY))"
      ],
      "execution_count": 23,
      "outputs": [
        {
          "output_type": "stream",
          "text": [
            "Epoch 1/20\n",
            "  2/100 [..............................] - ETA: 2s - loss: 2.3182 - accuracy: 0.1220WARNING:tensorflow:Callbacks method `on_train_batch_end` is slow compared to the batch time (batch time: 0.0089s vs `on_train_batch_end` time: 0.0474s). Check your callbacks.\n",
            "100/100 [==============================] - ETA: 0s - loss: 1.9220 - accuracy: 0.2807WARNING:tensorflow:Callbacks method `on_test_batch_end` is slow compared to the batch time (batch time: 0.0039s vs `on_test_batch_end` time: 0.0109s). Check your callbacks.\n",
            "100/100 [==============================] - 6s 64ms/step - loss: 1.9220 - accuracy: 0.2807 - val_loss: 1.5778 - val_accuracy: 0.4161\n",
            "Epoch 2/20\n",
            "100/100 [==============================] - 6s 63ms/step - loss: 1.4357 - accuracy: 0.4730 - val_loss: 1.2937 - val_accuracy: 0.5270\n",
            "Epoch 3/20\n",
            "100/100 [==============================] - 6s 63ms/step - loss: 1.2012 - accuracy: 0.5655 - val_loss: 1.0912 - val_accuracy: 0.6109\n",
            "Epoch 4/20\n",
            "100/100 [==============================] - 6s 64ms/step - loss: 1.0386 - accuracy: 0.6296 - val_loss: 0.9920 - val_accuracy: 0.6471\n",
            "Epoch 5/20\n",
            "100/100 [==============================] - 6s 64ms/step - loss: 0.9114 - accuracy: 0.6747 - val_loss: 0.8719 - val_accuracy: 0.6958\n",
            "Epoch 6/20\n",
            "100/100 [==============================] - 6s 64ms/step - loss: 0.7983 - accuracy: 0.7173 - val_loss: 0.7961 - val_accuracy: 0.7217\n",
            "Epoch 7/20\n",
            "100/100 [==============================] - 6s 64ms/step - loss: 0.7261 - accuracy: 0.7445 - val_loss: 0.7593 - val_accuracy: 0.7349\n",
            "Epoch 8/20\n",
            "100/100 [==============================] - 6s 64ms/step - loss: 0.6609 - accuracy: 0.7681 - val_loss: 0.7285 - val_accuracy: 0.7476\n",
            "Epoch 9/20\n",
            "100/100 [==============================] - 6s 65ms/step - loss: 0.6024 - accuracy: 0.7898 - val_loss: 0.6725 - val_accuracy: 0.7676\n",
            "Epoch 10/20\n",
            "100/100 [==============================] - 6s 65ms/step - loss: 0.5493 - accuracy: 0.8075 - val_loss: 0.6747 - val_accuracy: 0.7697\n",
            "Epoch 11/20\n",
            "100/100 [==============================] - 7s 65ms/step - loss: 0.5007 - accuracy: 0.8237 - val_loss: 0.6434 - val_accuracy: 0.7812\n",
            "Epoch 12/20\n",
            "100/100 [==============================] - 7s 66ms/step - loss: 0.4589 - accuracy: 0.8392 - val_loss: 0.6314 - val_accuracy: 0.7850\n",
            "Epoch 13/20\n",
            "100/100 [==============================] - 7s 65ms/step - loss: 0.4292 - accuracy: 0.8502 - val_loss: 0.6356 - val_accuracy: 0.7844\n",
            "Epoch 14/20\n",
            "100/100 [==============================] - 6s 65ms/step - loss: 0.3880 - accuracy: 0.8628 - val_loss: 0.6428 - val_accuracy: 0.7961\n",
            "Epoch 15/20\n",
            "100/100 [==============================] - 6s 65ms/step - loss: 0.3569 - accuracy: 0.8742 - val_loss: 0.6581 - val_accuracy: 0.7952\n",
            "Epoch 16/20\n",
            "100/100 [==============================] - 6s 65ms/step - loss: 0.3263 - accuracy: 0.8843 - val_loss: 0.6438 - val_accuracy: 0.8004\n",
            "Epoch 17/20\n",
            "100/100 [==============================] - 6s 65ms/step - loss: 0.2984 - accuracy: 0.8948 - val_loss: 0.6381 - val_accuracy: 0.8030\n",
            "Epoch 18/20\n",
            "100/100 [==============================] - 6s 65ms/step - loss: 0.2762 - accuracy: 0.9018 - val_loss: 0.6675 - val_accuracy: 0.7986\n",
            "Epoch 19/20\n",
            "100/100 [==============================] - 6s 64ms/step - loss: 0.2596 - accuracy: 0.9074 - val_loss: 0.6746 - val_accuracy: 0.8030\n",
            "Epoch 20/20\n",
            "100/100 [==============================] - 6s 65ms/step - loss: 0.2404 - accuracy: 0.9140 - val_loss: 0.6838 - val_accuracy: 0.7966\n"
          ],
          "name": "stdout"
        }
      ]
    },
    {
      "cell_type": "markdown",
      "metadata": {
        "id": "-8dKr1_I5uAg"
      },
      "source": [
        "The model performance: \\\n",
        "Loss on training set is: 0.24 \\\n",
        "Loss on testing set is: 0.68 \\\n",
        "Accuracy on training set is: 0.91 \\\n",
        "Accuracy on testing set is: 0.80"
      ]
    },
    {
      "cell_type": "markdown",
      "metadata": {
        "id": "yooZYlHWCi4r"
      },
      "source": [
        "## 2.2 Transfer Learning \n",
        "Repeat the same task, but this time utilize a pre-trained network for the majority of your model. You should only train the final Dense layer, all other weights should be fixed. You can use whichever pre-trained backbone you like (ResNet, VGG, etc). Report on your model’s performance on the training set and testset."
      ]
    },
    {
      "cell_type": "code",
      "metadata": {
        "colab": {
          "base_uri": "https://localhost:8080/"
        },
        "id": "2QYJ3JwZDIDp",
        "outputId": "e9fb1f80-e6ef-4cba-a517-e55ca987c1f7"
      },
      "source": [
        "from keras.applications import VGG16\n",
        "from keras.preprocessing.image import ImageDataGenerator, array_to_img, img_to_array, load_img\n",
        "from keras.optimizers import RMSprop\n",
        "\n",
        "# keep the VGG16 model as base\n",
        "conv_base = VGG16(weights=\"imagenet\",include_top=False,input_shape=(32,32,3)) \n",
        "vgg_model = Sequential()\n",
        "vgg_model.add(conv_base)\n",
        "\n",
        "# build the final dense layer \n",
        "vgg_model.add(Flatten())\n",
        "vgg_model.add(Dense(256, activation=\"relu\"))\n",
        "vgg_model.add(Dense(10, activation=\"softmax\"))\n",
        "\n",
        "# Compile \n",
        "vgg_model.compile(loss=\"categorical_crossentropy\", optimizer='adam', metrics=['accuracy'])\n",
        "\n",
        "# summary\n",
        "vgg_model.summary()"
      ],
      "execution_count": 24,
      "outputs": [
        {
          "output_type": "stream",
          "text": [
            "Downloading data from https://storage.googleapis.com/tensorflow/keras-applications/vgg16/vgg16_weights_tf_dim_ordering_tf_kernels_notop.h5\n",
            "58892288/58889256 [==============================] - 0s 0us/step\n",
            "Model: \"sequential_1\"\n",
            "_________________________________________________________________\n",
            "Layer (type)                 Output Shape              Param #   \n",
            "=================================================================\n",
            "vgg16 (Functional)           (None, 1, 1, 512)         14714688  \n",
            "_________________________________________________________________\n",
            "flatten_1 (Flatten)          (None, 512)               0         \n",
            "_________________________________________________________________\n",
            "dense_2 (Dense)              (None, 256)               131328    \n",
            "_________________________________________________________________\n",
            "dense_3 (Dense)              (None, 10)                2570      \n",
            "=================================================================\n",
            "Total params: 14,848,586\n",
            "Trainable params: 14,848,586\n",
            "Non-trainable params: 0\n",
            "_________________________________________________________________\n"
          ],
          "name": "stdout"
        }
      ]
    },
    {
      "cell_type": "code",
      "metadata": {
        "colab": {
          "base_uri": "https://localhost:8080/"
        },
        "id": "1ReXrSpCDJ70",
        "outputId": "198c766c-4e34-4280-9172-7ca81ac4fe6c"
      },
      "source": [
        "model_train = vgg_model.fit(trainX, trainY, batch_size = 1024, # make the batch as large as possible \n",
        "                                  epochs = 20,verbose=1,validation_data=(testX, testY))"
      ],
      "execution_count": 25,
      "outputs": [
        {
          "output_type": "stream",
          "text": [
            "Epoch 1/20\n",
            " 2/49 [>.............................] - ETA: 7s - loss: 2.3905 - accuracy: 0.1152WARNING:tensorflow:Callbacks method `on_train_batch_end` is slow compared to the batch time (batch time: 0.0922s vs `on_train_batch_end` time: 0.2109s). Check your callbacks.\n",
            "49/49 [==============================] - 20s 412ms/step - loss: 2.1982 - accuracy: 0.1516 - val_loss: 2.0384 - val_accuracy: 0.2055\n",
            "Epoch 2/20\n",
            "49/49 [==============================] - 15s 315ms/step - loss: 1.9991 - accuracy: 0.2026 - val_loss: 1.8716 - val_accuracy: 0.2373\n",
            "Epoch 3/20\n",
            "49/49 [==============================] - 15s 315ms/step - loss: 1.7872 - accuracy: 0.2650 - val_loss: 1.6497 - val_accuracy: 0.3365\n",
            "Epoch 4/20\n",
            "49/49 [==============================] - 15s 315ms/step - loss: 1.6252 - accuracy: 0.3456 - val_loss: 1.4750 - val_accuracy: 0.3888\n",
            "Epoch 5/20\n",
            "49/49 [==============================] - 15s 316ms/step - loss: 1.3664 - accuracy: 0.4665 - val_loss: 1.2198 - val_accuracy: 0.5226\n",
            "Epoch 6/20\n",
            "49/49 [==============================] - 16s 316ms/step - loss: 1.1342 - accuracy: 0.5730 - val_loss: 1.0286 - val_accuracy: 0.6195\n",
            "Epoch 7/20\n",
            "49/49 [==============================] - 16s 317ms/step - loss: 0.9110 - accuracy: 0.6679 - val_loss: 0.9689 - val_accuracy: 0.6582\n",
            "Epoch 8/20\n",
            "49/49 [==============================] - 15s 316ms/step - loss: 0.7801 - accuracy: 0.7217 - val_loss: 0.8655 - val_accuracy: 0.6967\n",
            "Epoch 9/20\n",
            "49/49 [==============================] - 15s 315ms/step - loss: 0.6628 - accuracy: 0.7637 - val_loss: 0.8148 - val_accuracy: 0.7231\n",
            "Epoch 10/20\n",
            "49/49 [==============================] - 16s 317ms/step - loss: 0.5325 - accuracy: 0.8123 - val_loss: 0.6921 - val_accuracy: 0.7660\n",
            "Epoch 11/20\n",
            "49/49 [==============================] - 16s 317ms/step - loss: 0.4782 - accuracy: 0.8364 - val_loss: 0.7368 - val_accuracy: 0.7666\n",
            "Epoch 12/20\n",
            "49/49 [==============================] - 16s 317ms/step - loss: 0.3640 - accuracy: 0.8759 - val_loss: 0.7336 - val_accuracy: 0.7744\n",
            "Epoch 13/20\n",
            "49/49 [==============================] - 16s 317ms/step - loss: 0.2934 - accuracy: 0.9020 - val_loss: 0.7700 - val_accuracy: 0.7681\n",
            "Epoch 14/20\n",
            "49/49 [==============================] - 16s 317ms/step - loss: 0.2513 - accuracy: 0.9154 - val_loss: 0.7523 - val_accuracy: 0.7889\n",
            "Epoch 15/20\n",
            "49/49 [==============================] - 16s 317ms/step - loss: 0.1934 - accuracy: 0.9365 - val_loss: 0.7835 - val_accuracy: 0.7941\n",
            "Epoch 16/20\n",
            "49/49 [==============================] - 16s 316ms/step - loss: 0.1553 - accuracy: 0.9495 - val_loss: 0.8351 - val_accuracy: 0.7896\n",
            "Epoch 17/20\n",
            "49/49 [==============================] - 16s 318ms/step - loss: 0.1442 - accuracy: 0.9533 - val_loss: 0.8449 - val_accuracy: 0.7953\n",
            "Epoch 18/20\n",
            "49/49 [==============================] - 16s 317ms/step - loss: 0.1263 - accuracy: 0.9594 - val_loss: 0.8756 - val_accuracy: 0.7904\n",
            "Epoch 19/20\n",
            "49/49 [==============================] - 16s 317ms/step - loss: 0.1048 - accuracy: 0.9669 - val_loss: 0.9245 - val_accuracy: 0.7952\n",
            "Epoch 20/20\n",
            "49/49 [==============================] - 16s 318ms/step - loss: 0.0861 - accuracy: 0.9732 - val_loss: 0.9336 - val_accuracy: 0.7934\n"
          ],
          "name": "stdout"
        }
      ]
    },
    {
      "cell_type": "markdown",
      "metadata": {
        "id": "pqrRsIIX6nAI"
      },
      "source": [
        "The model performance: \\\n",
        "Loss on training set is: 0.0861 \\\n",
        "Loss on testing set is: 0.9366 \\\n",
        "Accuracy on training set is: 0.9732 \\\n",
        "Accuracy on testing set is: 0.7934"
      ]
    },
    {
      "cell_type": "markdown",
      "metadata": {
        "id": "76w4W2GQpCYB"
      },
      "source": [
        "# 3. Text Classification "
      ]
    },
    {
      "cell_type": "markdown",
      "metadata": {
        "id": "a11WqvoXtZkR"
      },
      "source": [
        "Background.In this problem, we will build models that read text segments (messages) and identify whether they are SPAM or HAM.\n",
        "\n",
        "Wikipedia describes SPAMas “the use of electronic messaging systems tosend unsolicited bulk messages, especially advertising, indiscriminately.”\n",
        "\n",
        "The term ‘HAM’ was originally coined by SpamBayes sometime around 2001 and is currently defined and understood to be “E-mail that is generally desiredand isn’t considered SPAM.”\n",
        "\n",
        "Dataset.The dataset consists of∼5500 messages along with binary labels(SPAM or HAM) and is already preprocessed. So basically each sample is like [MESSAGE, LABEL]. "
      ]
    },
    {
      "cell_type": "markdown",
      "metadata": {
        "id": "JIFKH4-3uQWC"
      },
      "source": [
        "## 3.1 RNN\n",
        "Build and train a Recurrent Neural Network to solve this text classification task. You can use any type of RNN you wish (SimpleRNN, GRU, LSTM)."
      ]
    },
    {
      "cell_type": "code",
      "metadata": {
        "colab": {
          "base_uri": "https://localhost:8080/",
          "height": 206
        },
        "id": "IuKAbyIttnIH",
        "outputId": "73c566b1-be8e-4fef-e127-9e4130b4d59f"
      },
      "source": [
        "# load data \n",
        "data=pd.read_csv('SPAM_detection.csv')\n",
        "data.head()"
      ],
      "execution_count": 26,
      "outputs": [
        {
          "output_type": "execute_result",
          "data": {
            "text/html": [
              "<div>\n",
              "<style scoped>\n",
              "    .dataframe tbody tr th:only-of-type {\n",
              "        vertical-align: middle;\n",
              "    }\n",
              "\n",
              "    .dataframe tbody tr th {\n",
              "        vertical-align: top;\n",
              "    }\n",
              "\n",
              "    .dataframe thead th {\n",
              "        text-align: right;\n",
              "    }\n",
              "</style>\n",
              "<table border=\"1\" class=\"dataframe\">\n",
              "  <thead>\n",
              "    <tr style=\"text-align: right;\">\n",
              "      <th></th>\n",
              "      <th>Message</th>\n",
              "      <th>category_val</th>\n",
              "    </tr>\n",
              "  </thead>\n",
              "  <tbody>\n",
              "    <tr>\n",
              "      <th>0</th>\n",
              "      <td>Go until jurong point, crazy.. Available only ...</td>\n",
              "      <td>0</td>\n",
              "    </tr>\n",
              "    <tr>\n",
              "      <th>1</th>\n",
              "      <td>Ok lar... Joking wif u oni...</td>\n",
              "      <td>0</td>\n",
              "    </tr>\n",
              "    <tr>\n",
              "      <th>2</th>\n",
              "      <td>Free entry in 2 a wkly comp to win FA Cup fina...</td>\n",
              "      <td>1</td>\n",
              "    </tr>\n",
              "    <tr>\n",
              "      <th>3</th>\n",
              "      <td>U dun say so early hor... U c already then say...</td>\n",
              "      <td>0</td>\n",
              "    </tr>\n",
              "    <tr>\n",
              "      <th>4</th>\n",
              "      <td>Nah I don't think he goes to usf, he lives aro...</td>\n",
              "      <td>0</td>\n",
              "    </tr>\n",
              "  </tbody>\n",
              "</table>\n",
              "</div>"
            ],
            "text/plain": [
              "                                             Message  category_val\n",
              "0  Go until jurong point, crazy.. Available only ...             0\n",
              "1                      Ok lar... Joking wif u oni...             0\n",
              "2  Free entry in 2 a wkly comp to win FA Cup fina...             1\n",
              "3  U dun say so early hor... U c already then say...             0\n",
              "4  Nah I don't think he goes to usf, he lives aro...             0"
            ]
          },
          "metadata": {
            "tags": []
          },
          "execution_count": 26
        }
      ]
    },
    {
      "cell_type": "code",
      "metadata": {
        "id": "jr8PVHU0t8-H"
      },
      "source": [
        "x = data['Message'].copy()\n",
        "y = data['category_val']"
      ],
      "execution_count": 27,
      "outputs": []
    },
    {
      "cell_type": "code",
      "metadata": {
        "colab": {
          "base_uri": "https://localhost:8080/"
        },
        "id": "8ewxtX6BDKIi",
        "outputId": "38321dad-7533-4f61-c2b5-8703ee53f38e"
      },
      "source": [
        "# data cleaning and preprocessing \n",
        "import nltk\n",
        "import re\n",
        "nltk.download('stopwords')\n",
        "from nltk.corpus import stopwords"
      ],
      "execution_count": 28,
      "outputs": [
        {
          "output_type": "stream",
          "text": [
            "[nltk_data] Downloading package stopwords to /root/nltk_data...\n",
            "[nltk_data]   Unzipping corpora/stopwords.zip.\n"
          ],
          "name": "stdout"
        }
      ]
    },
    {
      "cell_type": "code",
      "metadata": {
        "id": "pOZ2nI_hDKME"
      },
      "source": [
        "def data_cleaner(text):\n",
        "    # remove urls\n",
        "    text = re.sub(r'http\\S+', ' ', text)\n",
        "    # remove html tags\n",
        "    text = re.sub(r'<.*?>',' ', text)\n",
        "    # remove digits\n",
        "    text = re.sub(r'\\d+',' ', text)\n",
        "    #removing stop words\n",
        "    text = text.split()\n",
        "    text = \" \".join([word for word in text if not word in stop_words])\n",
        "    return text\n",
        "stop_words = stopwords.words('english')\n",
        "x_cleaned = x.apply(data_cleaner)"
      ],
      "execution_count": 29,
      "outputs": []
    },
    {
      "cell_type": "code",
      "metadata": {
        "id": "W8VeIjLNDKPm"
      },
      "source": [
        "# tokenize\n",
        "from tensorflow.keras.preprocessing.text import Tokenizer\n",
        "from tensorflow.keras.preprocessing.sequence import pad_sequences\n",
        "\n",
        "# try word-level embedding \n",
        "tokenizer = Tokenizer(char_level=False)\n",
        "tokenizer.fit_on_texts(x_cleaned)\n",
        "x = tokenizer.texts_to_sequences(x_cleaned)"
      ],
      "execution_count": 30,
      "outputs": []
    },
    {
      "cell_type": "code",
      "metadata": {
        "colab": {
          "base_uri": "https://localhost:8080/",
          "height": 296
        },
        "id": "AZJ7ttHpQHl3",
        "outputId": "9d3a6888-8404-4feb-e30b-d29973467338"
      },
      "source": [
        "# check the distribution of the number of sentence word length \n",
        "length_list=[] \n",
        "for i in x: \n",
        "  length_list.append(len(i))\n",
        "\n",
        "import matplotlib.pyplot as plt\n",
        "import numpy as np\n",
        "%matplotlib inline\n",
        "\n",
        "plt.hist(length_list, density=False, bins=30)  # `density=False` would make counts\n",
        "plt.ylabel('Frequency')\n",
        "plt.xlabel('sentence word length') "
      ],
      "execution_count": 31,
      "outputs": [
        {
          "output_type": "execute_result",
          "data": {
            "text/plain": [
              "Text(0.5, 0, 'sentence word length')"
            ]
          },
          "metadata": {
            "tags": []
          },
          "execution_count": 31
        },
        {
          "output_type": "display_data",
          "data": {
            "image/png": "[encoded data removed]",
            "text/plain": [
              "<Figure size 432x288 with 1 Axes>"
            ]
          },
          "metadata": {
            "tags": [],
            "needs_background": "light"
          }
        }
      ]
    },
    {
      "cell_type": "markdown",
      "metadata": {
        "id": "4-0h5uKKQb8g"
      },
      "source": [
        "According to the plot, most sentence have less than 40 words. So I set 40 as the max length for padding."
      ]
    },
    {
      "cell_type": "code",
      "metadata": {
        "id": "9cefL9X3QIHq"
      },
      "source": [
        "# padding \n",
        "maxlen=40\n",
        "x = pad_sequences(x, padding='post', maxlen=maxlen)"
      ],
      "execution_count": 32,
      "outputs": []
    },
    {
      "cell_type": "code",
      "metadata": {
        "colab": {
          "base_uri": "https://localhost:8080/"
        },
        "id": "UPp-Cz2ZxpUy",
        "outputId": "86212e5b-4ac7-41f4-a46c-faecc134cd46"
      },
      "source": [
        "# check the format of x\n",
        "x[0]"
      ],
      "execution_count": 33,
      "outputs": [
        {
          "output_type": "execute_result",
          "data": {
            "text/plain": [
              "array([  12, 3983,  779,  703,  610, 1250,   32,   79,  306,  955,  105,\n",
              "       2763, 1251,   21, 3984,   98,    0,    0,    0,    0,    0,    0,\n",
              "          0,    0,    0,    0,    0,    0,    0,    0,    0,    0,    0,\n",
              "          0,    0,    0,    0,    0,    0,    0], dtype=int32)"
            ]
          },
          "metadata": {
            "tags": []
          },
          "execution_count": 33
        }
      ]
    },
    {
      "cell_type": "code",
      "metadata": {
        "id": "z-FHJ879Rnj5"
      },
      "source": [
        "import sklearn\n",
        "# split training and testing set \n",
        "x_train, x_test, y_train, y_test  = sklearn.model_selection.train_test_split(x, y, test_size=0.2, random_state=0)"
      ],
      "execution_count": 34,
      "outputs": []
    },
    {
      "cell_type": "code",
      "metadata": {
        "colab": {
          "base_uri": "https://localhost:8080/"
        },
        "id": "TSfOSduny8aM",
        "outputId": "3f8197fd-675a-41d8-df59-dfb0d27d191f"
      },
      "source": [
        "# check the vocabulary size \n",
        "vocab_size = len(tokenizer.word_index)+1\n",
        "vocab_size"
      ],
      "execution_count": 35,
      "outputs": [
        {
          "output_type": "execute_result",
          "data": {
            "text/plain": [
              "7994"
            ]
          },
          "metadata": {
            "tags": []
          },
          "execution_count": 35
        }
      ]
    },
    {
      "cell_type": "markdown",
      "metadata": {
        "id": "2WLgGxndyV2T"
      },
      "source": [
        "RNN with LSTM"
      ]
    },
    {
      "cell_type": "code",
      "metadata": {
        "colab": {
          "base_uri": "https://localhost:8080/"
        },
        "id": "HsUcmk4GxpbS",
        "outputId": "9088c334-c4e5-4fac-8260-61aa8944681b"
      },
      "source": [
        "model_RNN =Sequential()\n",
        "model_RNN.add(tfkl.Embedding(vocab_size, 32, input_length=40))\n",
        "model_RNN.add(tfkl.LSTM(128,return_sequences=True))\n",
        "model_RNN.add(tfkl.GlobalMaxPool1D())\n",
        "model_RNN.add(tfkl.Dropout(0.25))\n",
        "\n",
        "model_RNN.add(tfkl.Dense(32,activation=\"relu\"))\n",
        "model_RNN.add(tfkl.Dropout(0.25))\n",
        "\n",
        "model_RNN.add(tfkl.Dense(1,activation=\"sigmoid\"))\n",
        "model_RNN.compile(loss='binary_crossentropy', optimizer=tfk.optimizers.RMSprop(lr=0.001),metrics=['accuracy'])\n",
        "model_RNN.summary()"
      ],
      "execution_count": 36,
      "outputs": [
        {
          "output_type": "stream",
          "text": [
            "Model: \"sequential_2\"\n",
            "_________________________________________________________________\n",
            "Layer (type)                 Output Shape              Param #   \n",
            "=================================================================\n",
            "embedding (Embedding)        (None, 40, 32)            255808    \n",
            "_________________________________________________________________\n",
            "lstm (LSTM)                  (None, 40, 128)           82432     \n",
            "_________________________________________________________________\n",
            "global_max_pooling1d (Global (None, 128)               0         \n",
            "_________________________________________________________________\n",
            "dropout_4 (Dropout)          (None, 128)               0         \n",
            "_________________________________________________________________\n",
            "dense_4 (Dense)              (None, 32)                4128      \n",
            "_________________________________________________________________\n",
            "dropout_5 (Dropout)          (None, 32)                0         \n",
            "_________________________________________________________________\n",
            "dense_5 (Dense)              (None, 1)                 33        \n",
            "=================================================================\n",
            "Total params: 342,401\n",
            "Trainable params: 342,401\n",
            "Non-trainable params: 0\n",
            "_________________________________________________________________\n"
          ],
          "name": "stdout"
        }
      ]
    },
    {
      "cell_type": "code",
      "metadata": {
        "colab": {
          "base_uri": "https://localhost:8080/"
        },
        "id": "1ce4VLTFxpdl",
        "outputId": "98353b7f-4909-42ae-bf2e-33693e3d536d"
      },
      "source": [
        "model_RNN.fit(x_train, y_train, epochs=5, batch_size=64, validation_data=(x_test, y_test))"
      ],
      "execution_count": 37,
      "outputs": [
        {
          "output_type": "stream",
          "text": [
            "Epoch 1/5\n",
            "70/70 [==============================] - 1s 15ms/step - loss: 0.1949 - accuracy: 0.9390 - val_loss: 0.0820 - val_accuracy: 0.9713\n",
            "Epoch 2/5\n",
            "70/70 [==============================] - 1s 9ms/step - loss: 0.0519 - accuracy: 0.9877 - val_loss: 0.0791 - val_accuracy: 0.9794\n",
            "Epoch 3/5\n",
            "70/70 [==============================] - 1s 9ms/step - loss: 0.0375 - accuracy: 0.9935 - val_loss: 0.0991 - val_accuracy: 0.9785\n",
            "Epoch 4/5\n",
            "70/70 [==============================] - 1s 10ms/step - loss: 0.0265 - accuracy: 0.9953 - val_loss: 0.0574 - val_accuracy: 0.9821\n",
            "Epoch 5/5\n",
            "70/70 [==============================] - 1s 10ms/step - loss: 0.0174 - accuracy: 0.9975 - val_loss: 0.1121 - val_accuracy: 0.9803\n"
          ],
          "name": "stdout"
        },
        {
          "output_type": "execute_result",
          "data": {
            "text/plain": [
              "<tensorflow.python.keras.callbacks.History at 0x7f2288db7f98>"
            ]
          },
          "metadata": {
            "tags": []
          },
          "execution_count": 37
        }
      ]
    },
    {
      "cell_type": "markdown",
      "metadata": {
        "id": "7GplKdIy7UIP"
      },
      "source": [
        "The model performance: \\\n",
        "Loss on training set is: 0.0174 \\\n",
        "Loss on testing set is: 0.1121 \\\n",
        "Accuracy on training set is: 0.9975 \\\n",
        "Accuracy on testing set is: 0.9803"
      ]
    },
    {
      "cell_type": "code",
      "metadata": {
        "id": "yqTl-yC6WpFa"
      },
      "source": [
        "# calculation for ROC viz\n",
        "from sklearn.metrics import roc_curve\n",
        "from sklearn.metrics import auc\n",
        "pred_y_rnn = model_RNN.predict(x_test).ravel()\n",
        "fpr_rnn, tpr_rnn, rnn_ = roc_curve(y_test, pred_y_rnn)\n",
        "auc_rnn = auc(fpr_rnn, tpr_rnn)"
      ],
      "execution_count": 38,
      "outputs": []
    },
    {
      "cell_type": "markdown",
      "metadata": {
        "id": "eObvS0mcYrnd"
      },
      "source": [
        "## 3.2 CNN\n",
        "Build and train a 1D CNN for this text classification task. We recommend you do a character-level convolution (with character embeddings). \n",
        "\n",
        "Tips: after splitting every character in each training sample, the maximum length of training samples can be really big.  If you choose to only do the padding trick to all the samples, it might raise OOM issues. So instead of padding only, you can also cut each sample at a certain point, which can make training more efficient and feasible while using CNN.\n",
        "\n",
        "tutorial reference: https://towardsdatascience.com/character-level-cnn-with-keras-50391c3adf33"
      ]
    },
    {
      "cell_type": "code",
      "metadata": {
        "id": "Qor5ZJOQL5Bq"
      },
      "source": [
        "from keras.preprocessing.sequence import pad_sequences\n",
        "from keras.preprocessing import sequence\n",
        "from keras.layers import Dense, SimpleRNN, LSTM, Embedding\n",
        "from keras.models import Sequential"
      ],
      "execution_count": 39,
      "outputs": []
    },
    {
      "cell_type": "code",
      "metadata": {
        "id": "CFL46N1QDeFQ"
      },
      "source": [
        "data=pd.read_csv(\"SPAM_detection.csv\")\n",
        "x = data['Message']\n",
        "y = data['category_val']"
      ],
      "execution_count": 40,
      "outputs": []
    },
    {
      "cell_type": "code",
      "metadata": {
        "id": "k4a2qOcaDeaS"
      },
      "source": [
        "# try character level embedding \n",
        "tokenizer = Tokenizer(filters=None, char_level=True)\n",
        "tokenizer.fit_on_texts(x)\n",
        "x = tokenizer.texts_to_sequences(x)"
      ],
      "execution_count": 41,
      "outputs": []
    },
    {
      "cell_type": "code",
      "metadata": {
        "colab": {
          "base_uri": "https://localhost:8080/",
          "height": 296
        },
        "id": "1Fks-uHHLVfK",
        "outputId": "dc0f55e8-12a2-41bd-c663-d75b1ed3db65"
      },
      "source": [
        "# check the distribution of the number of sentence character length \n",
        "length_list=[] \n",
        "for i in x: \n",
        "  length_list.append(len(i))\n",
        "\n",
        "import matplotlib.pyplot as plt\n",
        "import numpy as np\n",
        "%matplotlib inline\n",
        "\n",
        "plt.hist(length_list, density=False, bins=30)  # `density=False` would make counts\n",
        "plt.ylabel('Frequency')\n",
        "plt.xlabel('sentence character length') "
      ],
      "execution_count": 42,
      "outputs": [
        {
          "output_type": "execute_result",
          "data": {
            "text/plain": [
              "Text(0.5, 0, 'sentence character length')"
            ]
          },
          "metadata": {
            "tags": []
          },
          "execution_count": 42
        },
        {
          "output_type": "display_data",
          "data": {
            "image/png": "[encoded data removed]",
            "text/plain": [
              "<Figure size 432x288 with 1 Axes>"
            ]
          },
          "metadata": {
            "tags": [],
            "needs_background": "light"
          }
        }
      ]
    },
    {
      "cell_type": "markdown",
      "metadata": {
        "id": "gqd07LazLw-x"
      },
      "source": [
        "According to the plot, most sentences have characters less than 200. So I will set maxlen=200 for padding"
      ]
    },
    {
      "cell_type": "code",
      "metadata": {
        "id": "nKyE1kXfLanO"
      },
      "source": [
        "max_features = 500\n",
        "maxlen =200\n",
        "x = sequence.pad_sequences(x, maxlen)"
      ],
      "execution_count": 43,
      "outputs": []
    },
    {
      "cell_type": "code",
      "metadata": {
        "id": "LeINok7TDeiN"
      },
      "source": [
        "x_train, x_test, y_train, y_test  = sklearn.model_selection.train_test_split(x, y, test_size=0.2, random_state=0)"
      ],
      "execution_count": 44,
      "outputs": []
    },
    {
      "cell_type": "code",
      "metadata": {
        "colab": {
          "base_uri": "https://localhost:8080/"
        },
        "id": "0K41K15NDeqb",
        "outputId": "a1afb243-6b89-4ca3-a927-8438997de1d2"
      },
      "source": [
        "x_train.shape"
      ],
      "execution_count": 45,
      "outputs": [
        {
          "output_type": "execute_result",
          "data": {
            "text/plain": [
              "(4457, 200)"
            ]
          },
          "metadata": {
            "tags": []
          },
          "execution_count": 45
        }
      ]
    },
    {
      "cell_type": "code",
      "metadata": {
        "id": "Feua9mSCF1t-"
      },
      "source": [
        "from keras.layers.convolutional import Conv1D\n",
        "from keras.layers import SpatialDropout1D, MaxPool1D\n",
        "from keras.models import Sequential \n",
        "from keras.optimizers import Adam  \n"
      ],
      "execution_count": 46,
      "outputs": []
    },
    {
      "cell_type": "code",
      "metadata": {
        "colab": {
          "base_uri": "https://localhost:8080/"
        },
        "id": "EefF8x4nDew2",
        "outputId": "343d884f-fadd-4276-c7cb-0f2d322e80fb"
      },
      "source": [
        "model_CNN = Sequential()\n",
        "model_CNN.add(Embedding(max_features, 128, input_length = maxlen))\n",
        "\n",
        "model_CNN.add(Conv1D(128,activation='relu', kernel_size=3,padding='valid'))\n",
        "model_CNN.add(SpatialDropout1D(0.1))\n",
        "model_CNN.add(MaxPool1D())\n",
        "\n",
        "model_CNN.add(Conv1D(64,activation='relu', kernel_size=3,padding='valid'))\n",
        "model_CNN.add(SpatialDropout1D(0.2))\n",
        "model_CNN.add(MaxPool1D())\n",
        "\n",
        "model_CNN.add(Conv1D(32,activation='relu', kernel_size=2,padding='valid'))\n",
        "model_CNN.add(SpatialDropout1D(0.2))\n",
        "model_CNN.add(MaxPool1D())\n",
        "\n",
        "model_CNN.add(Flatten())\n",
        "model_CNN.add(Dense(1, activation='sigmoid'))\n",
        "model_CNN.summary()"
      ],
      "execution_count": 47,
      "outputs": [
        {
          "output_type": "stream",
          "text": [
            "Model: \"sequential_3\"\n",
            "_________________________________________________________________\n",
            "Layer (type)                 Output Shape              Param #   \n",
            "=================================================================\n",
            "embedding_1 (Embedding)      (None, 200, 128)          64000     \n",
            "_________________________________________________________________\n",
            "conv1d (Conv1D)              (None, 198, 128)          49280     \n",
            "_________________________________________________________________\n",
            "spatial_dropout1d (SpatialDr (None, 198, 128)          0         \n",
            "_________________________________________________________________\n",
            "max_pooling1d (MaxPooling1D) (None, 99, 128)           0         \n",
            "_________________________________________________________________\n",
            "conv1d_1 (Conv1D)            (None, 97, 64)            24640     \n",
            "_________________________________________________________________\n",
            "spatial_dropout1d_1 (Spatial (None, 97, 64)            0         \n",
            "_________________________________________________________________\n",
            "max_pooling1d_1 (MaxPooling1 (None, 48, 64)            0         \n",
            "_________________________________________________________________\n",
            "conv1d_2 (Conv1D)            (None, 47, 32)            4128      \n",
            "_________________________________________________________________\n",
            "spatial_dropout1d_2 (Spatial (None, 47, 32)            0         \n",
            "_________________________________________________________________\n",
            "max_pooling1d_2 (MaxPooling1 (None, 23, 32)            0         \n",
            "_________________________________________________________________\n",
            "flatten_2 (Flatten)          (None, 736)               0         \n",
            "_________________________________________________________________\n",
            "dense_6 (Dense)              (None, 1)                 737       \n",
            "=================================================================\n",
            "Total params: 142,785\n",
            "Trainable params: 142,785\n",
            "Non-trainable params: 0\n",
            "_________________________________________________________________\n"
          ],
          "name": "stdout"
        }
      ]
    },
    {
      "cell_type": "code",
      "metadata": {
        "id": "4yyGA77EDe2S"
      },
      "source": [
        "model_CNN.compile(loss='binary_crossentropy',optimizer='adam', metrics=['accuracy'])"
      ],
      "execution_count": 48,
      "outputs": []
    },
    {
      "cell_type": "code",
      "metadata": {
        "colab": {
          "base_uri": "https://localhost:8080/"
        },
        "id": "ccFj4-KaDe0_",
        "outputId": "ff2c8e9b-dfeb-447e-ee85-8546df954fc1"
      },
      "source": [
        "model_CNN.fit(x_train, y_train, epochs=5, batch_size=64, validation_data=(x_test, y_test))"
      ],
      "execution_count": 49,
      "outputs": [
        {
          "output_type": "stream",
          "text": [
            "Epoch 1/5\n",
            "70/70 [==============================] - 1s 14ms/step - loss: 0.3192 - accuracy: 0.8773 - val_loss: 0.2528 - val_accuracy: 0.8601\n",
            "Epoch 2/5\n",
            "70/70 [==============================] - 1s 9ms/step - loss: 0.1616 - accuracy: 0.9432 - val_loss: 0.0763 - val_accuracy: 0.9794\n",
            "Epoch 3/5\n",
            "70/70 [==============================] - 1s 9ms/step - loss: 0.0876 - accuracy: 0.9735 - val_loss: 0.0631 - val_accuracy: 0.9821\n",
            "Epoch 4/5\n",
            "70/70 [==============================] - 1s 9ms/step - loss: 0.0709 - accuracy: 0.9785 - val_loss: 0.0621 - val_accuracy: 0.9839\n",
            "Epoch 5/5\n",
            "70/70 [==============================] - 1s 9ms/step - loss: 0.0639 - accuracy: 0.9800 - val_loss: 0.0549 - val_accuracy: 0.9839\n"
          ],
          "name": "stdout"
        },
        {
          "output_type": "execute_result",
          "data": {
            "text/plain": [
              "<tensorflow.python.keras.callbacks.History at 0x7f2288f63b70>"
            ]
          },
          "metadata": {
            "tags": []
          },
          "execution_count": 49
        }
      ]
    },
    {
      "cell_type": "markdown",
      "metadata": {
        "id": "ZL7P4ga97rsX"
      },
      "source": [
        "The model performance: \\\n",
        "Loss on training set is: 0.0639 \\\n",
        "Loss on testing set is: 0.0549 \\\n",
        "Accuracy on training set is: 0.9800 \\\n",
        "Accuracy on testing set is: 0.9839"
      ]
    },
    {
      "cell_type": "code",
      "metadata": {
        "id": "jssZztydWrMm"
      },
      "source": [
        "# Calculation for ROC Viz\n",
        "pred_y_cnn = model_CNN.predict(x_test).ravel()\n",
        "fpr_cnn, tpr_cnn, cnn_ = roc_curve(y_test, pred_y_cnn)\n",
        "auc_cnn = auc(fpr_cnn, tpr_cnn)"
      ],
      "execution_count": 50,
      "outputs": []
    },
    {
      "cell_type": "code",
      "metadata": {
        "id": "ENIEbJ_b7yaB"
      },
      "source": [
        ""
      ],
      "execution_count": 50,
      "outputs": []
    },
    {
      "cell_type": "markdown",
      "metadata": {
        "id": "7neI6g81Nv_B"
      },
      "source": [
        "## 3.3 ROC\n",
        "Be sure to directly compare your two methods with an ROC curve or similar validation method. Don’t forget to create a train-test split."
      ]
    },
    {
      "cell_type": "code",
      "metadata": {
        "id": "dN0EKrDxDeuc"
      },
      "source": [
        "from sklearn.metrics import roc_curve, auc\n",
        "# reference: https://stackoverflow.com/questions/25009284/how-to-plot-roc-curve-in-python"
      ],
      "execution_count": 51,
      "outputs": []
    },
    {
      "cell_type": "code",
      "metadata": {
        "colab": {
          "base_uri": "https://localhost:8080/",
          "height": 295
        },
        "id": "IxaBWuxoWVRM",
        "outputId": "ef190d9f-bf9a-402b-bdca-3e31ca72163c"
      },
      "source": [
        "plt.figure()\n",
        "plt.plot([0, 1], [0, 1], 'm--')\n",
        "plt.plot(fpr_rnn, tpr_rnn, label='RNN (area = {:.3f})'.format(auc_rnn))\n",
        "plt.plot(fpr_cnn, tpr_cnn, label='CNN (area = {:.3f})'.format(auc_cnn))\n",
        "plt.xlabel('False positive rate')\n",
        "plt.ylabel('True positive rate')\n",
        "plt.title('ROC curve')\n",
        "plt.legend(loc = 'lower right')\n",
        "plt.show()\n"
      ],
      "execution_count": 52,
      "outputs": [
        {
          "output_type": "display_data",
          "data": {
            "image/png": "[encoded data removed]",
            "text/plain": [
              "<Figure size 432x288 with 1 Axes>"
            ]
          },
          "metadata": {
            "tags": [],
            "needs_background": "light"
          }
        }
      ]
    },
    {
      "cell_type": "code",
      "metadata": {
        "id": "B6CdhYvTWVVB"
      },
      "source": [
        ""
      ],
      "execution_count": 52,
      "outputs": []
    },
    {
      "cell_type": "code",
      "metadata": {
        "id": "trsOyA6lWVYN"
      },
      "source": [
        ""
      ],
      "execution_count": 52,
      "outputs": []
    }
  ]
}