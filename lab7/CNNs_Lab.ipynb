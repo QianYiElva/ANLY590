{
  "nbformat": 4,
  "nbformat_minor": 0,
  "metadata": {
    "colab": {
      "name": "CNNs_Lab.ipynb",
      "provenance": [],
      "collapsed_sections": []
    },
    "kernelspec": {
      "display_name": "Python 3",
      "language": "python",
      "name": "python3"
    },
    "language_info": {
      "codemirror_mode": {
        "name": "ipython",
        "version": 3
      },
      "file_extension": ".py",
      "mimetype": "text/x-python",
      "name": "python",
      "nbconvert_exporter": "python",
      "pygments_lexer": "ipython3",
      "version": "3.7.3"
    },
    "widgets": {
      "application/vnd.jupyter.widget-state+json": {
        "52bc3a76caf942b6bd8a2b54be4df037": {
          "model_module": "@jupyter-widgets/controls",
          "model_name": "HBoxModel",
          "state": {
            "_view_name": "HBoxView",
            "_dom_classes": [],
            "_model_name": "HBoxModel",
            "_view_module": "@jupyter-widgets/controls",
            "_model_module_version": "1.5.0",
            "_view_count": null,
            "_view_module_version": "1.5.0",
            "box_style": "",
            "layout": "IPY_MODEL_d607ab20b8f14c86b2f001fbe4293adb",
            "_model_module": "@jupyter-widgets/controls",
            "children": [
              "IPY_MODEL_906a6a9b4ff64ac4bbca3426a5752367",
              "IPY_MODEL_75e8f00e6c9943eca7f74af104747d37"
            ]
          }
        },
        "d607ab20b8f14c86b2f001fbe4293adb": {
          "model_module": "@jupyter-widgets/base",
          "model_name": "LayoutModel",
          "state": {
            "_view_name": "LayoutView",
            "grid_template_rows": null,
            "right": null,
            "justify_content": null,
            "_view_module": "@jupyter-widgets/base",
            "overflow": null,
            "_model_module_version": "1.2.0",
            "_view_count": null,
            "flex_flow": null,
            "width": null,
            "min_width": null,
            "border": null,
            "align_items": null,
            "bottom": null,
            "_model_module": "@jupyter-widgets/base",
            "top": null,
            "grid_column": null,
            "overflow_y": null,
            "overflow_x": null,
            "grid_auto_flow": null,
            "grid_area": null,
            "grid_template_columns": null,
            "flex": null,
            "_model_name": "LayoutModel",
            "justify_items": null,
            "grid_row": null,
            "max_height": null,
            "align_content": null,
            "visibility": null,
            "align_self": null,
            "height": null,
            "min_height": null,
            "padding": null,
            "grid_auto_rows": null,
            "grid_gap": null,
            "max_width": null,
            "order": null,
            "_view_module_version": "1.2.0",
            "grid_template_areas": null,
            "object_position": null,
            "object_fit": null,
            "grid_auto_columns": null,
            "margin": null,
            "display": null,
            "left": null
          }
        },
        "906a6a9b4ff64ac4bbca3426a5752367": {
          "model_module": "@jupyter-widgets/controls",
          "model_name": "FloatProgressModel",
          "state": {
            "_view_name": "ProgressView",
            "style": "IPY_MODEL_98daae4518c140ab8890bb9ee891a36b",
            "_dom_classes": [],
            "description": "Dl Completed...: 100%",
            "_model_name": "FloatProgressModel",
            "bar_style": "success",
            "max": 4,
            "_view_module": "@jupyter-widgets/controls",
            "_model_module_version": "1.5.0",
            "value": 4,
            "_view_count": null,
            "_view_module_version": "1.5.0",
            "orientation": "horizontal",
            "min": 0,
            "description_tooltip": null,
            "_model_module": "@jupyter-widgets/controls",
            "layout": "IPY_MODEL_8452455b3b4943c3a2c6702347a3ff17"
          }
        },
        "75e8f00e6c9943eca7f74af104747d37": {
          "model_module": "@jupyter-widgets/controls",
          "model_name": "HTMLModel",
          "state": {
            "_view_name": "HTMLView",
            "style": "IPY_MODEL_51658662d4a2432d9c476e0900829566",
            "_dom_classes": [],
            "description": "",
            "_model_name": "HTMLModel",
            "placeholder": "​",
            "_view_module": "@jupyter-widgets/controls",
            "_model_module_version": "1.5.0",
            "value": " 4/4 [00:05&lt;00:00,  1.44s/ file]",
            "_view_count": null,
            "_view_module_version": "1.5.0",
            "description_tooltip": null,
            "_model_module": "@jupyter-widgets/controls",
            "layout": "IPY_MODEL_54fc0951efff4545be316cfbeb2093af"
          }
        },
        "98daae4518c140ab8890bb9ee891a36b": {
          "model_module": "@jupyter-widgets/controls",
          "model_name": "ProgressStyleModel",
          "state": {
            "_view_name": "StyleView",
            "_model_name": "ProgressStyleModel",
            "description_width": "initial",
            "_view_module": "@jupyter-widgets/base",
            "_model_module_version": "1.5.0",
            "_view_count": null,
            "_view_module_version": "1.2.0",
            "bar_color": null,
            "_model_module": "@jupyter-widgets/controls"
          }
        },
        "8452455b3b4943c3a2c6702347a3ff17": {
          "model_module": "@jupyter-widgets/base",
          "model_name": "LayoutModel",
          "state": {
            "_view_name": "LayoutView",
            "grid_template_rows": null,
            "right": null,
            "justify_content": null,
            "_view_module": "@jupyter-widgets/base",
            "overflow": null,
            "_model_module_version": "1.2.0",
            "_view_count": null,
            "flex_flow": null,
            "width": null,
            "min_width": null,
            "border": null,
            "align_items": null,
            "bottom": null,
            "_model_module": "@jupyter-widgets/base",
            "top": null,
            "grid_column": null,
            "overflow_y": null,
            "overflow_x": null,
            "grid_auto_flow": null,
            "grid_area": null,
            "grid_template_columns": null,
            "flex": null,
            "_model_name": "LayoutModel",
            "justify_items": null,
            "grid_row": null,
            "max_height": null,
            "align_content": null,
            "visibility": null,
            "align_self": null,
            "height": null,
            "min_height": null,
            "padding": null,
            "grid_auto_rows": null,
            "grid_gap": null,
            "max_width": null,
            "order": null,
            "_view_module_version": "1.2.0",
            "grid_template_areas": null,
            "object_position": null,
            "object_fit": null,
            "grid_auto_columns": null,
            "margin": null,
            "display": null,
            "left": null
          }
        },
        "51658662d4a2432d9c476e0900829566": {
          "model_module": "@jupyter-widgets/controls",
          "model_name": "DescriptionStyleModel",
          "state": {
            "_view_name": "StyleView",
            "_model_name": "DescriptionStyleModel",
            "description_width": "",
            "_view_module": "@jupyter-widgets/base",
            "_model_module_version": "1.5.0",
            "_view_count": null,
            "_view_module_version": "1.2.0",
            "_model_module": "@jupyter-widgets/controls"
          }
        },
        "54fc0951efff4545be316cfbeb2093af": {
          "model_module": "@jupyter-widgets/base",
          "model_name": "LayoutModel",
          "state": {
            "_view_name": "LayoutView",
            "grid_template_rows": null,
            "right": null,
            "justify_content": null,
            "_view_module": "@jupyter-widgets/base",
            "overflow": null,
            "_model_module_version": "1.2.0",
            "_view_count": null,
            "flex_flow": null,
            "width": null,
            "min_width": null,
            "border": null,
            "align_items": null,
            "bottom": null,
            "_model_module": "@jupyter-widgets/base",
            "top": null,
            "grid_column": null,
            "overflow_y": null,
            "overflow_x": null,
            "grid_auto_flow": null,
            "grid_area": null,
            "grid_template_columns": null,
            "flex": null,
            "_model_name": "LayoutModel",
            "justify_items": null,
            "grid_row": null,
            "max_height": null,
            "align_content": null,
            "visibility": null,
            "align_self": null,
            "height": null,
            "min_height": null,
            "padding": null,
            "grid_auto_rows": null,
            "grid_gap": null,
            "max_width": null,
            "order": null,
            "_view_module_version": "1.2.0",
            "grid_template_areas": null,
            "object_position": null,
            "object_fit": null,
            "grid_auto_columns": null,
            "margin": null,
            "display": null,
            "left": null
          }
        },
        "338744bb3fb84a06a4657f449333ab5d": {
          "model_module": "@jupyter-widgets/controls",
          "model_name": "HBoxModel",
          "state": {
            "_view_name": "HBoxView",
            "_dom_classes": [],
            "_model_name": "HBoxModel",
            "_view_module": "@jupyter-widgets/controls",
            "_model_module_version": "1.5.0",
            "_view_count": null,
            "_view_module_version": "1.5.0",
            "box_style": "",
            "layout": "IPY_MODEL_6e809955a39b4427bc22e064f33a2775",
            "_model_module": "@jupyter-widgets/controls",
            "children": [
              "IPY_MODEL_14e9b90362e64218964e4813701976b5",
              "IPY_MODEL_1d455bacae184c5e8878bddec6c3978d"
            ]
          }
        },
        "6e809955a39b4427bc22e064f33a2775": {
          "model_module": "@jupyter-widgets/base",
          "model_name": "LayoutModel",
          "state": {
            "_view_name": "LayoutView",
            "grid_template_rows": null,
            "right": null,
            "justify_content": null,
            "_view_module": "@jupyter-widgets/base",
            "overflow": null,
            "_model_module_version": "1.2.0",
            "_view_count": null,
            "flex_flow": null,
            "width": null,
            "min_width": null,
            "border": null,
            "align_items": null,
            "bottom": null,
            "_model_module": "@jupyter-widgets/base",
            "top": null,
            "grid_column": null,
            "overflow_y": null,
            "overflow_x": null,
            "grid_auto_flow": null,
            "grid_area": null,
            "grid_template_columns": null,
            "flex": null,
            "_model_name": "LayoutModel",
            "justify_items": null,
            "grid_row": null,
            "max_height": null,
            "align_content": null,
            "visibility": null,
            "align_self": null,
            "height": null,
            "min_height": null,
            "padding": null,
            "grid_auto_rows": null,
            "grid_gap": null,
            "max_width": null,
            "order": null,
            "_view_module_version": "1.2.0",
            "grid_template_areas": null,
            "object_position": null,
            "object_fit": null,
            "grid_auto_columns": null,
            "margin": null,
            "display": null,
            "left": null
          }
        },
        "14e9b90362e64218964e4813701976b5": {
          "model_module": "@jupyter-widgets/controls",
          "model_name": "FloatProgressModel",
          "state": {
            "_view_name": "ProgressView",
            "style": "IPY_MODEL_9e828ea27a5d40cf8d8d959cf93dccbc",
            "_dom_classes": [],
            "description": "Dl Completed...: 100%",
            "_model_name": "FloatProgressModel",
            "bar_style": "success",
            "max": 1,
            "_view_module": "@jupyter-widgets/controls",
            "_model_module_version": "1.5.0",
            "value": 1,
            "_view_count": null,
            "_view_module_version": "1.5.0",
            "orientation": "horizontal",
            "min": 0,
            "description_tooltip": null,
            "_model_module": "@jupyter-widgets/controls",
            "layout": "IPY_MODEL_159ca813fc734abcb81c8ab53b414b7c"
          }
        },
        "1d455bacae184c5e8878bddec6c3978d": {
          "model_module": "@jupyter-widgets/controls",
          "model_name": "HTMLModel",
          "state": {
            "_view_name": "HTMLView",
            "style": "IPY_MODEL_e9d5172df3004cd5b45dbdf75ae38f34",
            "_dom_classes": [],
            "description": "",
            "_model_name": "HTMLModel",
            "placeholder": "​",
            "_view_module": "@jupyter-widgets/controls",
            "_model_module_version": "1.5.0",
            "value": " 2/2 [00:03&lt;00:00,  1.66s/ url]",
            "_view_count": null,
            "_view_module_version": "1.5.0",
            "description_tooltip": null,
            "_model_module": "@jupyter-widgets/controls",
            "layout": "IPY_MODEL_e9a4279f34d947f09dcaeb0785180362"
          }
        },
        "9e828ea27a5d40cf8d8d959cf93dccbc": {
          "model_module": "@jupyter-widgets/controls",
          "model_name": "ProgressStyleModel",
          "state": {
            "_view_name": "StyleView",
            "_model_name": "ProgressStyleModel",
            "description_width": "initial",
            "_view_module": "@jupyter-widgets/base",
            "_model_module_version": "1.5.0",
            "_view_count": null,
            "_view_module_version": "1.2.0",
            "bar_color": null,
            "_model_module": "@jupyter-widgets/controls"
          }
        },
        "159ca813fc734abcb81c8ab53b414b7c": {
          "model_module": "@jupyter-widgets/base",
          "model_name": "LayoutModel",
          "state": {
            "_view_name": "LayoutView",
            "grid_template_rows": null,
            "right": null,
            "justify_content": null,
            "_view_module": "@jupyter-widgets/base",
            "overflow": null,
            "_model_module_version": "1.2.0",
            "_view_count": null,
            "flex_flow": null,
            "width": null,
            "min_width": null,
            "border": null,
            "align_items": null,
            "bottom": null,
            "_model_module": "@jupyter-widgets/base",
            "top": null,
            "grid_column": null,
            "overflow_y": null,
            "overflow_x": null,
            "grid_auto_flow": null,
            "grid_area": null,
            "grid_template_columns": null,
            "flex": null,
            "_model_name": "LayoutModel",
            "justify_items": null,
            "grid_row": null,
            "max_height": null,
            "align_content": null,
            "visibility": null,
            "align_self": null,
            "height": null,
            "min_height": null,
            "padding": null,
            "grid_auto_rows": null,
            "grid_gap": null,
            "max_width": null,
            "order": null,
            "_view_module_version": "1.2.0",
            "grid_template_areas": null,
            "object_position": null,
            "object_fit": null,
            "grid_auto_columns": null,
            "margin": null,
            "display": null,
            "left": null
          }
        },
        "e9d5172df3004cd5b45dbdf75ae38f34": {
          "model_module": "@jupyter-widgets/controls",
          "model_name": "DescriptionStyleModel",
          "state": {
            "_view_name": "StyleView",
            "_model_name": "DescriptionStyleModel",
            "description_width": "",
            "_view_module": "@jupyter-widgets/base",
            "_model_module_version": "1.5.0",
            "_view_count": null,
            "_view_module_version": "1.2.0",
            "_model_module": "@jupyter-widgets/controls"
          }
        },
        "e9a4279f34d947f09dcaeb0785180362": {
          "model_module": "@jupyter-widgets/base",
          "model_name": "LayoutModel",
          "state": {
            "_view_name": "LayoutView",
            "grid_template_rows": null,
            "right": null,
            "justify_content": null,
            "_view_module": "@jupyter-widgets/base",
            "overflow": null,
            "_model_module_version": "1.2.0",
            "_view_count": null,
            "flex_flow": null,
            "width": null,
            "min_width": null,
            "border": null,
            "align_items": null,
            "bottom": null,
            "_model_module": "@jupyter-widgets/base",
            "top": null,
            "grid_column": null,
            "overflow_y": null,
            "overflow_x": null,
            "grid_auto_flow": null,
            "grid_area": null,
            "grid_template_columns": null,
            "flex": null,
            "_model_name": "LayoutModel",
            "justify_items": null,
            "grid_row": null,
            "max_height": null,
            "align_content": null,
            "visibility": null,
            "align_self": null,
            "height": null,
            "min_height": null,
            "padding": null,
            "grid_auto_rows": null,
            "grid_gap": null,
            "max_width": null,
            "order": null,
            "_view_module_version": "1.2.0",
            "grid_template_areas": null,
            "object_position": null,
            "object_fit": null,
            "grid_auto_columns": null,
            "margin": null,
            "display": null,
            "left": null
          }
        },
        "6c1e0c36f103491786e302253c301014": {
          "model_module": "@jupyter-widgets/controls",
          "model_name": "HBoxModel",
          "state": {
            "_view_name": "HBoxView",
            "_dom_classes": [],
            "_model_name": "HBoxModel",
            "_view_module": "@jupyter-widgets/controls",
            "_model_module_version": "1.5.0",
            "_view_count": null,
            "_view_module_version": "1.5.0",
            "box_style": "",
            "layout": "IPY_MODEL_7a8510daed504ad2aff49fddd3c99a01",
            "_model_module": "@jupyter-widgets/controls",
            "children": [
              "IPY_MODEL_e6b353ead5c94ae4b97e22d4ee01c553",
              "IPY_MODEL_2a081f7e519f42a2bedb5d7d5bb971c5"
            ]
          }
        },
        "7a8510daed504ad2aff49fddd3c99a01": {
          "model_module": "@jupyter-widgets/base",
          "model_name": "LayoutModel",
          "state": {
            "_view_name": "LayoutView",
            "grid_template_rows": null,
            "right": null,
            "justify_content": null,
            "_view_module": "@jupyter-widgets/base",
            "overflow": null,
            "_model_module_version": "1.2.0",
            "_view_count": null,
            "flex_flow": null,
            "width": null,
            "min_width": null,
            "border": null,
            "align_items": null,
            "bottom": null,
            "_model_module": "@jupyter-widgets/base",
            "top": null,
            "grid_column": null,
            "overflow_y": null,
            "overflow_x": null,
            "grid_auto_flow": null,
            "grid_area": null,
            "grid_template_columns": null,
            "flex": null,
            "_model_name": "LayoutModel",
            "justify_items": null,
            "grid_row": null,
            "max_height": null,
            "align_content": null,
            "visibility": null,
            "align_self": null,
            "height": null,
            "min_height": null,
            "padding": null,
            "grid_auto_rows": null,
            "grid_gap": null,
            "max_width": null,
            "order": null,
            "_view_module_version": "1.2.0",
            "grid_template_areas": null,
            "object_position": null,
            "object_fit": null,
            "grid_auto_columns": null,
            "margin": null,
            "display": null,
            "left": null
          }
        },
        "e6b353ead5c94ae4b97e22d4ee01c553": {
          "model_module": "@jupyter-widgets/controls",
          "model_name": "FloatProgressModel",
          "state": {
            "_view_name": "ProgressView",
            "style": "IPY_MODEL_770230a5ce174026baab1c0a552d8a22",
            "_dom_classes": [],
            "description": "Dl Size...: 100%",
            "_model_name": "FloatProgressModel",
            "bar_style": "success",
            "max": 1,
            "_view_module": "@jupyter-widgets/controls",
            "_model_module_version": "1.5.0",
            "value": 1,
            "_view_count": null,
            "_view_module_version": "1.5.0",
            "orientation": "horizontal",
            "min": 0,
            "description_tooltip": null,
            "_model_module": "@jupyter-widgets/controls",
            "layout": "IPY_MODEL_bdced0602fcf40cdb5e41ad4e6ed906e"
          }
        },
        "2a081f7e519f42a2bedb5d7d5bb971c5": {
          "model_module": "@jupyter-widgets/controls",
          "model_name": "HTMLModel",
          "state": {
            "_view_name": "HTMLView",
            "style": "IPY_MODEL_1e9aa6595f42401fb9bc397fcdf71b4a",
            "_dom_classes": [],
            "description": "",
            "_model_name": "HTMLModel",
            "placeholder": "​",
            "_view_module": "@jupyter-widgets/controls",
            "_model_module_version": "1.5.0",
            "value": " 219/219 [00:03&lt;00:00, 66.59 MiB/s]",
            "_view_count": null,
            "_view_module_version": "1.5.0",
            "description_tooltip": null,
            "_model_module": "@jupyter-widgets/controls",
            "layout": "IPY_MODEL_6801b0b35b524a089ef61b935638a2ae"
          }
        },
        "770230a5ce174026baab1c0a552d8a22": {
          "model_module": "@jupyter-widgets/controls",
          "model_name": "ProgressStyleModel",
          "state": {
            "_view_name": "StyleView",
            "_model_name": "ProgressStyleModel",
            "description_width": "initial",
            "_view_module": "@jupyter-widgets/base",
            "_model_module_version": "1.5.0",
            "_view_count": null,
            "_view_module_version": "1.2.0",
            "bar_color": null,
            "_model_module": "@jupyter-widgets/controls"
          }
        },
        "bdced0602fcf40cdb5e41ad4e6ed906e": {
          "model_module": "@jupyter-widgets/base",
          "model_name": "LayoutModel",
          "state": {
            "_view_name": "LayoutView",
            "grid_template_rows": null,
            "right": null,
            "justify_content": null,
            "_view_module": "@jupyter-widgets/base",
            "overflow": null,
            "_model_module_version": "1.2.0",
            "_view_count": null,
            "flex_flow": null,
            "width": null,
            "min_width": null,
            "border": null,
            "align_items": null,
            "bottom": null,
            "_model_module": "@jupyter-widgets/base",
            "top": null,
            "grid_column": null,
            "overflow_y": null,
            "overflow_x": null,
            "grid_auto_flow": null,
            "grid_area": null,
            "grid_template_columns": null,
            "flex": null,
            "_model_name": "LayoutModel",
            "justify_items": null,
            "grid_row": null,
            "max_height": null,
            "align_content": null,
            "visibility": null,
            "align_self": null,
            "height": null,
            "min_height": null,
            "padding": null,
            "grid_auto_rows": null,
            "grid_gap": null,
            "max_width": null,
            "order": null,
            "_view_module_version": "1.2.0",
            "grid_template_areas": null,
            "object_position": null,
            "object_fit": null,
            "grid_auto_columns": null,
            "margin": null,
            "display": null,
            "left": null
          }
        },
        "1e9aa6595f42401fb9bc397fcdf71b4a": {
          "model_module": "@jupyter-widgets/controls",
          "model_name": "DescriptionStyleModel",
          "state": {
            "_view_name": "StyleView",
            "_model_name": "DescriptionStyleModel",
            "description_width": "",
            "_view_module": "@jupyter-widgets/base",
            "_model_module_version": "1.5.0",
            "_view_count": null,
            "_view_module_version": "1.2.0",
            "_model_module": "@jupyter-widgets/controls"
          }
        },
        "6801b0b35b524a089ef61b935638a2ae": {
          "model_module": "@jupyter-widgets/base",
          "model_name": "LayoutModel",
          "state": {
            "_view_name": "LayoutView",
            "grid_template_rows": null,
            "right": null,
            "justify_content": null,
            "_view_module": "@jupyter-widgets/base",
            "overflow": null,
            "_model_module_version": "1.2.0",
            "_view_count": null,
            "flex_flow": null,
            "width": null,
            "min_width": null,
            "border": null,
            "align_items": null,
            "bottom": null,
            "_model_module": "@jupyter-widgets/base",
            "top": null,
            "grid_column": null,
            "overflow_y": null,
            "overflow_x": null,
            "grid_auto_flow": null,
            "grid_area": null,
            "grid_template_columns": null,
            "flex": null,
            "_model_name": "LayoutModel",
            "justify_items": null,
            "grid_row": null,
            "max_height": null,
            "align_content": null,
            "visibility": null,
            "align_self": null,
            "height": null,
            "min_height": null,
            "padding": null,
            "grid_auto_rows": null,
            "grid_gap": null,
            "max_width": null,
            "order": null,
            "_view_module_version": "1.2.0",
            "grid_template_areas": null,
            "object_position": null,
            "object_fit": null,
            "grid_auto_columns": null,
            "margin": null,
            "display": null,
            "left": null
          }
        },
        "8087ddce2bac444199112d1e8847e284": {
          "model_module": "@jupyter-widgets/controls",
          "model_name": "HBoxModel",
          "state": {
            "_view_name": "HBoxView",
            "_dom_classes": [],
            "_model_name": "HBoxModel",
            "_view_module": "@jupyter-widgets/controls",
            "_model_module_version": "1.5.0",
            "_view_count": null,
            "_view_module_version": "1.5.0",
            "box_style": "",
            "layout": "IPY_MODEL_5f53120661ae407e9056b109d574a20e",
            "_model_module": "@jupyter-widgets/controls",
            "children": [
              "IPY_MODEL_99e582bd6c674badb505c4d2b33e6f7e",
              "IPY_MODEL_3ceae97adb86476989268c60bcc2a00b"
            ]
          }
        },
        "5f53120661ae407e9056b109d574a20e": {
          "model_module": "@jupyter-widgets/base",
          "model_name": "LayoutModel",
          "state": {
            "_view_name": "LayoutView",
            "grid_template_rows": null,
            "right": null,
            "justify_content": null,
            "_view_module": "@jupyter-widgets/base",
            "overflow": null,
            "_model_module_version": "1.2.0",
            "_view_count": null,
            "flex_flow": null,
            "width": null,
            "min_width": null,
            "border": null,
            "align_items": null,
            "bottom": null,
            "_model_module": "@jupyter-widgets/base",
            "top": null,
            "grid_column": null,
            "overflow_y": null,
            "overflow_x": null,
            "grid_auto_flow": null,
            "grid_area": null,
            "grid_template_columns": null,
            "flex": null,
            "_model_name": "LayoutModel",
            "justify_items": null,
            "grid_row": null,
            "max_height": null,
            "align_content": null,
            "visibility": null,
            "align_self": null,
            "height": null,
            "min_height": null,
            "padding": null,
            "grid_auto_rows": null,
            "grid_gap": null,
            "max_width": null,
            "order": null,
            "_view_module_version": "1.2.0",
            "grid_template_areas": null,
            "object_position": null,
            "object_fit": null,
            "grid_auto_columns": null,
            "margin": null,
            "display": null,
            "left": null
          }
        },
        "99e582bd6c674badb505c4d2b33e6f7e": {
          "model_module": "@jupyter-widgets/controls",
          "model_name": "FloatProgressModel",
          "state": {
            "_view_name": "ProgressView",
            "style": "IPY_MODEL_82a994937f004dd08d1fb6e1719666e5",
            "_dom_classes": [],
            "description": "",
            "_model_name": "FloatProgressModel",
            "bar_style": "info",
            "max": 1,
            "_view_module": "@jupyter-widgets/controls",
            "_model_module_version": "1.5.0",
            "value": 1,
            "_view_count": null,
            "_view_module_version": "1.5.0",
            "orientation": "horizontal",
            "min": 0,
            "description_tooltip": null,
            "_model_module": "@jupyter-widgets/controls",
            "layout": "IPY_MODEL_37aed74622f34809ad64198b11fddb7d"
          }
        },
        "3ceae97adb86476989268c60bcc2a00b": {
          "model_module": "@jupyter-widgets/controls",
          "model_name": "HTMLModel",
          "state": {
            "_view_name": "HTMLView",
            "style": "IPY_MODEL_dc498455dfcf4900901d4c1e5e768df6",
            "_dom_classes": [],
            "description": "",
            "_model_name": "HTMLModel",
            "placeholder": "​",
            "_view_module": "@jupyter-widgets/controls",
            "_model_module_version": "1.5.0",
            "value": " 2520/0 [00:01&lt;00:00, 1815.42 examples/s]",
            "_view_count": null,
            "_view_module_version": "1.5.0",
            "description_tooltip": null,
            "_model_module": "@jupyter-widgets/controls",
            "layout": "IPY_MODEL_4a313c42718f4774baae66515b42cb02"
          }
        },
        "82a994937f004dd08d1fb6e1719666e5": {
          "model_module": "@jupyter-widgets/controls",
          "model_name": "ProgressStyleModel",
          "state": {
            "_view_name": "StyleView",
            "_model_name": "ProgressStyleModel",
            "description_width": "initial",
            "_view_module": "@jupyter-widgets/base",
            "_model_module_version": "1.5.0",
            "_view_count": null,
            "_view_module_version": "1.2.0",
            "bar_color": null,
            "_model_module": "@jupyter-widgets/controls"
          }
        },
        "37aed74622f34809ad64198b11fddb7d": {
          "model_module": "@jupyter-widgets/base",
          "model_name": "LayoutModel",
          "state": {
            "_view_name": "LayoutView",
            "grid_template_rows": null,
            "right": null,
            "justify_content": null,
            "_view_module": "@jupyter-widgets/base",
            "overflow": null,
            "_model_module_version": "1.2.0",
            "_view_count": null,
            "flex_flow": null,
            "width": null,
            "min_width": null,
            "border": null,
            "align_items": null,
            "bottom": null,
            "_model_module": "@jupyter-widgets/base",
            "top": null,
            "grid_column": null,
            "overflow_y": null,
            "overflow_x": null,
            "grid_auto_flow": null,
            "grid_area": null,
            "grid_template_columns": null,
            "flex": null,
            "_model_name": "LayoutModel",
            "justify_items": null,
            "grid_row": null,
            "max_height": null,
            "align_content": null,
            "visibility": null,
            "align_self": null,
            "height": null,
            "min_height": null,
            "padding": null,
            "grid_auto_rows": null,
            "grid_gap": null,
            "max_width": null,
            "order": null,
            "_view_module_version": "1.2.0",
            "grid_template_areas": null,
            "object_position": null,
            "object_fit": null,
            "grid_auto_columns": null,
            "margin": null,
            "display": null,
            "left": null
          }
        },
        "dc498455dfcf4900901d4c1e5e768df6": {
          "model_module": "@jupyter-widgets/controls",
          "model_name": "DescriptionStyleModel",
          "state": {
            "_view_name": "StyleView",
            "_model_name": "DescriptionStyleModel",
            "description_width": "",
            "_view_module": "@jupyter-widgets/base",
            "_model_module_version": "1.5.0",
            "_view_count": null,
            "_view_module_version": "1.2.0",
            "_model_module": "@jupyter-widgets/controls"
          }
        },
        "4a313c42718f4774baae66515b42cb02": {
          "model_module": "@jupyter-widgets/base",
          "model_name": "LayoutModel",
          "state": {
            "_view_name": "LayoutView",
            "grid_template_rows": null,
            "right": null,
            "justify_content": null,
            "_view_module": "@jupyter-widgets/base",
            "overflow": null,
            "_model_module_version": "1.2.0",
            "_view_count": null,
            "flex_flow": null,
            "width": null,
            "min_width": null,
            "border": null,
            "align_items": null,
            "bottom": null,
            "_model_module": "@jupyter-widgets/base",
            "top": null,
            "grid_column": null,
            "overflow_y": null,
            "overflow_x": null,
            "grid_auto_flow": null,
            "grid_area": null,
            "grid_template_columns": null,
            "flex": null,
            "_model_name": "LayoutModel",
            "justify_items": null,
            "grid_row": null,
            "max_height": null,
            "align_content": null,
            "visibility": null,
            "align_self": null,
            "height": null,
            "min_height": null,
            "padding": null,
            "grid_auto_rows": null,
            "grid_gap": null,
            "max_width": null,
            "order": null,
            "_view_module_version": "1.2.0",
            "grid_template_areas": null,
            "object_position": null,
            "object_fit": null,
            "grid_auto_columns": null,
            "margin": null,
            "display": null,
            "left": null
          }
        },
        "ecbb92346fe640f095854f9a7ff9161c": {
          "model_module": "@jupyter-widgets/controls",
          "model_name": "HBoxModel",
          "state": {
            "_view_name": "HBoxView",
            "_dom_classes": [],
            "_model_name": "HBoxModel",
            "_view_module": "@jupyter-widgets/controls",
            "_model_module_version": "1.5.0",
            "_view_count": null,
            "_view_module_version": "1.5.0",
            "box_style": "",
            "layout": "IPY_MODEL_948893a4ba2c4528923ebc896e2b026a",
            "_model_module": "@jupyter-widgets/controls",
            "children": [
              "IPY_MODEL_d3c56764ea324cb3a34dec033e5e775b",
              "IPY_MODEL_d5ece49e523b421798502b4349baf82c"
            ]
          }
        },
        "948893a4ba2c4528923ebc896e2b026a": {
          "model_module": "@jupyter-widgets/base",
          "model_name": "LayoutModel",
          "state": {
            "_view_name": "LayoutView",
            "grid_template_rows": null,
            "right": null,
            "justify_content": null,
            "_view_module": "@jupyter-widgets/base",
            "overflow": null,
            "_model_module_version": "1.2.0",
            "_view_count": null,
            "flex_flow": null,
            "width": null,
            "min_width": null,
            "border": null,
            "align_items": null,
            "bottom": null,
            "_model_module": "@jupyter-widgets/base",
            "top": null,
            "grid_column": null,
            "overflow_y": null,
            "overflow_x": null,
            "grid_auto_flow": null,
            "grid_area": null,
            "grid_template_columns": null,
            "flex": null,
            "_model_name": "LayoutModel",
            "justify_items": null,
            "grid_row": null,
            "max_height": null,
            "align_content": null,
            "visibility": null,
            "align_self": null,
            "height": null,
            "min_height": null,
            "padding": null,
            "grid_auto_rows": null,
            "grid_gap": null,
            "max_width": null,
            "order": null,
            "_view_module_version": "1.2.0",
            "grid_template_areas": null,
            "object_position": null,
            "object_fit": null,
            "grid_auto_columns": null,
            "margin": null,
            "display": null,
            "left": null
          }
        },
        "d3c56764ea324cb3a34dec033e5e775b": {
          "model_module": "@jupyter-widgets/controls",
          "model_name": "FloatProgressModel",
          "state": {
            "_view_name": "ProgressView",
            "style": "IPY_MODEL_9c63f4c1c79e4838b7b82941dd050c49",
            "_dom_classes": [],
            "description": " 83%",
            "_model_name": "FloatProgressModel",
            "bar_style": "danger",
            "max": 2520,
            "_view_module": "@jupyter-widgets/controls",
            "_model_module_version": "1.5.0",
            "value": 2096,
            "_view_count": null,
            "_view_module_version": "1.5.0",
            "orientation": "horizontal",
            "min": 0,
            "description_tooltip": null,
            "_model_module": "@jupyter-widgets/controls",
            "layout": "IPY_MODEL_0b8ca5f645c242d0bd3c96e238083650"
          }
        },
        "d5ece49e523b421798502b4349baf82c": {
          "model_module": "@jupyter-widgets/controls",
          "model_name": "HTMLModel",
          "state": {
            "_view_name": "HTMLView",
            "style": "IPY_MODEL_960c83f256004e3c8785a07ae73797a8",
            "_dom_classes": [],
            "description": "",
            "_model_name": "HTMLModel",
            "placeholder": "​",
            "_view_module": "@jupyter-widgets/controls",
            "_model_module_version": "1.5.0",
            "value": " 2096/2520 [00:00&lt;00:00, 6850.42 examples/s]",
            "_view_count": null,
            "_view_module_version": "1.5.0",
            "description_tooltip": null,
            "_model_module": "@jupyter-widgets/controls",
            "layout": "IPY_MODEL_3b8da380d986417394c4a5e73068d31a"
          }
        },
        "9c63f4c1c79e4838b7b82941dd050c49": {
          "model_module": "@jupyter-widgets/controls",
          "model_name": "ProgressStyleModel",
          "state": {
            "_view_name": "StyleView",
            "_model_name": "ProgressStyleModel",
            "description_width": "initial",
            "_view_module": "@jupyter-widgets/base",
            "_model_module_version": "1.5.0",
            "_view_count": null,
            "_view_module_version": "1.2.0",
            "bar_color": null,
            "_model_module": "@jupyter-widgets/controls"
          }
        },
        "0b8ca5f645c242d0bd3c96e238083650": {
          "model_module": "@jupyter-widgets/base",
          "model_name": "LayoutModel",
          "state": {
            "_view_name": "LayoutView",
            "grid_template_rows": null,
            "right": null,
            "justify_content": null,
            "_view_module": "@jupyter-widgets/base",
            "overflow": null,
            "_model_module_version": "1.2.0",
            "_view_count": null,
            "flex_flow": null,
            "width": null,
            "min_width": null,
            "border": null,
            "align_items": null,
            "bottom": null,
            "_model_module": "@jupyter-widgets/base",
            "top": null,
            "grid_column": null,
            "overflow_y": null,
            "overflow_x": null,
            "grid_auto_flow": null,
            "grid_area": null,
            "grid_template_columns": null,
            "flex": null,
            "_model_name": "LayoutModel",
            "justify_items": null,
            "grid_row": null,
            "max_height": null,
            "align_content": null,
            "visibility": null,
            "align_self": null,
            "height": null,
            "min_height": null,
            "padding": null,
            "grid_auto_rows": null,
            "grid_gap": null,
            "max_width": null,
            "order": null,
            "_view_module_version": "1.2.0",
            "grid_template_areas": null,
            "object_position": null,
            "object_fit": null,
            "grid_auto_columns": null,
            "margin": null,
            "display": null,
            "left": null
          }
        },
        "960c83f256004e3c8785a07ae73797a8": {
          "model_module": "@jupyter-widgets/controls",
          "model_name": "DescriptionStyleModel",
          "state": {
            "_view_name": "StyleView",
            "_model_name": "DescriptionStyleModel",
            "description_width": "",
            "_view_module": "@jupyter-widgets/base",
            "_model_module_version": "1.5.0",
            "_view_count": null,
            "_view_module_version": "1.2.0",
            "_model_module": "@jupyter-widgets/controls"
          }
        },
        "3b8da380d986417394c4a5e73068d31a": {
          "model_module": "@jupyter-widgets/base",
          "model_name": "LayoutModel",
          "state": {
            "_view_name": "LayoutView",
            "grid_template_rows": null,
            "right": null,
            "justify_content": null,
            "_view_module": "@jupyter-widgets/base",
            "overflow": null,
            "_model_module_version": "1.2.0",
            "_view_count": null,
            "flex_flow": null,
            "width": null,
            "min_width": null,
            "border": null,
            "align_items": null,
            "bottom": null,
            "_model_module": "@jupyter-widgets/base",
            "top": null,
            "grid_column": null,
            "overflow_y": null,
            "overflow_x": null,
            "grid_auto_flow": null,
            "grid_area": null,
            "grid_template_columns": null,
            "flex": null,
            "_model_name": "LayoutModel",
            "justify_items": null,
            "grid_row": null,
            "max_height": null,
            "align_content": null,
            "visibility": null,
            "align_self": null,
            "height": null,
            "min_height": null,
            "padding": null,
            "grid_auto_rows": null,
            "grid_gap": null,
            "max_width": null,
            "order": null,
            "_view_module_version": "1.2.0",
            "grid_template_areas": null,
            "object_position": null,
            "object_fit": null,
            "grid_auto_columns": null,
            "margin": null,
            "display": null,
            "left": null
          }
        },
        "fe7d833d08e949b0af0ce4aa81b93e86": {
          "model_module": "@jupyter-widgets/controls",
          "model_name": "HBoxModel",
          "state": {
            "_view_name": "HBoxView",
            "_dom_classes": [],
            "_model_name": "HBoxModel",
            "_view_module": "@jupyter-widgets/controls",
            "_model_module_version": "1.5.0",
            "_view_count": null,
            "_view_module_version": "1.5.0",
            "box_style": "",
            "layout": "IPY_MODEL_f829f100269847e687f643714820cba7",
            "_model_module": "@jupyter-widgets/controls",
            "children": [
              "IPY_MODEL_72b1da109c954a52977a057195f46dbd",
              "IPY_MODEL_381c52488c33445aa4b9ad1b6b642595"
            ]
          }
        },
        "f829f100269847e687f643714820cba7": {
          "model_module": "@jupyter-widgets/base",
          "model_name": "LayoutModel",
          "state": {
            "_view_name": "LayoutView",
            "grid_template_rows": null,
            "right": null,
            "justify_content": null,
            "_view_module": "@jupyter-widgets/base",
            "overflow": null,
            "_model_module_version": "1.2.0",
            "_view_count": null,
            "flex_flow": null,
            "width": null,
            "min_width": null,
            "border": null,
            "align_items": null,
            "bottom": null,
            "_model_module": "@jupyter-widgets/base",
            "top": null,
            "grid_column": null,
            "overflow_y": null,
            "overflow_x": null,
            "grid_auto_flow": null,
            "grid_area": null,
            "grid_template_columns": null,
            "flex": null,
            "_model_name": "LayoutModel",
            "justify_items": null,
            "grid_row": null,
            "max_height": null,
            "align_content": null,
            "visibility": null,
            "align_self": null,
            "height": null,
            "min_height": null,
            "padding": null,
            "grid_auto_rows": null,
            "grid_gap": null,
            "max_width": null,
            "order": null,
            "_view_module_version": "1.2.0",
            "grid_template_areas": null,
            "object_position": null,
            "object_fit": null,
            "grid_auto_columns": null,
            "margin": null,
            "display": null,
            "left": null
          }
        },
        "72b1da109c954a52977a057195f46dbd": {
          "model_module": "@jupyter-widgets/controls",
          "model_name": "FloatProgressModel",
          "state": {
            "_view_name": "ProgressView",
            "style": "IPY_MODEL_0df0d81eb9864f6e9499ee652bdbbc7d",
            "_dom_classes": [],
            "description": "",
            "_model_name": "FloatProgressModel",
            "bar_style": "info",
            "max": 1,
            "_view_module": "@jupyter-widgets/controls",
            "_model_module_version": "1.5.0",
            "value": 1,
            "_view_count": null,
            "_view_module_version": "1.5.0",
            "orientation": "horizontal",
            "min": 0,
            "description_tooltip": null,
            "_model_module": "@jupyter-widgets/controls",
            "layout": "IPY_MODEL_fe66dd71b6a24ce9bf5c2271dbc1d034"
          }
        },
        "381c52488c33445aa4b9ad1b6b642595": {
          "model_module": "@jupyter-widgets/controls",
          "model_name": "HTMLModel",
          "state": {
            "_view_name": "HTMLView",
            "style": "IPY_MODEL_27fd68fad610459780e7a96e0a81eaaf",
            "_dom_classes": [],
            "description": "",
            "_model_name": "HTMLModel",
            "placeholder": "​",
            "_view_module": "@jupyter-widgets/controls",
            "_model_module_version": "1.5.0",
            "value": " 372/0 [00:00&lt;00:00, 1076.86 examples/s]",
            "_view_count": null,
            "_view_module_version": "1.5.0",
            "description_tooltip": null,
            "_model_module": "@jupyter-widgets/controls",
            "layout": "IPY_MODEL_66b57e9d30e44ad58d9506206512babd"
          }
        },
        "0df0d81eb9864f6e9499ee652bdbbc7d": {
          "model_module": "@jupyter-widgets/controls",
          "model_name": "ProgressStyleModel",
          "state": {
            "_view_name": "StyleView",
            "_model_name": "ProgressStyleModel",
            "description_width": "initial",
            "_view_module": "@jupyter-widgets/base",
            "_model_module_version": "1.5.0",
            "_view_count": null,
            "_view_module_version": "1.2.0",
            "bar_color": null,
            "_model_module": "@jupyter-widgets/controls"
          }
        },
        "fe66dd71b6a24ce9bf5c2271dbc1d034": {
          "model_module": "@jupyter-widgets/base",
          "model_name": "LayoutModel",
          "state": {
            "_view_name": "LayoutView",
            "grid_template_rows": null,
            "right": null,
            "justify_content": null,
            "_view_module": "@jupyter-widgets/base",
            "overflow": null,
            "_model_module_version": "1.2.0",
            "_view_count": null,
            "flex_flow": null,
            "width": null,
            "min_width": null,
            "border": null,
            "align_items": null,
            "bottom": null,
            "_model_module": "@jupyter-widgets/base",
            "top": null,
            "grid_column": null,
            "overflow_y": null,
            "overflow_x": null,
            "grid_auto_flow": null,
            "grid_area": null,
            "grid_template_columns": null,
            "flex": null,
            "_model_name": "LayoutModel",
            "justify_items": null,
            "grid_row": null,
            "max_height": null,
            "align_content": null,
            "visibility": null,
            "align_self": null,
            "height": null,
            "min_height": null,
            "padding": null,
            "grid_auto_rows": null,
            "grid_gap": null,
            "max_width": null,
            "order": null,
            "_view_module_version": "1.2.0",
            "grid_template_areas": null,
            "object_position": null,
            "object_fit": null,
            "grid_auto_columns": null,
            "margin": null,
            "display": null,
            "left": null
          }
        },
        "27fd68fad610459780e7a96e0a81eaaf": {
          "model_module": "@jupyter-widgets/controls",
          "model_name": "DescriptionStyleModel",
          "state": {
            "_view_name": "StyleView",
            "_model_name": "DescriptionStyleModel",
            "description_width": "",
            "_view_module": "@jupyter-widgets/base",
            "_model_module_version": "1.5.0",
            "_view_count": null,
            "_view_module_version": "1.2.0",
            "_model_module": "@jupyter-widgets/controls"
          }
        },
        "66b57e9d30e44ad58d9506206512babd": {
          "model_module": "@jupyter-widgets/base",
          "model_name": "LayoutModel",
          "state": {
            "_view_name": "LayoutView",
            "grid_template_rows": null,
            "right": null,
            "justify_content": null,
            "_view_module": "@jupyter-widgets/base",
            "overflow": null,
            "_model_module_version": "1.2.0",
            "_view_count": null,
            "flex_flow": null,
            "width": null,
            "min_width": null,
            "border": null,
            "align_items": null,
            "bottom": null,
            "_model_module": "@jupyter-widgets/base",
            "top": null,
            "grid_column": null,
            "overflow_y": null,
            "overflow_x": null,
            "grid_auto_flow": null,
            "grid_area": null,
            "grid_template_columns": null,
            "flex": null,
            "_model_name": "LayoutModel",
            "justify_items": null,
            "grid_row": null,
            "max_height": null,
            "align_content": null,
            "visibility": null,
            "align_self": null,
            "height": null,
            "min_height": null,
            "padding": null,
            "grid_auto_rows": null,
            "grid_gap": null,
            "max_width": null,
            "order": null,
            "_view_module_version": "1.2.0",
            "grid_template_areas": null,
            "object_position": null,
            "object_fit": null,
            "grid_auto_columns": null,
            "margin": null,
            "display": null,
            "left": null
          }
        },
        "2a8682b8d472414ea3afbcb744de1df4": {
          "model_module": "@jupyter-widgets/controls",
          "model_name": "HBoxModel",
          "state": {
            "_view_name": "HBoxView",
            "_dom_classes": [],
            "_model_name": "HBoxModel",
            "_view_module": "@jupyter-widgets/controls",
            "_model_module_version": "1.5.0",
            "_view_count": null,
            "_view_module_version": "1.5.0",
            "box_style": "",
            "layout": "IPY_MODEL_623b386e09e04a8fb119359e4b19a592",
            "_model_module": "@jupyter-widgets/controls",
            "children": [
              "IPY_MODEL_a9e8ff8daaf542039aa8fb977e3929fd",
              "IPY_MODEL_bd40c5104d7c4845bfd81684ae17a022"
            ]
          }
        },
        "623b386e09e04a8fb119359e4b19a592": {
          "model_module": "@jupyter-widgets/base",
          "model_name": "LayoutModel",
          "state": {
            "_view_name": "LayoutView",
            "grid_template_rows": null,
            "right": null,
            "justify_content": null,
            "_view_module": "@jupyter-widgets/base",
            "overflow": null,
            "_model_module_version": "1.2.0",
            "_view_count": null,
            "flex_flow": null,
            "width": null,
            "min_width": null,
            "border": null,
            "align_items": null,
            "bottom": null,
            "_model_module": "@jupyter-widgets/base",
            "top": null,
            "grid_column": null,
            "overflow_y": null,
            "overflow_x": null,
            "grid_auto_flow": null,
            "grid_area": null,
            "grid_template_columns": null,
            "flex": null,
            "_model_name": "LayoutModel",
            "justify_items": null,
            "grid_row": null,
            "max_height": null,
            "align_content": null,
            "visibility": null,
            "align_self": null,
            "height": null,
            "min_height": null,
            "padding": null,
            "grid_auto_rows": null,
            "grid_gap": null,
            "max_width": null,
            "order": null,
            "_view_module_version": "1.2.0",
            "grid_template_areas": null,
            "object_position": null,
            "object_fit": null,
            "grid_auto_columns": null,
            "margin": null,
            "display": null,
            "left": null
          }
        },
        "a9e8ff8daaf542039aa8fb977e3929fd": {
          "model_module": "@jupyter-widgets/controls",
          "model_name": "FloatProgressModel",
          "state": {
            "_view_name": "ProgressView",
            "style": "IPY_MODEL_9702690bd09949e593d3925ce049115d",
            "_dom_classes": [],
            "description": "  0%",
            "_model_name": "FloatProgressModel",
            "bar_style": "danger",
            "max": 372,
            "_view_module": "@jupyter-widgets/controls",
            "_model_module_version": "1.5.0",
            "value": 0,
            "_view_count": null,
            "_view_module_version": "1.5.0",
            "orientation": "horizontal",
            "min": 0,
            "description_tooltip": null,
            "_model_module": "@jupyter-widgets/controls",
            "layout": "IPY_MODEL_244461f009c34659b9bec340f79125e9"
          }
        },
        "bd40c5104d7c4845bfd81684ae17a022": {
          "model_module": "@jupyter-widgets/controls",
          "model_name": "HTMLModel",
          "state": {
            "_view_name": "HTMLView",
            "style": "IPY_MODEL_ad62007e251f4658be65ac0297a974a6",
            "_dom_classes": [],
            "description": "",
            "_model_name": "HTMLModel",
            "placeholder": "​",
            "_view_module": "@jupyter-widgets/controls",
            "_model_module_version": "1.5.0",
            "value": " 0/372 [00:00&lt;?, ? examples/s]",
            "_view_count": null,
            "_view_module_version": "1.5.0",
            "description_tooltip": null,
            "_model_module": "@jupyter-widgets/controls",
            "layout": "IPY_MODEL_4590f2317bd04745b0010fbce0b795d8"
          }
        },
        "9702690bd09949e593d3925ce049115d": {
          "model_module": "@jupyter-widgets/controls",
          "model_name": "ProgressStyleModel",
          "state": {
            "_view_name": "StyleView",
            "_model_name": "ProgressStyleModel",
            "description_width": "initial",
            "_view_module": "@jupyter-widgets/base",
            "_model_module_version": "1.5.0",
            "_view_count": null,
            "_view_module_version": "1.2.0",
            "bar_color": null,
            "_model_module": "@jupyter-widgets/controls"
          }
        },
        "244461f009c34659b9bec340f79125e9": {
          "model_module": "@jupyter-widgets/base",
          "model_name": "LayoutModel",
          "state": {
            "_view_name": "LayoutView",
            "grid_template_rows": null,
            "right": null,
            "justify_content": null,
            "_view_module": "@jupyter-widgets/base",
            "overflow": null,
            "_model_module_version": "1.2.0",
            "_view_count": null,
            "flex_flow": null,
            "width": null,
            "min_width": null,
            "border": null,
            "align_items": null,
            "bottom": null,
            "_model_module": "@jupyter-widgets/base",
            "top": null,
            "grid_column": null,
            "overflow_y": null,
            "overflow_x": null,
            "grid_auto_flow": null,
            "grid_area": null,
            "grid_template_columns": null,
            "flex": null,
            "_model_name": "LayoutModel",
            "justify_items": null,
            "grid_row": null,
            "max_height": null,
            "align_content": null,
            "visibility": null,
            "align_self": null,
            "height": null,
            "min_height": null,
            "padding": null,
            "grid_auto_rows": null,
            "grid_gap": null,
            "max_width": null,
            "order": null,
            "_view_module_version": "1.2.0",
            "grid_template_areas": null,
            "object_position": null,
            "object_fit": null,
            "grid_auto_columns": null,
            "margin": null,
            "display": null,
            "left": null
          }
        },
        "ad62007e251f4658be65ac0297a974a6": {
          "model_module": "@jupyter-widgets/controls",
          "model_name": "DescriptionStyleModel",
          "state": {
            "_view_name": "StyleView",
            "_model_name": "DescriptionStyleModel",
            "description_width": "",
            "_view_module": "@jupyter-widgets/base",
            "_model_module_version": "1.5.0",
            "_view_count": null,
            "_view_module_version": "1.2.0",
            "_model_module": "@jupyter-widgets/controls"
          }
        },
        "4590f2317bd04745b0010fbce0b795d8": {
          "model_module": "@jupyter-widgets/base",
          "model_name": "LayoutModel",
          "state": {
            "_view_name": "LayoutView",
            "grid_template_rows": null,
            "right": null,
            "justify_content": null,
            "_view_module": "@jupyter-widgets/base",
            "overflow": null,
            "_model_module_version": "1.2.0",
            "_view_count": null,
            "flex_flow": null,
            "width": null,
            "min_width": null,
            "border": null,
            "align_items": null,
            "bottom": null,
            "_model_module": "@jupyter-widgets/base",
            "top": null,
            "grid_column": null,
            "overflow_y": null,
            "overflow_x": null,
            "grid_auto_flow": null,
            "grid_area": null,
            "grid_template_columns": null,
            "flex": null,
            "_model_name": "LayoutModel",
            "justify_items": null,
            "grid_row": null,
            "max_height": null,
            "align_content": null,
            "visibility": null,
            "align_self": null,
            "height": null,
            "min_height": null,
            "padding": null,
            "grid_auto_rows": null,
            "grid_gap": null,
            "max_width": null,
            "order": null,
            "_view_module_version": "1.2.0",
            "grid_template_areas": null,
            "object_position": null,
            "object_fit": null,
            "grid_auto_columns": null,
            "margin": null,
            "display": null,
            "left": null
          }
        }
      }
    },
    "accelerator": "GPU"
  },
  "cells": [
    {
      "cell_type": "code",
      "metadata": {
        "id": "7oeTRribu75d"
      },
      "source": [
        "import numpy as np\n",
        "import matplotlib.pyplot as plt\n",
        "import tensorflow as tf\n",
        "import tensorflow.keras as tfk\n",
        "import tensorflow_datasets as tfds\n",
        "from tensorflow.data.experimental import sample_from_datasets\n",
        "\n",
        "tfkl = tfk.layers"
      ],
      "execution_count": 2,
      "outputs": []
    },
    {
      "cell_type": "markdown",
      "metadata": {
        "id": "Qv0GpRAru98a"
      },
      "source": [
        "**Preprocessing**\n",
        "\n",
        "As typical, we'll start with the MNIST data. Recall from last time, we have to do some transformations and preprocessing on these images."
      ]
    },
    {
      "cell_type": "code",
      "metadata": {
        "id": "VzZgrGQivHMh",
        "outputId": "bd79f4ac-9869-4f6b-c1a3-d177e9cfa228",
        "colab": {
          "base_uri": "https://localhost:8080/",
          "height": 225,
          "referenced_widgets": [
            "52bc3a76caf942b6bd8a2b54be4df037",
            "d607ab20b8f14c86b2f001fbe4293adb",
            "906a6a9b4ff64ac4bbca3426a5752367",
            "75e8f00e6c9943eca7f74af104747d37",
            "98daae4518c140ab8890bb9ee891a36b",
            "8452455b3b4943c3a2c6702347a3ff17",
            "51658662d4a2432d9c476e0900829566",
            "54fc0951efff4545be316cfbeb2093af"
          ]
        }
      },
      "source": [
        "data, info = tfds.load('mnist', with_info=True)"
      ],
      "execution_count": 3,
      "outputs": [
        {
          "output_type": "stream",
          "text": [
            "\u001b[1mDownloading and preparing dataset mnist/3.0.1 (download: 11.06 MiB, generated: 21.00 MiB, total: 32.06 MiB) to /root/tensorflow_datasets/mnist/3.0.1...\u001b[0m\n"
          ],
          "name": "stdout"
        },
        {
          "output_type": "stream",
          "text": [
            "WARNING:absl:Dataset mnist is hosted on GCS. It will automatically be downloaded to your\n",
            "local data directory. If you'd instead prefer to read directly from our public\n",
            "GCS bucket (recommended if you're running on GCP), you can instead pass\n",
            "`try_gcs=True` to `tfds.load` or set `data_dir=gs://tfds-data/datasets`.\n",
            "\n"
          ],
          "name": "stderr"
        },
        {
          "output_type": "display_data",
          "data": {
            "application/vnd.jupyter.widget-view+json": {
              "model_id": "52bc3a76caf942b6bd8a2b54be4df037",
              "version_minor": 0,
              "version_major": 2
            },
            "text/plain": [
              "HBox(children=(FloatProgress(value=0.0, description='Dl Completed...', max=4.0, style=ProgressStyle(descriptio…"
            ]
          },
          "metadata": {
            "tags": []
          }
        },
        {
          "output_type": "stream",
          "text": [
            "\n",
            "\n",
            "\u001b[1mDataset mnist downloaded and prepared to /root/tensorflow_datasets/mnist/3.0.1. Subsequent calls will reuse this data.\u001b[0m\n"
          ],
          "name": "stdout"
        }
      ]
    },
    {
      "cell_type": "code",
      "metadata": {
        "id": "9UIPvj-sFxU2"
      },
      "source": [
        "preprocess = lambda d: (tf.cast(d[\"image\"], tf.float32)/255, tf.one_hot(d[\"label\"], depth=10))\n",
        "\n",
        "ds_train = data[\"train\"].map(preprocess).cache().batch(32)\n",
        "ds_test = data[\"test\"].map(preprocess).cache().batch(32)"
      ],
      "execution_count": 4,
      "outputs": []
    },
    {
      "cell_type": "code",
      "metadata": {
        "id": "rVxvHMXTGzXo"
      },
      "source": [
        "img_shape = info.features['image'].shape"
      ],
      "execution_count": 5,
      "outputs": []
    },
    {
      "cell_type": "code",
      "metadata": {
        "id": "9k9r8vw9HDNt",
        "outputId": "40342a30-e8ee-4832-884f-f702f83d314a",
        "colab": {
          "base_uri": "https://localhost:8080/"
        }
      },
      "source": [
        "img_shape"
      ],
      "execution_count": 6,
      "outputs": [
        {
          "output_type": "execute_result",
          "data": {
            "text/plain": [
              "(28, 28, 1)"
            ]
          },
          "metadata": {
            "tags": []
          },
          "execution_count": 6
        }
      ]
    },
    {
      "cell_type": "markdown",
      "metadata": {
        "id": "CWYDJz0tWnH2"
      },
      "source": [
        "**CNNs in TF Keras**\n",
        "\n",
        "We'll use the Sequential class rely on new layer types that correspond to concepts we covered in lecture: Conv2D, AvgPool2D, MaxPool2D. \n",
        "\n",
        "Details such as kernel size, padding, strides and so on must be specified as args to these classes, where appropriate."
      ]
    },
    {
      "cell_type": "code",
      "metadata": {
        "id": "B9DgLXVCHDt7"
      },
      "source": [
        "model = tfk.Sequential()\n",
        "model.add(tfkl.Conv2D(filters = 1, kernel_size=(3,3), strides=(1,1), \n",
        "                      padding=\"valid\", activation='relu', input_shape=(28, 28, 1)))\n",
        "model.add(tfkl.MaxPool2D(pool_size=(4,4)))\n",
        "model.add(tfkl.Flatten())\n",
        "model.add(tfkl.Dense(10, activation='softmax'))"
      ],
      "execution_count": 7,
      "outputs": []
    },
    {
      "cell_type": "code",
      "metadata": {
        "id": "2Af5cnJ9JDvA",
        "outputId": "cbf948d2-f150-4f1a-ff20-7db63893b7e9",
        "colab": {
          "base_uri": "https://localhost:8080/"
        }
      },
      "source": [
        "model.summary()"
      ],
      "execution_count": 8,
      "outputs": [
        {
          "output_type": "stream",
          "text": [
            "Model: \"sequential\"\n",
            "_________________________________________________________________\n",
            "Layer (type)                 Output Shape              Param #   \n",
            "=================================================================\n",
            "conv2d (Conv2D)              (None, 26, 26, 1)         10        \n",
            "_________________________________________________________________\n",
            "max_pooling2d (MaxPooling2D) (None, 6, 6, 1)           0         \n",
            "_________________________________________________________________\n",
            "flatten (Flatten)            (None, 36)                0         \n",
            "_________________________________________________________________\n",
            "dense (Dense)                (None, 10)                370       \n",
            "=================================================================\n",
            "Total params: 380\n",
            "Trainable params: 380\n",
            "Non-trainable params: 0\n",
            "_________________________________________________________________\n"
          ],
          "name": "stdout"
        }
      ]
    },
    {
      "cell_type": "code",
      "metadata": {
        "id": "p5W4C452HThh",
        "outputId": "f41e7e8d-62d1-4197-e121-010b6dca5a14",
        "colab": {
          "base_uri": "https://localhost:8080/"
        }
      },
      "source": [
        "model.compile(\n",
        "    optimizer=tfk.optimizers.RMSprop(),\n",
        "    loss=tfk.losses.CategoricalCrossentropy(),\n",
        ")\n",
        "\n",
        "results = model.fit(ds_train, steps_per_epoch=20, epochs=20, validation_data=ds_test)"
      ],
      "execution_count": 9,
      "outputs": [
        {
          "output_type": "stream",
          "text": [
            "Epoch 1/20\n",
            "20/20 [==============================] - 2s 85ms/step - loss: 2.7760 - val_loss: 2.6310\n",
            "Epoch 2/20\n",
            "20/20 [==============================] - 1s 32ms/step - loss: 2.5744 - val_loss: 2.4594\n",
            "Epoch 3/20\n",
            "20/20 [==============================] - 1s 33ms/step - loss: 2.3962 - val_loss: 2.3713\n",
            "Epoch 4/20\n",
            "20/20 [==============================] - 1s 33ms/step - loss: 2.3355 - val_loss: 2.3068\n",
            "Epoch 5/20\n",
            "20/20 [==============================] - 1s 33ms/step - loss: 2.3064 - val_loss: 2.2660\n",
            "Epoch 6/20\n",
            "20/20 [==============================] - 1s 33ms/step - loss: 2.2550 - val_loss: 2.2322\n",
            "Epoch 7/20\n",
            "20/20 [==============================] - 1s 33ms/step - loss: 2.2181 - val_loss: 2.1950\n",
            "Epoch 8/20\n",
            "20/20 [==============================] - 1s 33ms/step - loss: 2.1901 - val_loss: 2.1505\n",
            "Epoch 9/20\n",
            "20/20 [==============================] - 1s 33ms/step - loss: 2.1211 - val_loss: 2.0955\n",
            "Epoch 10/20\n",
            "20/20 [==============================] - 1s 33ms/step - loss: 2.0990 - val_loss: 2.0369\n",
            "Epoch 11/20\n",
            "20/20 [==============================] - 1s 33ms/step - loss: 2.0214 - val_loss: 1.9719\n",
            "Epoch 12/20\n",
            "20/20 [==============================] - 1s 32ms/step - loss: 1.9286 - val_loss: 1.9005\n",
            "Epoch 13/20\n",
            "20/20 [==============================] - 1s 34ms/step - loss: 1.8906 - val_loss: 1.8279\n",
            "Epoch 14/20\n",
            "20/20 [==============================] - 1s 33ms/step - loss: 1.7857 - val_loss: 1.7511\n",
            "Epoch 15/20\n",
            "20/20 [==============================] - 1s 32ms/step - loss: 1.7293 - val_loss: 1.6742\n",
            "Epoch 16/20\n",
            "20/20 [==============================] - 1s 32ms/step - loss: 1.6545 - val_loss: 1.5969\n",
            "Epoch 17/20\n",
            "20/20 [==============================] - 1s 33ms/step - loss: 1.5894 - val_loss: 1.5205\n",
            "Epoch 18/20\n",
            "20/20 [==============================] - 1s 32ms/step - loss: 1.4916 - val_loss: 1.4509\n",
            "Epoch 19/20\n",
            "20/20 [==============================] - 1s 33ms/step - loss: 1.4912 - val_loss: 1.3803\n",
            "Epoch 20/20\n",
            "20/20 [==============================] - 1s 32ms/step - loss: 1.3701 - val_loss: 1.3224\n"
          ],
          "name": "stdout"
        }
      ]
    },
    {
      "cell_type": "code",
      "metadata": {
        "id": "VT_6GoNOH1MC",
        "outputId": "6b87bed1-88ee-4715-fdeb-60356f135be7",
        "colab": {
          "base_uri": "https://localhost:8080/",
          "height": 282
        }
      },
      "source": [
        "plt.plot(results.history[\"loss\"])\n",
        "plt.plot(results.history[\"val_loss\"])\n",
        "plt.legend(labels=[\"train\", \"val\"])"
      ],
      "execution_count": 10,
      "outputs": [
        {
          "output_type": "execute_result",
          "data": {
            "text/plain": [
              "<matplotlib.legend.Legend at 0x7f029050e550>"
            ]
          },
          "metadata": {
            "tags": []
          },
          "execution_count": 10
        },
        {
          "output_type": "display_data",
          "data": {
            "image/png": "[encoded data removed]",
            "text/plain": [
              "<Figure size 432x288 with 1 Axes>"
            ]
          },
          "metadata": {
            "tags": [],
            "needs_background": "light"
          }
        }
      ]
    },
    {
      "cell_type": "code",
      "metadata": {
        "id": "9s7VuiBmPNuB",
        "outputId": "1dd3b91b-6848-45b3-83b3-4999c60fc7cc",
        "colab": {
          "base_uri": "https://localhost:8080/",
          "height": 351
        }
      },
      "source": [
        "plt.stem(model.predict(ds_test.take(1))[9, :])\n",
        "plt.xlabel(\"Digit\")\n",
        "plt.xlabel(\"Probability\")"
      ],
      "execution_count": 11,
      "outputs": [
        {
          "output_type": "stream",
          "text": [
            "/usr/local/lib/python3.6/dist-packages/ipykernel_launcher.py:1: UserWarning: In Matplotlib 3.3 individual lines on a stem plot will be added as a LineCollection instead of individual lines. This significantly improves the performance of a stem plot. To remove this warning and switch to the new behaviour, set the \"use_line_collection\" keyword argument to True.\n",
            "  \"\"\"Entry point for launching an IPython kernel.\n"
          ],
          "name": "stderr"
        },
        {
          "output_type": "execute_result",
          "data": {
            "text/plain": [
              "Text(0.5, 0, 'Probability')"
            ]
          },
          "metadata": {
            "tags": []
          },
          "execution_count": 11
        },
        {
          "output_type": "display_data",
          "data": {
            "image/png": "[encoded data removed]",
            "text/plain": [
              "<Figure size 432x288 with 1 Axes>"
            ]
          },
          "metadata": {
            "tags": [],
            "needs_background": "light"
          }
        }
      ]
    },
    {
      "cell_type": "markdown",
      "metadata": {
        "id": "WBc0TsgEWcd2"
      },
      "source": [
        "Which architectural hyperparameters might we change in the above?"
      ]
    },
    {
      "cell_type": "markdown",
      "metadata": {
        "id": "PBY6bJSeIPYC"
      },
      "source": [
        "\n",
        "\n",
        "**Exercise - Deep CNN**\n",
        "\n",
        "Build and fit your own CNN model with 3 convolutional **modules**, where each one contains:\n",
        "  * kernel convolution \n",
        "    * you pick number of kernels\n",
        "    * you pick kernel shape/size\n",
        "    * you pick activation\n",
        "  * pooling\n",
        "  * dropout\n",
        "\n",
        "We'll use the Fashion MNIST dataset, a low-res collection of images of clothing."
      ]
    },
    {
      "cell_type": "code",
      "metadata": {
        "id": "BbhcW5QAN2Tz",
        "outputId": "5ee21187-75cb-4bcf-a390-5e0fe2c68957",
        "colab": {
          "base_uri": "https://localhost:8080/"
        }
      },
      "source": [
        "train, test = tf.keras.datasets.fashion_mnist.load_data()\n",
        "\n",
        "images, labels = train\n",
        "images = images/255.0\n",
        "images = images[:, :, :, np.newaxis]\n",
        "labels = tf.one_hot(labels.astype(np.int32),depth=10)\n",
        "\n",
        "# optional - TF Datasets objects\n",
        "#fmnist_train_ds = tf.data.Dataset.from_tensor_slices((images, labels))\n",
        "#fmnist_train_ds = fmnist_train_ds.shuffle(5000).batch(32)\n"
      ],
      "execution_count": 12,
      "outputs": [
        {
          "output_type": "stream",
          "text": [
            "Downloading data from https://storage.googleapis.com/tensorflow/tf-keras-datasets/train-labels-idx1-ubyte.gz\n",
            "32768/29515 [=================================] - 0s 0us/step\n",
            "Downloading data from https://storage.googleapis.com/tensorflow/tf-keras-datasets/train-images-idx3-ubyte.gz\n",
            "26427392/26421880 [==============================] - 0s 0us/step\n",
            "Downloading data from https://storage.googleapis.com/tensorflow/tf-keras-datasets/t10k-labels-idx1-ubyte.gz\n",
            "8192/5148 [===============================================] - 0s 0us/step\n",
            "Downloading data from https://storage.googleapis.com/tensorflow/tf-keras-datasets/t10k-images-idx3-ubyte.gz\n",
            "4423680/4422102 [==============================] - 0s 0us/step\n"
          ],
          "name": "stdout"
        }
      ]
    },
    {
      "cell_type": "code",
      "metadata": {
        "id": "1MuMplQkR_Z5",
        "outputId": "3cb492c8-a824-4bbd-8dc5-17f3eb875e01",
        "colab": {
          "base_uri": "https://localhost:8080/"
        }
      },
      "source": [
        "labels"
      ],
      "execution_count": 13,
      "outputs": [
        {
          "output_type": "execute_result",
          "data": {
            "text/plain": [
              "<tf.Tensor: shape=(60000, 10), dtype=float32, numpy=\n",
              "array([[0., 0., 0., ..., 0., 0., 1.],\n",
              "       [1., 0., 0., ..., 0., 0., 0.],\n",
              "       [1., 0., 0., ..., 0., 0., 0.],\n",
              "       ...,\n",
              "       [0., 0., 0., ..., 0., 0., 0.],\n",
              "       [1., 0., 0., ..., 0., 0., 0.],\n",
              "       [0., 0., 0., ..., 0., 0., 0.]], dtype=float32)>"
            ]
          },
          "metadata": {
            "tags": []
          },
          "execution_count": 13
        }
      ]
    },
    {
      "cell_type": "code",
      "metadata": {
        "id": "-B589FNlTKOR",
        "outputId": "23230228-e9a5-4223-eb53-33846d31879b",
        "colab": {
          "base_uri": "https://localhost:8080/",
          "height": 282
        }
      },
      "source": [
        "plt.imshow(images[3, :, :, :].squeeze())"
      ],
      "execution_count": 14,
      "outputs": [
        {
          "output_type": "execute_result",
          "data": {
            "text/plain": [
              "<matplotlib.image.AxesImage at 0x7f024a03d748>"
            ]
          },
          "metadata": {
            "tags": []
          },
          "execution_count": 14
        },
        {
          "output_type": "display_data",
          "data": {
            "image/png": "[encoded data removed]",
            "text/plain": [
              "<Figure size 432x288 with 1 Axes>"
            ]
          },
          "metadata": {
            "tags": [],
            "needs_background": "light"
          }
        }
      ]
    },
    {
      "cell_type": "code",
      "metadata": {
        "id": "hJK4H78OOWZG"
      },
      "source": [
        "# your code here\n",
        "model = tfk.Sequential()\n",
        "\n",
        "# block 1\n",
        "model.add(tfkl.Conv2D(filters = 32, kernel_size=2, strides=2, \n",
        "                      padding=\"valid\", activation='relu', input_shape=(28, 28, 1)))\n",
        "model.add(tfkl.MaxPool2D(pool_size=2))\n",
        "model.add(tfkl.Dropout(.2))\n",
        "\n",
        "# block 2\n",
        "model.add(tfkl.Conv2D(filters = 16, kernel_size=2, strides=1, \n",
        "                      padding=\"valid\", activation='relu'))\n",
        "model.add(tfkl.MaxPool2D(pool_size=2))\n",
        "model.add(tfkl.Dropout(.2))\n",
        "\n",
        "# block 3\n",
        "model.add(tfkl.Conv2D(filters = 8, kernel_size=2, strides=1, \n",
        "                      padding=\"valid\", activation='relu'))\n",
        "model.add(tfkl.MaxPool2D(pool_size=2))\n",
        "model.add(tfkl.Dropout(.2))\n",
        "\n",
        "model.add(tfkl.Flatten())\n",
        "model.add(tfkl.Dense(10, activation='softmax'))"
      ],
      "execution_count": 15,
      "outputs": []
    },
    {
      "cell_type": "code",
      "metadata": {
        "id": "AqXl9GhGR_aH",
        "outputId": "4b2dc4a0-03ba-4eff-ffea-652fe01ff9b3",
        "colab": {
          "base_uri": "https://localhost:8080/"
        }
      },
      "source": [
        "model.compile(\n",
        "    optimizer=tfk.optimizers.RMSprop(),\n",
        "    loss=tfk.losses.CategoricalCrossentropy(),\n",
        ")\n",
        "\n",
        "results = model.fit(ds_train, steps_per_epoch=20, epochs=20, validation_data=ds_test)"
      ],
      "execution_count": 16,
      "outputs": [
        {
          "output_type": "stream",
          "text": [
            "Epoch 1/20\n",
            "20/20 [==============================] - 1s 40ms/step - loss: 2.3133 - val_loss: 2.3014\n",
            "Epoch 2/20\n",
            "20/20 [==============================] - 1s 35ms/step - loss: 2.2996 - val_loss: 2.2992\n",
            "Epoch 3/20\n",
            "20/20 [==============================] - 1s 35ms/step - loss: 2.2876 - val_loss: 2.2865\n",
            "Epoch 4/20\n",
            "20/20 [==============================] - 1s 35ms/step - loss: 2.2925 - val_loss: 2.2808\n",
            "Epoch 5/20\n",
            "20/20 [==============================] - 1s 35ms/step - loss: 2.2815 - val_loss: 2.2656\n",
            "Epoch 6/20\n",
            "20/20 [==============================] - 1s 35ms/step - loss: 2.2788 - val_loss: 2.2535\n",
            "Epoch 7/20\n",
            "20/20 [==============================] - 1s 35ms/step - loss: 2.2557 - val_loss: 2.2320\n",
            "Epoch 8/20\n",
            "20/20 [==============================] - 1s 37ms/step - loss: 2.2565 - val_loss: 2.2167\n",
            "Epoch 9/20\n",
            "20/20 [==============================] - 1s 35ms/step - loss: 2.2247 - val_loss: 2.1923\n",
            "Epoch 10/20\n",
            "20/20 [==============================] - 1s 37ms/step - loss: 2.2298 - val_loss: 2.1720\n",
            "Epoch 11/20\n",
            "20/20 [==============================] - 1s 35ms/step - loss: 2.1858 - val_loss: 2.1210\n",
            "Epoch 12/20\n",
            "20/20 [==============================] - 1s 34ms/step - loss: 2.1313 - val_loss: 2.0738\n",
            "Epoch 13/20\n",
            "20/20 [==============================] - 1s 35ms/step - loss: 2.1295 - val_loss: 2.0518\n",
            "Epoch 14/20\n",
            "20/20 [==============================] - 1s 35ms/step - loss: 2.0886 - val_loss: 1.9996\n",
            "Epoch 15/20\n",
            "20/20 [==============================] - 1s 35ms/step - loss: 2.0306 - val_loss: 1.9605\n",
            "Epoch 16/20\n",
            "20/20 [==============================] - 1s 34ms/step - loss: 2.0045 - val_loss: 1.8988\n",
            "Epoch 17/20\n",
            "20/20 [==============================] - 1s 35ms/step - loss: 1.9874 - val_loss: 1.8675\n",
            "Epoch 18/20\n",
            "20/20 [==============================] - 1s 35ms/step - loss: 1.9779 - val_loss: 1.8236\n",
            "Epoch 19/20\n",
            "20/20 [==============================] - 1s 33ms/step - loss: 1.9430 - val_loss: 1.7978\n",
            "Epoch 20/20\n",
            "20/20 [==============================] - 1s 35ms/step - loss: 1.9352 - val_loss: 1.7607\n"
          ],
          "name": "stdout"
        }
      ]
    },
    {
      "cell_type": "code",
      "metadata": {
        "id": "wq5GZQ8nR_aL",
        "outputId": "bf8abbb9-9325-442d-a5b7-e3e18cd2f48d",
        "colab": {
          "base_uri": "https://localhost:8080/",
          "height": 351
        }
      },
      "source": [
        "plt.stem(model.predict(ds_test.take(1))[9, :])\n",
        "plt.xlabel(\"Digit\")\n",
        "plt.xlabel(\"Probability\")"
      ],
      "execution_count": 17,
      "outputs": [
        {
          "output_type": "stream",
          "text": [
            "/usr/local/lib/python3.6/dist-packages/ipykernel_launcher.py:1: UserWarning: In Matplotlib 3.3 individual lines on a stem plot will be added as a LineCollection instead of individual lines. This significantly improves the performance of a stem plot. To remove this warning and switch to the new behaviour, set the \"use_line_collection\" keyword argument to True.\n",
            "  \"\"\"Entry point for launching an IPython kernel.\n"
          ],
          "name": "stderr"
        },
        {
          "output_type": "execute_result",
          "data": {
            "text/plain": [
              "Text(0.5, 0, 'Probability')"
            ]
          },
          "metadata": {
            "tags": []
          },
          "execution_count": 17
        },
        {
          "output_type": "display_data",
          "data": {
            "image/png": "[encoded data removed]",
            "text/plain": [
              "<Figure size 432x288 with 1 Axes>"
            ]
          },
          "metadata": {
            "tags": [],
            "needs_background": "light"
          }
        }
      ]
    },
    {
      "cell_type": "markdown",
      "metadata": {
        "id": "W12xD44Q-EdB"
      },
      "source": [
        ""
      ]
    },
    {
      "cell_type": "markdown",
      "metadata": {
        "id": "g9eYdiPA-EhK"
      },
      "source": [
        "\n",
        "#|**Exercise - Transfer Learning**\n",
        "\n"
      ]
    },
    {
      "cell_type": "code",
      "metadata": {
        "id": "DkUc8JGCIGWo",
        "outputId": "57712667-19c5-4777-e897-13e27b22723e",
        "colab": {
          "base_uri": "https://localhost:8080/",
          "height": 304,
          "referenced_widgets": [
            "338744bb3fb84a06a4657f449333ab5d",
            "6e809955a39b4427bc22e064f33a2775",
            "14e9b90362e64218964e4813701976b5",
            "1d455bacae184c5e8878bddec6c3978d",
            "9e828ea27a5d40cf8d8d959cf93dccbc",
            "159ca813fc734abcb81c8ab53b414b7c",
            "e9d5172df3004cd5b45dbdf75ae38f34",
            "e9a4279f34d947f09dcaeb0785180362",
            "6c1e0c36f103491786e302253c301014",
            "7a8510daed504ad2aff49fddd3c99a01",
            "e6b353ead5c94ae4b97e22d4ee01c553",
            "2a081f7e519f42a2bedb5d7d5bb971c5",
            "770230a5ce174026baab1c0a552d8a22",
            "bdced0602fcf40cdb5e41ad4e6ed906e",
            "1e9aa6595f42401fb9bc397fcdf71b4a",
            "6801b0b35b524a089ef61b935638a2ae",
            "8087ddce2bac444199112d1e8847e284",
            "5f53120661ae407e9056b109d574a20e",
            "99e582bd6c674badb505c4d2b33e6f7e",
            "3ceae97adb86476989268c60bcc2a00b",
            "82a994937f004dd08d1fb6e1719666e5",
            "37aed74622f34809ad64198b11fddb7d",
            "dc498455dfcf4900901d4c1e5e768df6",
            "4a313c42718f4774baae66515b42cb02",
            "ecbb92346fe640f095854f9a7ff9161c",
            "948893a4ba2c4528923ebc896e2b026a",
            "d3c56764ea324cb3a34dec033e5e775b",
            "d5ece49e523b421798502b4349baf82c",
            "9c63f4c1c79e4838b7b82941dd050c49",
            "0b8ca5f645c242d0bd3c96e238083650",
            "960c83f256004e3c8785a07ae73797a8",
            "3b8da380d986417394c4a5e73068d31a",
            "fe7d833d08e949b0af0ce4aa81b93e86",
            "f829f100269847e687f643714820cba7",
            "72b1da109c954a52977a057195f46dbd",
            "381c52488c33445aa4b9ad1b6b642595",
            "0df0d81eb9864f6e9499ee652bdbbc7d",
            "fe66dd71b6a24ce9bf5c2271dbc1d034",
            "27fd68fad610459780e7a96e0a81eaaf",
            "66b57e9d30e44ad58d9506206512babd",
            "2a8682b8d472414ea3afbcb744de1df4",
            "623b386e09e04a8fb119359e4b19a592",
            "a9e8ff8daaf542039aa8fb977e3929fd",
            "bd40c5104d7c4845bfd81684ae17a022",
            "9702690bd09949e593d3925ce049115d",
            "244461f009c34659b9bec340f79125e9",
            "ad62007e251f4658be65ac0297a974a6",
            "4590f2317bd04745b0010fbce0b795d8"
          ]
        }
      },
      "source": [
        "data, info = tfds.load('rock_paper_scissors', with_info=True)\n",
        "train_data = data[\"train\"].map(lambda x: (tf.cast(x[\"image\"], tf.float32) / 255., tf.one_hot(x[\"label\"], depth=3) )).batch(32)"
      ],
      "execution_count": 18,
      "outputs": [
        {
          "output_type": "stream",
          "text": [
            "\u001b[1mDownloading and preparing dataset rock_paper_scissors/3.0.0 (download: 219.53 MiB, generated: Unknown size, total: 219.53 MiB) to /root/tensorflow_datasets/rock_paper_scissors/3.0.0...\u001b[0m\n"
          ],
          "name": "stdout"
        },
        {
          "output_type": "display_data",
          "data": {
            "application/vnd.jupyter.widget-view+json": {
              "model_id": "338744bb3fb84a06a4657f449333ab5d",
              "version_minor": 0,
              "version_major": 2
            },
            "text/plain": [
              "HBox(children=(FloatProgress(value=1.0, bar_style='info', description='Dl Completed...', max=1.0, style=Progre…"
            ]
          },
          "metadata": {
            "tags": []
          }
        },
        {
          "output_type": "display_data",
          "data": {
            "application/vnd.jupyter.widget-view+json": {
              "model_id": "6c1e0c36f103491786e302253c301014",
              "version_minor": 0,
              "version_major": 2
            },
            "text/plain": [
              "HBox(children=(FloatProgress(value=1.0, bar_style='info', description='Dl Size...', max=1.0, style=ProgressSty…"
            ]
          },
          "metadata": {
            "tags": []
          }
        },
        {
          "output_type": "stream",
          "text": [
            "\n",
            "\n",
            "\n",
            "\n"
          ],
          "name": "stdout"
        },
        {
          "output_type": "display_data",
          "data": {
            "application/vnd.jupyter.widget-view+json": {
              "model_id": "8087ddce2bac444199112d1e8847e284",
              "version_minor": 0,
              "version_major": 2
            },
            "text/plain": [
              "HBox(children=(FloatProgress(value=1.0, bar_style='info', max=1.0), HTML(value='')))"
            ]
          },
          "metadata": {
            "tags": []
          }
        },
        {
          "output_type": "stream",
          "text": [
            "\rShuffling and writing examples to /root/tensorflow_datasets/rock_paper_scissors/3.0.0.incompleteOJ4I8L/rock_paper_scissors-train.tfrecord\n"
          ],
          "name": "stdout"
        },
        {
          "output_type": "display_data",
          "data": {
            "application/vnd.jupyter.widget-view+json": {
              "model_id": "ecbb92346fe640f095854f9a7ff9161c",
              "version_minor": 0,
              "version_major": 2
            },
            "text/plain": [
              "HBox(children=(FloatProgress(value=0.0, max=2520.0), HTML(value='')))"
            ]
          },
          "metadata": {
            "tags": []
          }
        },
        {
          "output_type": "display_data",
          "data": {
            "application/vnd.jupyter.widget-view+json": {
              "model_id": "fe7d833d08e949b0af0ce4aa81b93e86",
              "version_minor": 0,
              "version_major": 2
            },
            "text/plain": [
              "HBox(children=(FloatProgress(value=1.0, bar_style='info', max=1.0), HTML(value='')))"
            ]
          },
          "metadata": {
            "tags": []
          }
        },
        {
          "output_type": "stream",
          "text": [
            "Shuffling and writing examples to /root/tensorflow_datasets/rock_paper_scissors/3.0.0.incompleteOJ4I8L/rock_paper_scissors-test.tfrecord\n"
          ],
          "name": "stdout"
        },
        {
          "output_type": "display_data",
          "data": {
            "application/vnd.jupyter.widget-view+json": {
              "model_id": "2a8682b8d472414ea3afbcb744de1df4",
              "version_minor": 0,
              "version_major": 2
            },
            "text/plain": [
              "HBox(children=(FloatProgress(value=0.0, max=372.0), HTML(value='')))"
            ]
          },
          "metadata": {
            "tags": []
          }
        },
        {
          "output_type": "stream",
          "text": [
            "\u001b[1mDataset rock_paper_scissors downloaded and prepared to /root/tensorflow_datasets/rock_paper_scissors/3.0.0. Subsequent calls will reuse this data.\u001b[0m\n",
            "\r"
          ],
          "name": "stdout"
        }
      ]
    },
    {
      "cell_type": "code",
      "metadata": {
        "id": "r-se782jRmac",
        "outputId": "dad12769-0577-471f-c137-f7f7a6ac125c",
        "colab": {
          "base_uri": "https://localhost:8080/"
        }
      },
      "source": [
        "info.features['image'].shape"
      ],
      "execution_count": 19,
      "outputs": [
        {
          "output_type": "execute_result",
          "data": {
            "text/plain": [
              "(300, 300, 3)"
            ]
          },
          "metadata": {
            "tags": []
          },
          "execution_count": 19
        }
      ]
    },
    {
      "cell_type": "code",
      "metadata": {
        "id": "Z_40TWUfJjwb",
        "outputId": "fcfed540-bd44-43c7-d615-e4a3777b8968",
        "colab": {
          "base_uri": "https://localhost:8080/",
          "height": 1000
        }
      },
      "source": [
        "tfds.as_dataframe(data[\"train\"].take(10), info)"
      ],
      "execution_count": 20,
      "outputs": [
        {
          "output_type": "execute_result",
          "data": {
            "text/html": [
              "<style  type=\"text/css\" >\n",
              "</style><table id=\"T_7c0ebc24_2456_11eb_bf5a_0242ac1c0002\" ><thead>    <tr>        <th class=\"blank level0\" ></th>        <th class=\"col_heading level0 col0\" >image</th>        <th class=\"col_heading level0 col1\" >label</th>    </tr></thead><tbody>\n",
              "                <tr>\n",
              "                        <th id=\"T_7c0ebc24_2456_11eb_bf5a_0242ac1c0002level0_row0\" class=\"row_heading level0 row0\" >0</th>\n",
              "                        <td id=\"T_7c0ebc24_2456_11eb_bf5a_0242ac1c0002row0_col0\" class=\"data row0 col0\" ><img src=\"data:image/png;base64,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\" alt=\"Img\" /></td>\n",
              "                        <td id=\"T_7c0ebc24_2456_11eb_bf5a_0242ac1c0002row0_col1\" class=\"data row0 col1\" >2 (scissors)</td>\n",
              "            </tr>\n",
              "            <tr>\n",
              "                        <th id=\"T_7c0ebc24_2456_11eb_bf5a_0242ac1c0002level0_row1\" class=\"row_heading level0 row1\" >1</th>\n",
              "                        <td id=\"T_7c0ebc24_2456_11eb_bf5a_0242ac1c0002row1_col0\" class=\"data row1 col0\" ><img src=\"data:image/png;base64,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\" alt=\"Img\" /></td>\n",
              "                        <td id=\"T_7c0ebc24_2456_11eb_bf5a_0242ac1c0002row1_col1\" class=\"data row1 col1\" >2 (scissors)</td>\n",
              "            </tr>\n",
              "            <tr>\n",
              "                        <th id=\"T_7c0ebc24_2456_11eb_bf5a_0242ac1c0002level0_row2\" class=\"row_heading level0 row2\" >2</th>\n",
              "                        <td id=\"T_7c0ebc24_2456_11eb_bf5a_0242ac1c0002row2_col0\" class=\"data row2 col0\" ><img src=\"data:image/png;base64,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\" alt=\"Img\" /></td>\n",
              "                        <td id=\"T_7c0ebc24_2456_11eb_bf5a_0242ac1c0002row2_col1\" class=\"data row2 col1\" >0 (rock)</td>\n",
              "            </tr>\n",
              "            <tr>\n",
              "                        <th id=\"T_7c0ebc24_2456_11eb_bf5a_0242ac1c0002level0_row3\" class=\"row_heading level0 row3\" >3</th>\n",
              "                        <td id=\"T_7c0ebc24_2456_11eb_bf5a_0242ac1c0002row3_col0\" class=\"data row3 col0\" ><img src=\"data:image/png;base64,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\" alt=\"Img\" /></td>\n",
              "                        <td id=\"T_7c0ebc24_2456_11eb_bf5a_0242ac1c0002row3_col1\" class=\"data row3 col1\" >1 (paper)</td>\n",
              "            </tr>\n",
              "            <tr>\n",
              "                        <th id=\"T_7c0ebc24_2456_11eb_bf5a_0242ac1c0002level0_row4\" class=\"row_heading level0 row4\" >4</th>\n",
              "                        <td id=\"T_7c0ebc24_2456_11eb_bf5a_0242ac1c0002row4_col0\" class=\"data row4 col0\" ><img src=\"data:image/png;base64,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\" alt=\"Img\" /></td>\n",
              "                        <td id=\"T_7c0ebc24_2456_11eb_bf5a_0242ac1c0002row4_col1\" class=\"data row4 col1\" >0 (rock)</td>\n",
              "            </tr>\n",
              "            <tr>\n",
              "                        <th id=\"T_7c0ebc24_2456_11eb_bf5a_0242ac1c0002level0_row5\" class=\"row_heading level0 row5\" >5</th>\n",
              "                        <td id=\"T_7c0ebc24_2456_11eb_bf5a_0242ac1c0002row5_col0\" class=\"data row5 col0\" ><img src=\"data:image/png;base64,iVBORw0KGgoAAAANSUhEUgAAAIAAAACACAIAAABMXPacAAA2DklEQVR4nO29aZBl13Em9uVyzrlvqeoN3WiAAAFwkbgI4CpRFilrJI9mYhzh0YwV8vbD/qGYX7bDEQ5HOBz+M+GwI2z/8EyENSNZGo3W0YgSJYqULJOEuIEECS4gAQIiiI3oxtYLuru6q7uq3rv3ZKZ/nNfFQi2NBtBAgzYzojuqXt17370n78k8+eWXeSgi8CO5fsLX+wb+/y4/UsB1lh8p4DrLjxRwneVHCrjO8iMFXGe5xgows/MrK7XWa3vZ/w+LXsNrra6cv++zX3zs0SeWDiz9+7/8S4dvvPHlXqEO9aknnjj1/PO3veWOW++44xXcw3w+W1u9GO5LB/bnXF7BFa6hRAQRXfmYa6aAoe+/+bkvP/3UiZnR9+//29XzF/7Jf/tfdd3o6q+wsb5+79333HfPvWdPPbs87f7+L/+jn/nFv/+ybuCB++578GvfOvnM0z7Mb3zT0fd95CPv/8hHVNPLf5rXT66ZCVo9t3Lh/KUyniaR0Xj00P0P/vr/8j8//eQTV3+FY48+fv999586fXq2MX/hxOm//N3f/cJffeIqrVlE3H/PPV/9zBfOnFyZzfzC+UuPfue7f/abv/mpj/5bfx1D/W2wwku+/riGChiGKqUwKlsVD2U89M1v/fP/8X/4yt985iqvcOq5k8+eOHFxdW19VucmK+fXP/rr/+JP/tX/ZVehg3A/9/yzAitJJpP92k3XNobz51fv/tiffu4TH9+pgUsXLz71+OPnz559mU8J7BjlVynXzAS5e7hFHVAr1Rrm0+V9a6vn//D/+N8vraz83V/+FWa+ok2M0y+8cHF1bW0QGzhjrtEn7z//sY8evenmX/ilf3zlbydmUbaNS8OAC+fOnj/3wsbGRUSdr/nHfuP/dLdf/A9/ZfOLn3z8yd/6td9eOXny5psO/qe/+p//2J13vawnvcJ7fTWv/Da5ZjOAANuY2WyDzMJDQDlx7rqNWf2L3/qXf/Oxj175/lZXVh7/7nfX19fnG6vDxpn5bGU+X++N+rn/9R/+7rNPPXXlb79w7uyxx757fuXUxXNP++zspMTydNR1Y+N0aW3j47/5L7/zta+2I83sj/7gY99+8IkLcxw7fvJjv/07Z06cuFaDcAWJiF2nzrVbhgb5rIeFaElZJ9OiSWuEs9bB7/6j333s4YeucPbxJ574/vce6TdWvF9xH4bBarV+GAz+wnPPfvmvP3HlLz9/5oWYz5Ym4+Xp0oGDB5cPLB84dGD/oUOTpWUu442N+V/+3m+fOX0KwKWLF5987EliqtUdevz4ibs//ud1GK7ZOOwhe71810wBzOxBnDrJ1BVbXi5MxCRMBNXVlXOf/ZM/uIJHfe740yurl8w8wPCAV4QzhbtH4MEvfeHcC6ev8O0558l4PJlOlpYn4+lksrQ8ni6PJ9PJ0lIpnZTR8e898rHf+DUze/Lxx59/5rjZ0Pd1cK5IX7/ny5//q09eq3G4gmzVweZsuIaBmGuRsjQiW8tiIswsKkIsFgFJTzz47eefPr71hK1T8tzZc4MDIAayaiojLWPOI9ICySeOH/vm5z97he/ed/CGpYMHR11Jo0keTUfjfamMcsmjris5E1hTfvBLX/z2V778ja99feX0iehnfa0zR4Wubwx3/+kff+ebX9/r3l697LzapjKumQIurJy5tHJi7cyx6C8REYOUSERIOIggvHr+3JMPf2fXmwAwm/cIYw5RDc2SOhINFtJCuWMp93zyz8/uPQnGy8tHbr1dVHMZ5W4sKaWcU0pZUy4FIgEKt8/86R9/48v3gjFfvzjM1jY2+rmnuenahbW7P/Yns9ls13t79XKFq10zBaxfuBDDetS5uTsQCBCJsqg6mJjD/eLKub1OP3zjESECSUAcWoMsEEFO5JRQJqeePv7Al7+w1+lE9OZ3vSd3k5yKamJmELEIq0pKxDR4kOhTDz/w6Le/SUxDnfcba/1sYz4fKvLg6bEHH/jO1++7VqOxU/aaUtdMAXU+Z+Ywr7WauweBSEQ0KRGbM5G42V6n3/rWt0rpLGABINzdAW/BPHOAnOTxB751hajq6G237z96FAhiJhZhATGIiAFCNY9ASbpUxGuvElZnw/zSbH11NtT5MKyvbXzxk38x3zIJtsqrt0ivuRMOtwhzN4DAClFNKefUlcKaHBws0wMH9jp9Mp2qKiICEe4ERFCQGLiCB5Lg9Nz3nzx/5sxeV9CUbrjlzQhnAjOIEQhiEhHVxEQRwaD9424YBoSPO8k8V7/k87Nzm7OmJ77zwMP3f2PXi78Ci3SVOrtmCsilY4rUjfJ4WkbjMiq5lKS5KyWl5KAgGS8t73X6vv37l6ZThCOcCB4IAMRB5ECQVM6nnz/16IPfusI9HLr5FhFWdoSFV6IAgZlACKI2vSZdyeTDUM1diEDO8CAKotl8+MInP77XJHi5cpU6u2YKWDp0UEun3aSULquUnFJKOeesKaeEQLg/+uC39norDt5w6Pa33m5mAAcCDGYGAsQAm1MFX+rjq3ffPQwD9ni/lg4eSiW7DRROAAFoeiQKIosYLHLiaafVarhFuAeqk5sPZiHyyP3fePC+e7dddq93+WV9/pr7gOm+/al0KWvOklUyS5dSSbnkPBmPNCViefjeLz371Pd3PV1VP/SzH+6SMiLCgYZsIMLdPcLDEZwe+ua37v/yPdjj/RpPpmUyhjuByQNujEC4CIEwRBgCwP5xdq+1Vqtmdai1Vo9+cA8MfX/f3Z+2F/uq9l1XWEpuSjtm13t7zX0AMaeUVVhEsqQsSVlSTrmUrutKV0jShbNnvviJP9/rXXjvT37gxqOH4eYebu5mUQcfZuRDESjcfLi0dunP/vW/OreHJ0iljJf3hzuius1tvm6zNdhcYFmViAeHg/aNksKsDn0dhqE3q9VhxB4E4mce/97KmRc2r7l5t3uN4NbHuZ5YkKiKsDIrq4iwsCYpJeWiuZTJZEqpuJRvfO4z33/0kV2vcMORw3f8+I9Vq0DAPYbe+1kMfRGME2dxWA/yY48+8hd/8HvuvvMKRDReXrbaW78eNhdhzYkZhBAKQvT9sDEbuiT7Cvd1MDMPBIk53KKvtQbWLqycPXli6zWv/OBXP+hbVbUJDV0zBYyXl7vxlDyUWYRFRFVFOKvmnEajrhuNQ/LqhYt3/+lHbbf1KBG/6647KRw2wGrY4MN8onRgXLospaRSsgcMdM8nP/7w/d/c9cGm+w8iKnOU0SiNSu7KeDJd2rf/4A03Hrrhxn3Ly6IqxAfGyYchzNyt2hAAp5Jyp3k0VD/9/LPXalhe/IC09ef26zVTQDeeHLrlFoQzk4qIMDU0IqdScunG48lUUyYpD3/13sf3AObe+uNv78ZduLkNVgdNtH8pd8lV6miUx9MlTp0hra5e+us/+oOh73c+2NLBGyRlEUqCLOCo7C5W0V+SYY1jcDeLODDORWARIGbJnMecRqyFNQfr88deAnzFbi7hlcUK1zIpf/Pb3i45t1CIRVmEVYRTyd2o6yZdN56MSXV9be3zf/FnuwJzR9/0pkM3HPJqFObwpVE5uDzJquNu0o0mo9FoOh4R8wD51n1f+8rndkGHlg4eyl1n87VhfWX93AlbX82p68ZLpRsRRfgw1H7W16wyKeIIZmESImJhMAc4ICePHx9eCh99ZVjFTiVdSwUcPHrT/iNHiIhFiJmJWZSYRVSS5E5Ho45TgqQH77v3iUe+u/MKS/uWD95wiKIOdZgPVrrSjcajyXI3mnS5dCl1Xe5KJua19dlf/N7vrK5e2HaF8dLy9MDBOl8fNtamyweWDx7pxpOlfQemS/uWlpf37d8/mU6ZOYIOTTLCq3vDO5gIaEG0nn/h1KUL51/u41+NSnYecy0VoCnd9NYfIwQzMwsRU4CZiSmpas5dKd1oFKwbFy9943N377xC0nTkpqPmlQkeHqDR0tJoeTmVpKqatety7rJqkpSPP/741+/54vZ7UN1/45tUu+m+w6VM+o31fmN12FhF3WB4g1pVhIimnSZyD/PwiAAc7R/z+ZWVc6dO4tUhEK93JNzkyG23l+lSW3oLQMRMxEwiJMwplfFopN0IWr79pS8+//TTO69w5/vek1JygFjnlRyiKklVVFRTSiWnRMokUs3/6g9//9yOvO6+wzcSq2rOZbS0/wYR6jcu9PNVqzPve3IPkkAogRFh3hYkZmDmrpQgXl/fOPncM7iKl3prnuv6+wAAk+XlQ7fcamFwIyYCAggEESVRVUmaulI4lxdOnf78X3585xXu+sAHbjhy2KpH0IX1fnAuZZy7saasoklzl7suF5BwKscee+zbX/3KtissH7yhzoeNixe99ilJNx3n0Yg1BwAOEY4wByWVTmBuYRbBHjydjCajIow6DM/vFjDuGottKmmbtjZ/vbJirrECiOjoHW8V1gUCAwScFuZViCBMXcmjriMtX/70/3Psie28lSM33fSO97y31sHD+mrzeZWGLTOrqormnHPKIgpiq/HwN7++7QmnBw6VyXK/vrFx4XztN5jByqyauq4bj1MpIhJBIFZCtfCAmZVEh/YvlZIIcI9nnnh8qAvM4yVjsW3ysqbCteeGHjx6dLy8bMNAEY4IR5jXodZhDquMYIKK5Jwvrpz/yqf/evsNEf3Yu9/FxEI06/u1jTVipJwlJRYV0ZLKqBupKLOQpEe+/e2VF6cZRuPpgZtvKdNlgLw6I43Gy+PJUunGZTzuxmPNHVgItNQph5k5wpemo6WlqSiLCpM+f+zYC88/3y64F+Rw5U82hYh2zchf40BsU0o3OnjTzTYMqAPbgGo2VA6XliCmxUtFCCb+1j2ff+HUyW1XuP2tby3jEYPg0VcjCiKw6GWRpEJCFuCkp088/+R3X7Sg0pzHS/vTeJJKF1aH2XqdrVGYKqWSci45lYgAaJyU4OYG2KED05REmYSp+vDCyee/98D92GP0d37YRnnz560H70XGucaB2FY5ctvtxFRrT17DK4dRGAEgAjMLB2KoRixnTpx44N4vbTv95ltvPXTDIY8gQBYQkyZhZuamDEYSJkSA+o35t75y7+bTAmCRMpoyK5cRp8zKZsN8tl5nG3VjvdahLdJASMqFw2ofiP3TwqjMlJNqSoP53379PtsD8Nj1qa/8+WsOxm2Vg0dvnizvw1A5IBQIQ4TXHhSiJEzMFAgihMe9n/q/1y5d2nr6jUePvv2d73Sr4VGHmjWpqDCrCAsTQYRZCAQLd5KHvv61ixcu/OBRgTyaMAuzptyllHM3yeNl7ZYlT0GosOrhEcJclNzq8igdmIxGuYwmk+XpdDIqyvLs959cPfci47YXt+cq5TXmBW2R0nU33HIreZADtcIRZvAq4RIhDGGkpBHBqs88+uh9n31RTCAid37gA0BEuHkQWESTppbiFQE4kjCIWtrzuWPHnvjeiwC+PB4DwRTCktK4dNPSTUbjpdyN82hScmHicALxNCd3Xx6VrEyEzJySTiaj0pVLZ8+eO/0izta2t/gKythU1Tb8Z+dZr1WBxtG3vFVzggeCyWO+cSmsspsyp5RLKV1JLOxB5v6pP/7D0ydf9Kjvfu979i0vmflGX82jRXMiEGFhZoAJLeVCxLON2QP3vSifnkoOdwKBWFibpkAMINwXsbowM6ckxEIi3Xh5MtmXu46FS06jcZ7PNp4/fmzbc+0c0F1lL1Xt9AevlQIO3Xxrd2B/1HUfZrXfKKVoKiQsTCrSla6UnJIGBameevr4R3/jX8w2NjZPf/Mdt990y82DDcMwBIIQDFrAe8zCjAhlcoBEnNN3v3X/1tOZWIiZGeHhziHkHO4IMEtKGZfTlcoksGpORCqc86gbL+fROJdCzMcf+dttz7UTUm6fbP5/5TXrzuDgtVJANx7f8o539f0aoy8lg9jgATBTElKOBlMLMwBJ+Ruf/czHf/93WiYYwGQyfcdd76m1zubzWgcALCKSVFVSUlEVUREmCZJUume+f+zpLaGTmTVKXQAsyqxtDdsuwqzEHMSEKMrCNJv189la38/hriqaulImrOmZxx/b5p92QsqbPra93VeTDts6D17DGrE77nrf0pGbwAh4yrkbTTTlMOOIvLBCXcodqL2s8qk//jef/csfUATf+1MfHGW5cHFtNlRiAoFl4QVySaPRqDHvVERUL11ae+gbPyA0DENv4SAmEoQTi6gyiMFEDAIRE5oSOKkGQKzEzItZJiwqms6dPr1y+tTmqO18xqtxyzuxiq3O4DVRQLv0dP/B297zQREdjSeqGu4imrsudZ3kJKo559GoE00BAov1w8d+/dceuv/+dpF33nXXwcOH1mYba7ONZsOZSDWLJlUtJZeSSISJiZmYH/jafZsYcj+fAx5hYTU8hMEkjSyGIHgIMRMFt7NZUiJR0UyiTUeqrEln6+tnnn/uysO6+fPmsO4ac+1lo14TBWzOr9vvfF9e3jfbuISwbjQuo1EZjSQnElbVXEZdNyrdiDh5kKRy6fzK7/+z/+3k888DOHrTTe+88ydms3nfDwyWYAUInkRySrkkSYkoAg4Qp/zk9x599viCezrMZwDCXYg5nMKi0XzdwlsyjtowMBERck4sHCCAgwIMFlbVOgynnn1620NtW97sNDvbVjv0YsEWh4HXukx1/+Ejt935XlFqix4VLbnLOaeUtGRNWkoZjTpNOcAR0FSefuyxP/vXv2VmwvxTH/6we6yvz4MCxMRQJk0qIllTyYmIhJs1oYsXVu+/98vte9dXV4nYI9zNvSJcWFSzsrQhBECLASICjbuikpg5iJkTi7Jk0QzgheeeuZon3TrcO23O1hHfdtZrXif8tvd/aLS8FHVgoqw55ZHmUkopuahITpKyXl4RkQO5dPfd/an77vkigA/+9E8fOHTg/OpFIEAAms1o8yctdTmpgqiZERB/8dOfPn361Oc+/anjj31PNANkHoFm85lFRFRYAhThvgAJwMyj0Ug0EZEqiapIZm5Wis6efH4Yeuxmc/DiebD51023vJdD3hobv+YK2H/4xnd++O8SkTAanDzqpqM8GqWu60aas6ZSRkWTEKF5Y5vPP/EHv7e+tnbrbW9+93vvurh6ERHEzszURlIlqXZd1yUlN4oIRMrl+e9//5/+1//l//rf/3drq6s5ZRA8qntEgGplXnxBRDT+XQvlFhGfDRFOADdGFxODmPni2TPrFy9iC6a2zZI0ubI33jotNo9vn78elfJve/+Hjr79He6VyYWRtEtpnHIuSVPSnFNJKafMKhZwolS6Y3/78D13f0ZEPvJ3fu7cxbWhOjMTQCBhSZpYtbliIgKMolEQ5XsPPXzyhXO9OYmwalMZgoAgMAl5eHv9AlhEcqDBLMIb8tNUbG7EJCwbqxcunD2D3QzIpko2tbLN1Gz9dS9I9fVQgKb07p/7xby05LWPcBZKWTVnyemyGlIuWUWZOILBwkSf/KN/c/r06X/3F/4Oj0YrFy4w2lqJpf3PJKqTySilxCDmEASIppMpS37uhRUQMSfKBYsCBeEWRTOZhzmIyAEPZ/L5bN7MUQTgYYNREEAeMWysnT/zAl686t86grtOCOyw+01JOyGK16lXxKGjN7/tA/+Om8F6wFU151xKbuFYw4hTSiTa1ida0snvP/7P/6d/qqp3fvCDz516AcROzQQRM6mqCo+60nWFwAwGEwvnlCZdefrUmd4D3NafZPBoy380gJUjosVpxCyIC6sXh9ozIrxa7eGWWCICjHDbuPii1P9ese7WSbDt852nbOrj9WvW8fb3/+SBW26t8xlsAJFqylqyqjLlpCmlUrqsykzNEnTd6Otf+MJ/809+9ZGHHzpx+mwrGyA4MyupiGbVotp1mZUIYGIisMh4PDqzsnr+0owkgzMHE9pyyJycGMwctBgFEDHRuXMrZ89d4HAfeooQkQCYiIPCfO3ipc1R2/ZQW83OtmhgryO3LWdfPwXkbvSuj/w85+TDnLwyc9Kcc1e6Lncp5zIeT1LKHh7NXjPvm0weeeA7X//KvU+fPL2+saFCoGjBqjKJhCbukgq3eAxCDOLxaDwM/sD3jm3M5+BwCgAe1WG8CHYFIPdwRCCEfW1j9vCjT63PNoiCmAIQJjcjOIj6Yb51ELdakq2gwq4oxbbh3goftb++ru1qbrrjbW9+91213/BhpggipJRTKcJcShqVPOpyUm1OUoiL6uH9B7pucvbsudMrK5BExAQQhRIl1iRS0gJQIgSFMXlSHnf5kaeeO/bsiWFRrmPkBl88NYuAxcKJEOaIGGp98viJx556Du5hlRHhHmbMbG513m8dxG2yDY/Di53z5idb16ZbY+bXVQFE9OMf+tnR/n11WPc6kGjOWVlzklGXu6JdydPxmFgd5KAgGmc9uDyd9cPJ0+fCg4gaGErswpQ4lVJYONwoXAgCEmBSspl/59GnT51ecYe7e2M/uJl5uLXMGjWiRES12tf+4ceOPXvybAsJ3TyiGSqsXVzdNo5Ntupj0wHsBUXsHIr2w+vdsGn54KG3ffBnEO51zmSsnDWVPMopp6ylS3mUVRVBAIJIVPdPxqWU5069UIe5ufkPls9VBTlJlxNRo19EgxaUeZzkwuql48+d6vve3R0BgrubWTXzpgOGKEW7WODCpdl3nzpxcW2jhg1Wqw1tmXrm2eNbiZS7QhE7lbHrwdts1+ttgprccdcH9t90q9U5rCdyTZxyyrl0pZQul5xLKQFqMSyRlJxv2LfMhH7o530dhgpzYSI4x1AkpqVwM03NSxMJwIhAnL1wcW19fYFOEznYAoO1GsA2LsEsXRkRC4hWLq6dW73kBqvu5i02PPPcM6srK5vDt2sUdoWQGFvGfdsBr7cJalK60ds/9LMQCXeYi0iWnFPWrN14NB51KUkADlosSVX3TSdusbYx64c6n888qhB3qahSTmncZRWmaKtMRzgYKsSI9fkwWHXvrc7Dq7dym1phviCNBTrV5VFOygGq1Wbz3s3ns5mbMbGAL62cO3Nyd4rKplvGixf+O//fFi5sTprr0zPuTW9/5+Hb7vBh5rVnRGqVBElHuYxKNyolKyEcQEq6PJ3ccvTwDfuXLq5emm1szPuNvlqNUJGiXdLUnAeBhBdMSEYwBSESkxIQJuHKJAxalDADDSMKEsYoa1HJQsKck4bVOvRulSKIqPbzU888jT0SvFshis3Pd+oJOzzBdTNBAFT17T/5Yco5vCJMVVRbIUHKJS1NuskoE5CSTLo8HZelSXfjwaUkLYBCteYiKSUZjybT6dJ01DGTI5hYIqTR8phLTqIKiwgi1iwiHMAQXkGNlREEZMJIuTD2T7tJl90Gt6GZLQdZrWeeW4DS22CGXSOvneHuFTzzq1LArsuyq5Qbb3vLkdveZrWPOo+oSVWZk2hJWkqZTkbjUc6JE0eSSAJhsLAIM7fCVXYQS5TCo/FoujQWVSYmIhATkRCEad/yRDWTJG7FazkX1U4TwuBubg5nJqZIRCXxoUmSqLX2Xi0izC1AEVhduVJrp50maOf4bPPMmwe/KgXsBJiuXljkTe94N7FUs6i9qqhISdKVXLJMR3l5XDKBwomaR6BAEAexggiXwXxhyqqTyXjcZUQIhTK1ijCBT8cdizgQABFEU05ZVQjBBIrgcCAC4agHp2Wp0/n6xWG2TotQGcwgwsVz53atKNkZAeyKT2xDI7Z67OvZN/TIm+/Ik7G7Wb8Bt5yLiKrmkrVkLomShiRlUQO1oneQAmAEEMIMjzBn4i6V6XjkiIhgghASYZxkrLBhDvdah9rPbOgJLRezYKoQ4OZApCT7lzqC9bON+dolq3OEX3YYfGn1fD9fFHDHFkR6m1fYy9RsC5u3XuFatq18Sdm8g9MnTjz0zW+cfuaZPB+IqdZKs7XUTZoL7XKal66Ujb46UgG15dBimcPMKo15TR4EdxXtko67bpRLHSzgApDHaJRUqPY9McIHzNaYaj/fsKFicSfhbkQUTkuj0Xgy5vB+NlRzq+4e5obwAPqNjaHvMdk+yptOGHtHW9sM1DaH/LoqYLa+cc9ffSKV/OBXv/r0E0+uX7r0oZ+888D+iYv2w0VisHZJuKcoWccl9/PeKRANGHCrNZI0+oKwEINNfOiDgsK7JPumk3MXLjWYU4RKlrbsHOrgtXcLYXMb3CrAHggiBwUoqY7HnYogSFPnztQbCzw8avXwoZ/Vod86sjuXNFuVsSlbvfGuy9DXVQFJ0/kTZ1fPPJ3DDx48qKrzwYhTREVwnV1M41YJoxSeRbquW5v3UQdndtM68KAkFEaJKTiEpdh8VuslVE8iOSdmDBYhnIRzEhuGiIDkqFEHN661Wm2BsQcxEziIRDgrIxxhQhDhPB4H9VHnHkHEdaj9/AeJyV1Hf+fn25ZMWw++PjNAsr7tHe966uH1tfXVed8P/XxtfcPDKBxcom6gzlkSExGYJZXCfbW+Wq3DMDAxV03GVltiAORuwQxRHXEHLrNeVFCru0tSYWrMOEpZMnut5mFhFK0NRQAtBRk5aU4iIoDUsCwCq31fYRS88BoRji1jveugb3O2VwCFrk8gRkSH3vSmlKe55NyV3JXZrO/7OahGVKOYz9cRkfN4vLxclrqkrExCxIiWM6zVao1aq1sMdejr3IiRRLucRrmMuq7rkghHKKOkTJIW/W+EwWzEVSREndkjQHCCsEy6knMhFkiiVKCdSEcghDMLiCN2Caa2wUHb/rrXLNn61+uwCjp4841lsl8lJdWc09AP6+s9SMMDEVHnboOo5JzH3WSU8yiJklMgqnu4WzMh4V7DnVjBwlIMgEjuynTclZJVOYkQMZE4NFrnJhUQGCGJkyaA3D0ASal0HYuSJFACCUg9tJp741wArGmvFsh7LX72kuuMBU0PLC8dOmjOLEzEZnbh/HlyZ0mkxeF1fiFsxsS5jEfL+7rJJCUBgZgjgFZSytzS86yJNDkUocFCwilnFWq8UaIQoiTCJB4AmMJtmIVVUUELDphzEs0JxB5hXj3C3MwrgAA5QCxW+9n62tYRvEIkvGt4tKs/wOuPBTHzkTe/aQGEASCcX13vq8GriFKZBJiDhESJVNNo+cBo+UDpOmZmVlBi4vDwgBG1PotEADGTqGZN2pXcZQ2EeyVusE+D3oLgbhUR0jLILMpScspJGhFIhFVIiGzoCUbkDa+Zra2fevaZzRHc1MGuL/7LAgiuQyB29I5bu+kEzYERr2305gyGeU8glhJMmotKznnUdZPRaFJKq9RWIvLwcEeEtAqBRVo3mEg5JdWuyzklMBNrgALMItFcQUSAiRRETIvGfipKJI4wsxYXh9fw6m7YhPvrcOHMaewGq+0alO36664z4zooYLJvebJ/X7ghQExebTabp9yxJNEU1KJZoZRFNLFmEdUkIoQIuEeAOUAR3NqBECcmVhJVzklzzpqTCkfAHLGggVqr67Nq5sGiqny52iPCnVlEMwu5ex1q7QeKYEJQu0JY3b1T19ZAd9vnux62TQ2v6zK0idVhmM8DDCIhAsXGbC7SAUIklXQY5mEz5wQmZhqVsTkiNoJQIwxkbla9irBDWUDEquERZixZJCcZeqnuNdyGOrAAhDBzjyBBDEQgFgSECYTm0jl0WCy0qtfBw4nAjRMJ7ibTzUfY1fRfWfayWtdhBgx9P8znAEBBwiI89AMRM2eQiGaAq9llbiCTsihLUlbRJHB3DwsezJw4WAIe4QYXldx1krOmxCC3cA+rg9UB4dZ4zxEL2idTAHHZjLlHyxzXWod+Vt2YGIHWA1VUp/sObD7CK4CBd12/4rrMgGHe137ODGYSERHth0qN1hNkYOK+NYljsAUZIhiaxAIwR2NYBcLIDEwVYeyhmkyCwyQJCQkrgiyimiUXlmRWw4OImzkW5gBAHOEAuRmEA1HNezNfqGaxxtSSlw8e2voUV4i5dgZrTbbBEtchEGsyzGdWBxHJqkVTNxq3FDwJgUFCWroIAkG0rYaEuVUCGABCeLUIVMdgXqONaTuZG7OTSEQSKNwqEO7wICYG0KrFibjVBlyOsxzEHlat9v28DrWRk1qsjPAyHm/OgG3w8qZshfu3/bBVtlmh66MARGTRrpRUSimFmcydFwuTEE2sydxBkJxyLkkSE1t1b8lyxGBOImBYhAWIKRgMSqJJUmsM0ta6Zl4DDrIF9Zkh2pKSxKyaGkHao7ovGvlZtXDnBQkpwu3wzbfsv+EGvBTAcPVyfbCgJsN8xgQREc05h1t1M3MvLOHUKLMqWmsNd2FOKjVlqaYWFh6AkzZXzE5EVEWFuSUJmFlURZVV1NSiEXw4QpkI2GAKEAe1ZA6zClr22R2gakOtAzMRSVu2Nrb67e++s+u6l3y1X9Y4NF1eBwVEBDNrylxNUtWqJgpJjSlLzA5XbdM/iEyUuzLyIEOQR/WIYaCo4bAaIoRA9WZawmFOiERIzCbuQFDAPcyJghPYQYOKOg8RHmEgNgcorA79vA9bcFuwyLqFlvKWn3jv5qjhqsf6youl1wqOji0kmV0l5SLMLlCRAQCojEbCQsTuBgQJw1sCvoeTiBJJRgw+eG+oPeo8IkyEiLwfoqiDw5yZPChIRHNOZtV9MPPqXp3D3bFo7B6EYBHzYOKmIqsWFlYt3ITb0hOMQMT00JFb3vJW7D36Ox3y1QNE194HvGSieOngoW46jQjEwhRPxxMRCVzOfEWAiOFehzrMo2HOzCQJjcngASJ4hVW3arVHBFiJVViSaCdZSZiIhYTdrNZhgJlZNKqoN6IoSwSxcMsPz/uZWSVAmBbVMkTufuSWW5YOHMRVYA9XyI7tJdcjEl7eNz14KDwAwF1Vl6eTRrll5pZuZyZSZc1BVC3cA0jMymEMF81ETBGIiPAIB4wBuAtBmYlAxMKSCAqKalGNIkTUAPNAwKPl3IUgRORu0TA4RgDSPHBEuB2+5bakuuuYvhpaQpProAAW2X/jTWHV3KrZZDxK2pgJQQCz8II2CxZtzjDCuJWYpZRTTiLctgVYsCOaAx6aJwVfHn4WJnVwEtH2+jYSOxqbmogZgLkPDeruB/ZgNPzucgkB4fDRm9qd74R3rgw/XI28Tk54m2NYOnjIEVZrtSglIyyCW+2KhzOJUQUIcIKDxd2Yo0scqZB546p4gIKFE0siEmF2kAdYVFPGxkarsyCPln5nKFiE1VgDPdGCIEfM4VZtqLVquwki86AIQijLdN8+7M1CfJXyOilg27tTJlMH5v1chJNqBMyDEUKEoBaaEjFI2hYCwgCCKEXKUSuIAvP5vIcSMYicKIhZSUBwG4BFcbYKV0REjWAmEmbNqe+lkY0YcHcmoYhaq4URgiG+wFm9FcCmLZuCXmGJ8QoAIlwvbiirDh5DraOciHkIWAQAX2QJgmSB3jIvyOMEZmjJJZecRIRIVZoTaOt4hAu5ULgbwkHNFAkCTMIkCHevLIkkBasD5sYRiKhmdegJTtRMjzOisewCEFG81NDjxa74ZQzFKx/FVyFeq7snTaV05gEHargBEYs2QFiw4YgVYCJ1B8iYuaTCklgkaeLLbbfcLMzDnCKKFAKrJk2ZWFQTsxATiBo7OuWOVYiCCURkAbeIABzMIkSXPVJYoHXJabe91wv+ajzB9VFA7fskPJ5MSCS8rSR7MydmoK3NEdG6zWgs2lYGfB5RWUSZRJOoClNUC/fG2/IFhgZVbdxQ1SwpEwsBSVRESJBLBnGADBEgDoRbmMdltlxrjAC0vmqkKW+9+Wti+jflOkTCANxqXlQFL1bn5jVPR7EoCWhvP4KIKUQlPBqLDRQIUVEViyDREm7wgLuzK/OiDzERMROMhRyExuIiSiIIGgYTUmKGeUTr2gqHCzXGoASFmzFAFClpKq/hxtDXZwaIKqu2Khfz6Ie+DkM0sxNo/UZBAHMAFMEQciILCoBDlLMkYU5amJUAC3f4YLWlK1tfISZGOEXQojeEEzGYCdA00jQWbbVNhqgBEAUhojXZAogRHppS6brNO7+yfX8FYcH1UUDuxrkUbhG/1fBauqJtvztc3ncHJBREQiQELF7tZpfgrJxSkta/jAmAmbW/iyTVxKwUoURE0dqTIYiJ2MOtF2XNGSqOIIq2xxCBwhcOgQgEMEFzGU+XsAcOsW3E98q6XEGukwJGXU6ptdMjipzTZDJmZoCCuBFPWuKEKQAPClYNolqH5qxFiIUWCNyiRbIHCCSgxghiEmGmlJKwMDGrEMAUBLjXAIiVVInFHNRCOOLm/S24EYemy8ujLcnIbfKSWNtLynVSQCm56xYLc9VSupyLsADBRAA30BMgQgtNiUCIcDOrtbUdE4YKpZREhNFYzPAAhbsNzGgft56jBG+trMldAY4QZpEkxBHR+oCAmFkAXrwKAQItHzpcRiNca9+7KddHAal03fI+YShL0tx1HYsyIqwiAmAKXmxhZb6IiciJ4VEjwt1BoSIiwqLMHOGtIwGFu1XNneYiCoYBTqqtpEOYNSBEYCIWkRSLiK9lXsK8LrYGtwqAgH033Kgir9Ho47oFYsw33HJr2/KRpZmK1oi1IaTORBQBRLPQi40IRVVzqy6CgwJKLMStf5ZoMmKEqQiBmQtThgexSE6UhBnKTgJWXfCwWDR3xMrCLfvrYUwhCOFFWHvg8BFgAQ/hWqBv24fi2l6uydW8L4dvfXPqOmpLRALBEUHgICz232z0Z8BJIhwIQwUiwjxquDcwT0Tabp8BZsnBGhGwygHhJFqYGG6aUkoJROYDCSXNl6EJJYmAtXg6wI1G50CrBxktLaGFhrsl31/9WL22TfuuIPsOHT705tsAJ2/bDjqAoMXy35tVjuaJYY1FBETU1ky91bC3jomtxyQRWZ2b1WoWHm1qsIi7MUDh4R7gnEcCInJum2g0T08SFOaLknqLtpsiQCS6wCHw6iLeveS61YixyFve98FuuoQIa/VvC3yfzL0p0NvyxizMrL3kxKBErd0kGVNr/ECIEBYVSUwiQkmD0Lo6MQstivrarApQtPaXaIj0gi0iLQxekEcWb33r4bSL7EU13HrAVY3D1Q/ZNZcDR47e/p4PMPPQz60aQPBFTjda33imYATgbuHekBluyM6CjQJ4uFUPI0ISZRahBaDPzEwUHsRZpIsgtwFBLLn1rWkHWBgIOaWWBvZo57b8XNS2W9kO9udLZhxfMjXb5HoqAMBb3/vBW+98nzfmpRsRCE7EQQSglbnDjeALhJkIhNr2+fRAKzJCJBHYYLVvuxN6gFljYbpbE3ZUd1swrigsKCCs7eVnIpG28F+EFB4OBFHYltKwTWbVVb7d1ycn/LJEVN/94Z+/7c73e5hZRQAU5NFakBGISVtnGfIhgACZWyN9AuwWAYgsKEBghDuCCUzBjaolzQQxgaQ6m8OpgT4cytb63Ai3vt5Em5myCMDN1y5ewGUnjMt+ePPtfjV+uJ17nRUAIJVy58/9vR/7mV9I43HzgREW1eAUESTCKTGzu0W01IoJuOVbIsgj+jpEeKvgIJFwg1cKI4S23R6SRjiYKZUgNjfOmXIOD9ggAFoWGiCiwd0DjIaTxMUXb1DTZCcJ7hXIa0VLeQX3oSm9/f0/deNtdzz14LfPPHPM1i7WOgSREDstOoVClTx8qAhzb5hlBSRskT8mosRMQFA4PIIc4coIeD80YJ8bXqG5BkNAtReiAUHwFtQhCEELvgaBSc6fOtnP5/kyIHoNk5FNrv8M2Hyblg8dvusX/t4H/sE/uu09HxwvHwgPC9gwd68sqmkk3IIpIgQvqO1GsAamgaLRpAmodQgCqQS31KMUzUmTpMR5RMyMGnWDoyKcSIiUWTTpgioNCsIQAca5E8+eP7fnRvavXq7/DNgqBOw/cmT/kSNvfvd7jj307WOPfGd99byqZE0gAouwhC/6RjSsxtkBJkQzQCBU61Vaj2inlltnAilZa1fsdZiFDcN8ZkONcGIKEDErcx8BBDdMCRFEl1bOPv/k40duehNeadb3ynL9Z8CuMt2//yd+9uc//I//kze/+71DHS6unpmvr8GrsKgqUTRqc9sJiMnoB3DxD9Y/bbyxYHKFRShnt1rnM7ea2oZAALcO4KIOUlGQOBo9RRxc+/6Rb3y1maSrXFm+LHmDKqDJgcM3/vQ/+KWf/g/+47x84OKllaGfeR3CCKxM7uELAhEFoXrjNLB4Y5VGI8G5h2tKHhYUfb8+zNfh5n0f4W2nBgYpC4WriiRte/Q1hI5IIOnxb39z5czp1+gZr48CXtZEvu3H3/UL/9Gv3vT2n1ifz4dhNgw9zBBB8EXvDs4NpmhUKsDdrdZ5RA0YiN0MCGKL6OGVmVlkQWUBWIRbAoFJhFgY0dqwwAJOunLq+Ye+8iW8uPLiWg3F9VHA1T/AApI8cuPP/8p/cde/9w/zvhuCopp59ZaKcXP3QKhIwqL0CAA31hVTYs4gZk5hHkMvzCmX3I1S6TQrq4hoyiPmJJJVM5E4KACLqEGDo1p87VOfbFuVbb2rNy4YdzXycr1ZLt17PvzzP/0P/7PSTZqxJ6dWPxZELApiBw1uFo5W+gIhEtVCkiPMvdckKWWmBtS1TBkxcwApZ1FlkZxzSqX1LjV3izCSZ5949Fv3fG6vR9iqiZerleumgKu80W2HHb7ltgNvuh2Xu/1whNCiJ3r71+wImACS1LEWd4cPQ78WNogIiEWSciFqe6qKkORcNBXNJeey2NkmZdXsYAuqQYPT33z0948//uiut72zEOzq5Q3thHcKM9/09ndzyiS64J4QiTBJIslEvOATuYOYOFm18B42h7tQoqDU9sRNebH/j7DkpDmlkkvpUupK6bpxl7siSTklZ60hIfn0c8/+2a//s0sXL77k+/5DwIx7NXLw5lu1mwIA6eUyedmC1iy6Vrp7HTYG74dhVmsVuZypB7HwENV9YIYwWnYziSThnFLbuHvUlfF4NJ2Mx+MOIubgNPr+Qw9+4eN/Ei8FRfwQMOO2ycu648m+A93SUlxmzrYsQmtK7O4EIggQCDfr4bWR0iMgosxKrO4WNjTyPzNnYeFo7BbmaL30u1wmo9FkMh6NR6WktuRy8Jc/+bHjjz6y865e8q3f64A3hAJelqScu8myR0vhthINX3CqFg0ozN1q7cN7eN9YQ0SLzQvbJtMkREBLCzMCYSAjBi+SxSTKqpqEs0opWUQiwlkurpx74EufxxUZQbvKXge8IRSw19uxmfTYmv0gIhKlRh0hIuEGL4tw24gmvJr1Fq00WBYbEhA8fBh6QkUY3LwOiCCQgTyC6TLXiIIIqqpJVSRrGpVONUW0zbT40W/ed3F1937qr0DeEArYS7Y+3uYPZtavrxEzmKPhNa2SAEB42OBRAWcCBUVQS9FEuF/G/cOM3BsprO1LA6aIoHCGE4UyuPWJTUk15ZRUBSwOgOTMs08/89guVuiVyRtaAbsutGvfzzbWQWKNQgq0RKJ7hNVmZ4i4sUsbVy7c3YMagToGD0PbQaw1WY+4DDxQ65DSAAomyGLDDpSsKtyKnGbz2YljT27e4auE595YaOg22XV297ON+caambG0FgON2FkjxBY8/yCSQHWzVn/kXt2DuHEYvdahbddJrUUEQMQLCDRCWu3mQn2EVnujoqp1qNU8BU4/fQyvFBzdhui9oRWwq8zW1+p8Ft6HM0kK8uaKWyo42i62C/YcuQ8IQ9QIpzCQRkTbbCC8OhZUjEaGadnNaHlORIQvMpTEra9T2yuFnU8/c3w+m21lTV+9bHur3tAK2BX+rf08rEYMANdFIYFGmPuAYIS7m6HhbB4+uFmEcyMYhYM4ZfXamwexerQeIEYk7m7hCG/miBFm4V6BYFZJidoGWELnz5y+dOF86Y5iN7bWD18csJfsaoKsVvcIQ2vgx8REftmOu3lf6wZaq12v4YPb4G7tVQ5msAxmQ61hEVZbtayHuQ1Y7C0GAITWKKthShRo6AZqeIDWL1w4d/pku59XydZ6Qytgm7Rnc6sUTtSwNhBJYAHJBUCapIyw6HJ/uSecKjGxpLZBKgWJJHf3Orj3BCNgUR5C0Zo3RfiCM8etB0V4G9kIAvrZ7NTTx7fe2ytejL6hTdA2WfA4hIXZPBrfEDEACdRwNUbADOEVBIA8WAjmQcwR0XbrMEQER1T3kCBiCSJ2uC+27XarQOtXhghvve4RrUMCg2DWn3z6qc27ejVroR+CGbDt2USURRfpxOCW5W3LyrawVxIisjrABkYA1ErmAXiY+dBqAEWTMDEZsFjOMqlIAohFiKXtZ2WOtnETFnap3RJOPPX4fD7favFf2ST4IVDA5WTv4jlZlOARCApCEAsEEInAYqMwGyicSYUFwOXSPkc4R7S+E6xC1K4pcMA93Bv5dMuGlRRAgyYCEbxo7BUAWF949pnVcy/aVuOVZWl+CBTQZPPBUtexaLM5RNR6PzHLJqndzCNIGqxDRK08ONq2wyBwa3jsICcGpNUQkHCExWJ7KxBTRIg0hnVrly8qQliYqY3VC5u7nb8a+X8BZW1xFc0Vhb0AAAAASUVORK5CYII=\" alt=\"Img\" /></td>\n",
              "                        <td id=\"T_7c0ebc24_2456_11eb_bf5a_0242ac1c0002row5_col1\" class=\"data row5 col1\" >1 (paper)</td>\n",
              "            </tr>\n",
              "            <tr>\n",
              "                        <th id=\"T_7c0ebc24_2456_11eb_bf5a_0242ac1c0002level0_row6\" class=\"row_heading level0 row6\" >6</th>\n",
              "                        <td id=\"T_7c0ebc24_2456_11eb_bf5a_0242ac1c0002row6_col0\" class=\"data row6 col0\" ><img src=\"data:image/png;base64,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\" alt=\"Img\" /></td>\n",
              "                        <td id=\"T_7c0ebc24_2456_11eb_bf5a_0242ac1c0002row6_col1\" class=\"data row6 col1\" >2 (scissors)</td>\n",
              "            </tr>\n",
              "            <tr>\n",
              "                        <th id=\"T_7c0ebc24_2456_11eb_bf5a_0242ac1c0002level0_row7\" class=\"row_heading level0 row7\" >7</th>\n",
              "                        <td id=\"T_7c0ebc24_2456_11eb_bf5a_0242ac1c0002row7_col0\" class=\"data row7 col0\" ><img src=\"data:image/png;base64,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\" alt=\"Img\" /></td>\n",
              "                        <td id=\"T_7c0ebc24_2456_11eb_bf5a_0242ac1c0002row7_col1\" class=\"data row7 col1\" >1 (paper)</td>\n",
              "            </tr>\n",
              "            <tr>\n",
              "                        <th id=\"T_7c0ebc24_2456_11eb_bf5a_0242ac1c0002level0_row8\" class=\"row_heading level0 row8\" >8</th>\n",
              "                        <td id=\"T_7c0ebc24_2456_11eb_bf5a_0242ac1c0002row8_col0\" class=\"data row8 col0\" ><img src=\"data:image/png;base64,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\" alt=\"Img\" /></td>\n",
              "                        <td id=\"T_7c0ebc24_2456_11eb_bf5a_0242ac1c0002row8_col1\" class=\"data row8 col1\" >2 (scissors)</td>\n",
              "            </tr>\n",
              "            <tr>\n",
              "                        <th id=\"T_7c0ebc24_2456_11eb_bf5a_0242ac1c0002level0_row9\" class=\"row_heading level0 row9\" >9</th>\n",
              "                        <td id=\"T_7c0ebc24_2456_11eb_bf5a_0242ac1c0002row9_col0\" class=\"data row9 col0\" ><img src=\"data:image/png;base64,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\" alt=\"Img\" /></td>\n",
              "                        <td id=\"T_7c0ebc24_2456_11eb_bf5a_0242ac1c0002row9_col1\" class=\"data row9 col1\" >2 (scissors)</td>\n",
              "            </tr>\n",
              "    </tbody></table>"
            ],
            "text/plain": [
              "                                               image  label\n",
              "0  [[[254, 254, 254], [253, 253, 253], [254, 254,...      2\n",
              "1  [[[254, 254, 254], [253, 253, 253], [254, 254,...      2\n",
              "2  [[[254, 254, 254], [253, 253, 253], [254, 254,...      0\n",
              "3  [[[253, 253, 253], [253, 253, 253], [254, 254,...      1\n",
              "4  [[[255, 255, 255], [255, 255, 255], [255, 255,...      0\n",
              "5  [[[255, 255, 255], [255, 255, 255], [255, 255,...      1\n",
              "6  [[[253, 253, 253], [253, 253, 253], [254, 254,...      2\n",
              "7  [[[255, 255, 255], [255, 255, 255], [255, 255,...      1\n",
              "8  [[[253, 253, 253], [253, 253, 253], [255, 255,...      2\n",
              "9  [[[253, 253, 253], [254, 254, 254], [254, 254,...      2"
            ]
          },
          "metadata": {
            "tags": []
          },
          "execution_count": 20
        }
      ]
    },
    {
      "cell_type": "markdown",
      "metadata": {
        "id": "d4sSFw6gNxy6"
      },
      "source": [
        "# Exercise"
      ]
    },
    {
      "cell_type": "markdown",
      "metadata": {
        "id": "LMiw4iStCLQR"
      },
      "source": [
        "1. Build a deep CNN model and train it for this binary classification task. Fit the model using the small dataset of 500 samples, *train_data*.\n",
        "\n",
        "What accuracy can your model acheive on the training data?"
      ]
    },
    {
      "cell_type": "code",
      "metadata": {
        "id": "UMzYZe2ENtcm",
        "outputId": "403b5825-97b8-4653-d2ef-00af980eb014",
        "colab": {
          "base_uri": "https://localhost:8080/"
        }
      },
      "source": [
        "# Your code here\n",
        "data['train']"
      ],
      "execution_count": 21,
      "outputs": [
        {
          "output_type": "execute_result",
          "data": {
            "text/plain": [
              "<PrefetchDataset shapes: {image: (300, 300, 3), label: ()}, types: {image: tf.uint8, label: tf.int64}>"
            ]
          },
          "metadata": {
            "tags": []
          },
          "execution_count": 21
        }
      ]
    },
    {
      "cell_type": "code",
      "metadata": {
        "id": "f7m6DAIgTu6U"
      },
      "source": [
        "preprocess=lambda d: (tf.cast(d['image'],tf.float32)/255.0, d['label'])\n",
        "ds_train=data['train'].map(preprocess).cache().batch(32).repeat().prefetch(10)\n",
        "n_test=info.splits['test'].num_examples\n",
        "ds_test=data['train'].map(preprocess).cache().take(n_test//4).batch(n_test//4).repeat().prefetch(2)"
      ],
      "execution_count": 22,
      "outputs": []
    },
    {
      "cell_type": "code",
      "metadata": {
        "id": "68SRxsVtWOJO",
        "outputId": "d463073c-5429-467c-bef5-bbfad84d20b9",
        "colab": {
          "base_uri": "https://localhost:8080/"
        }
      },
      "source": [
        "img_shape=info.features['image'].shape\n",
        "img_shape"
      ],
      "execution_count": 23,
      "outputs": [
        {
          "output_type": "execute_result",
          "data": {
            "text/plain": [
              "(300, 300, 3)"
            ]
          },
          "metadata": {
            "tags": []
          },
          "execution_count": 23
        }
      ]
    },
    {
      "cell_type": "code",
      "metadata": {
        "id": "nTaGcPsVW995",
        "outputId": "e6ea54f4-bd57-42ed-e716-cd139c1e6752",
        "colab": {
          "base_uri": "https://localhost:8080/"
        }
      },
      "source": [
        "model=tfk.Sequential([tfkl.InputLayer(img_shape),\n",
        "                      tfkl.Conv2D(filters=32, kernel_size=(3,3), activation=tf.nn.relu),\n",
        "                      tfkl.MaxPool2D(pool_size=(3,3)),\n",
        "                      tfkl.Conv2D(filters=16, kernel_size=(3,3), activation=tf.nn.relu),\n",
        "                      tfkl.MaxPool2D(pool_size=(3,3)), \n",
        "                      tfkl.Conv2D(filters=8, kernel_size=(3,3), activation=tf.nn.relu),\n",
        "                      tfkl.MaxPool2D(pool_size=(3,3)),\n",
        "                      tfkl.Flatten(),\n",
        "                      tfkl.Dense(units=100, activation=tf.nn.relu),\n",
        "                      tfkl.Dense(units=3, activation=tf.nn.softmax)\n",
        "                      ])\n",
        "model.summary()"
      ],
      "execution_count": 24,
      "outputs": [
        {
          "output_type": "stream",
          "text": [
            "Model: \"sequential_2\"\n",
            "_________________________________________________________________\n",
            "Layer (type)                 Output Shape              Param #   \n",
            "=================================================================\n",
            "conv2d_4 (Conv2D)            (None, 298, 298, 32)      896       \n",
            "_________________________________________________________________\n",
            "max_pooling2d_4 (MaxPooling2 (None, 99, 99, 32)        0         \n",
            "_________________________________________________________________\n",
            "conv2d_5 (Conv2D)            (None, 97, 97, 16)        4624      \n",
            "_________________________________________________________________\n",
            "max_pooling2d_5 (MaxPooling2 (None, 32, 32, 16)        0         \n",
            "_________________________________________________________________\n",
            "conv2d_6 (Conv2D)            (None, 30, 30, 8)         1160      \n",
            "_________________________________________________________________\n",
            "max_pooling2d_6 (MaxPooling2 (None, 10, 10, 8)         0         \n",
            "_________________________________________________________________\n",
            "flatten_2 (Flatten)          (None, 800)               0         \n",
            "_________________________________________________________________\n",
            "dense_2 (Dense)              (None, 100)               80100     \n",
            "_________________________________________________________________\n",
            "dense_3 (Dense)              (None, 3)                 303       \n",
            "=================================================================\n",
            "Total params: 87,083\n",
            "Trainable params: 87,083\n",
            "Non-trainable params: 0\n",
            "_________________________________________________________________\n"
          ],
          "name": "stdout"
        }
      ]
    },
    {
      "cell_type": "code",
      "metadata": {
        "id": "Ko3_K_PyUSW_",
        "outputId": "0528e20a-c744-4909-b102-fd4b4befc355",
        "colab": {
          "base_uri": "https://localhost:8080/"
        }
      },
      "source": [
        "opt=tfk.optimizers.Adam()\n",
        "loss=tfk.losses.SparseCategoricalCrossentropy()\n",
        "model.compile(optimizer=opt, loss=loss)\n",
        "results=model.fit(ds_train, steps_per_epoch=20, epochs=10, validation_data=ds_test, validation_steps=1) "
      ],
      "execution_count": 25,
      "outputs": [
        {
          "output_type": "stream",
          "text": [
            "Epoch 1/10\n",
            "20/20 [==============================] - 3s 167ms/step - loss: 1.0568 - val_loss: 0.9371\n",
            "Epoch 2/10\n",
            "20/20 [==============================] - 2s 114ms/step - loss: 0.7737 - val_loss: 0.5134\n",
            "Epoch 3/10\n",
            "20/20 [==============================] - 3s 143ms/step - loss: 0.3909 - val_loss: 0.2887\n",
            "Epoch 4/10\n",
            "20/20 [==============================] - 2s 99ms/step - loss: 0.1472 - val_loss: 0.1179\n",
            "Epoch 5/10\n",
            "20/20 [==============================] - 1s 62ms/step - loss: 0.0703 - val_loss: 0.0725\n",
            "Epoch 6/10\n",
            "20/20 [==============================] - 1s 62ms/step - loss: 0.0220 - val_loss: 0.0875\n",
            "Epoch 7/10\n",
            "20/20 [==============================] - 1s 62ms/step - loss: 0.0299 - val_loss: 0.1148\n",
            "Epoch 8/10\n",
            "20/20 [==============================] - 1s 60ms/step - loss: 0.0483 - val_loss: 0.0689\n",
            "Epoch 9/10\n",
            "20/20 [==============================] - 1s 62ms/step - loss: 0.0460 - val_loss: 0.0473\n",
            "Epoch 10/10\n",
            "20/20 [==============================] - 1s 62ms/step - loss: 0.0186 - val_loss: 0.0396\n"
          ],
          "name": "stdout"
        }
      ]
    },
    {
      "cell_type": "code",
      "metadata": {
        "id": "mQLO5Tk8ajZL",
        "outputId": "7916957a-e505-4184-df28-2899be0944ca",
        "colab": {
          "base_uri": "https://localhost:8080/",
          "height": 282
        }
      },
      "source": [
        "plt.plot(results.history['loss'])\n",
        "plt.plot(results.history['val_loss'])\n",
        "plt.legend(labels=[\"train\", \"val\"])"
      ],
      "execution_count": 26,
      "outputs": [
        {
          "output_type": "execute_result",
          "data": {
            "text/plain": [
              "<matplotlib.legend.Legend at 0x7f0242b52908>"
            ]
          },
          "metadata": {
            "tags": []
          },
          "execution_count": 26
        },
        {
          "output_type": "display_data",
          "data": {
            "image/png": "[encoded data removed]",
            "text/plain": [
              "<Figure size 432x288 with 1 Axes>"
            ]
          },
          "metadata": {
            "tags": [],
            "needs_background": "light"
          }
        }
      ]
    },
    {
      "cell_type": "markdown",
      "metadata": {
        "id": "V78s2BoTCNoz"
      },
      "source": [
        " 2. Now use transfer learning by incorporating the pretrained VGG16 model."
      ]
    },
    {
      "cell_type": "code",
      "metadata": {
        "id": "5fpD87Dz-yIM"
      },
      "source": [
        "from tensorflow.keras.applications import VGG16"
      ],
      "execution_count": 27,
      "outputs": []
    },
    {
      "cell_type": "code",
      "metadata": {
        "id": "8aVDe90h-61E",
        "outputId": "cf097050-8d09-42b0-8579-1a833cafa66a",
        "colab": {
          "base_uri": "https://localhost:8080/"
        }
      },
      "source": [
        "conv_base = VGG16(weights=\"imagenet\",include_top=False,input_shape=(300,300,3))"
      ],
      "execution_count": 28,
      "outputs": [
        {
          "output_type": "stream",
          "text": [
            "Downloading data from https://storage.googleapis.com/tensorflow/keras-applications/vgg16/vgg16_weights_tf_dim_ordering_tf_kernels_notop.h5\n",
            "58892288/58889256 [==============================] - 0s 0us/step\n"
          ],
          "name": "stdout"
        }
      ]
    },
    {
      "cell_type": "markdown",
      "metadata": {
        "id": "KXVbPif8BrXs"
      },
      "source": [
        "Build a Sequential model, using our VGG16 base. Make sure the freeze the weights of the convolutional backbone, but leave the remainder of the network weights as learnable. Fit this model and compare the overall accuracy as well as the loss curves (efficiency).\n"
      ]
    },
    {
      "cell_type": "code",
      "metadata": {
        "id": "vVgxWojW1N2A"
      },
      "source": [
        "conv_base.trainable=False"
      ],
      "execution_count": 29,
      "outputs": []
    },
    {
      "cell_type": "code",
      "metadata": {
        "id": "_YmeXclfR_ar",
        "outputId": "4af8b447-e027-453b-acb3-61ba272f3301",
        "colab": {
          "base_uri": "https://localhost:8080/"
        }
      },
      "source": [
        "model=tfk.Sequential([\n",
        "                      tfkl.InputLayer(img_shape),\n",
        "                      conv_base, \n",
        "                      tfkl.Conv2D(filters=8, kernel_size=(2,2),activation=tf.nn.relu),\n",
        "                      tfkl.MaxPool2D(pool_size=(2,2)),\n",
        "                      tfkl.Flatten(), \n",
        "                      tfkl.Dense(32,activation=tf.nn.relu),\n",
        "                      tfkl.Dense(3, activation=tf.nn.softmax)\n",
        "])\n",
        "model.summary()"
      ],
      "execution_count": 30,
      "outputs": [
        {
          "output_type": "stream",
          "text": [
            "Model: \"sequential_3\"\n",
            "_________________________________________________________________\n",
            "Layer (type)                 Output Shape              Param #   \n",
            "=================================================================\n",
            "vgg16 (Functional)           (None, 9, 9, 512)         14714688  \n",
            "_________________________________________________________________\n",
            "conv2d_7 (Conv2D)            (None, 8, 8, 8)           16392     \n",
            "_________________________________________________________________\n",
            "max_pooling2d_7 (MaxPooling2 (None, 4, 4, 8)           0         \n",
            "_________________________________________________________________\n",
            "flatten_3 (Flatten)          (None, 128)               0         \n",
            "_________________________________________________________________\n",
            "dense_4 (Dense)              (None, 32)                4128      \n",
            "_________________________________________________________________\n",
            "dense_5 (Dense)              (None, 3)                 99        \n",
            "=================================================================\n",
            "Total params: 14,735,307\n",
            "Trainable params: 20,619\n",
            "Non-trainable params: 14,714,688\n",
            "_________________________________________________________________\n"
          ],
          "name": "stdout"
        }
      ]
    },
    {
      "cell_type": "code",
      "metadata": {
        "id": "rZui6Tz2R_au",
        "outputId": "888fd066-04e5-4b28-a47f-ca55d9495b6a",
        "colab": {
          "base_uri": "https://localhost:8080/"
        }
      },
      "source": [
        "opt=tfk.optimizers.Adam()\n",
        "loss=tfk.losses.SparseCategoricalCrossentropy()\n",
        "model.compile(optimizer=opt, loss=loss, metrics=['accuracy'])\n",
        "results=model.fit(ds_train, steps_per_epoch=20, epochs=20, validation_data=ds_test, validation_steps=1)"
      ],
      "execution_count": 31,
      "outputs": [
        {
          "output_type": "stream",
          "text": [
            "Epoch 1/20\n",
            "20/20 [==============================] - 10s 500ms/step - loss: 0.8555 - accuracy: 0.6812 - val_loss: 0.4664 - val_accuracy: 0.8710\n",
            "Epoch 2/20\n",
            "20/20 [==============================] - 6s 278ms/step - loss: 0.2948 - accuracy: 0.9672 - val_loss: 0.1418 - val_accuracy: 0.9892\n",
            "Epoch 3/20\n",
            "20/20 [==============================] - 6s 281ms/step - loss: 0.0836 - accuracy: 0.9937 - val_loss: 0.0619 - val_accuracy: 0.9892\n",
            "Epoch 4/20\n",
            "20/20 [==============================] - 7s 356ms/step - loss: 0.0362 - accuracy: 0.9968 - val_loss: 0.0368 - val_accuracy: 0.9892\n",
            "Epoch 5/20\n",
            "20/20 [==============================] - 6s 279ms/step - loss: 0.0167 - accuracy: 0.9984 - val_loss: 0.0158 - val_accuracy: 1.0000\n",
            "Epoch 6/20\n",
            "20/20 [==============================] - 5s 274ms/step - loss: 0.0070 - accuracy: 1.0000 - val_loss: 0.0086 - val_accuracy: 1.0000\n",
            "Epoch 7/20\n",
            "20/20 [==============================] - 5s 274ms/step - loss: 0.0057 - accuracy: 1.0000 - val_loss: 0.0087 - val_accuracy: 1.0000\n",
            "Epoch 8/20\n",
            "20/20 [==============================] - 5s 271ms/step - loss: 0.0042 - accuracy: 1.0000 - val_loss: 0.0059 - val_accuracy: 1.0000\n",
            "Epoch 9/20\n",
            "20/20 [==============================] - 5s 271ms/step - loss: 0.0038 - accuracy: 1.0000 - val_loss: 0.0042 - val_accuracy: 1.0000\n",
            "Epoch 10/20\n",
            "20/20 [==============================] - 5s 271ms/step - loss: 0.0021 - accuracy: 1.0000 - val_loss: 0.0041 - val_accuracy: 1.0000\n",
            "Epoch 11/20\n",
            "20/20 [==============================] - 5s 267ms/step - loss: 0.0023 - accuracy: 1.0000 - val_loss: 0.0035 - val_accuracy: 1.0000\n",
            "Epoch 12/20\n",
            "20/20 [==============================] - 5s 269ms/step - loss: 0.0020 - accuracy: 1.0000 - val_loss: 0.0028 - val_accuracy: 1.0000\n",
            "Epoch 13/20\n",
            "20/20 [==============================] - 5s 269ms/step - loss: 0.0016 - accuracy: 1.0000 - val_loss: 0.0020 - val_accuracy: 1.0000\n",
            "Epoch 14/20\n",
            "20/20 [==============================] - 5s 270ms/step - loss: 0.0011 - accuracy: 1.0000 - val_loss: 0.0025 - val_accuracy: 1.0000\n",
            "Epoch 15/20\n",
            "20/20 [==============================] - 5s 274ms/step - loss: 0.0013 - accuracy: 1.0000 - val_loss: 0.0017 - val_accuracy: 1.0000\n",
            "Epoch 16/20\n",
            "20/20 [==============================] - 5s 272ms/step - loss: 0.0011 - accuracy: 1.0000 - val_loss: 0.0016 - val_accuracy: 1.0000\n",
            "Epoch 17/20\n",
            "20/20 [==============================] - 6s 276ms/step - loss: 9.5849e-04 - accuracy: 1.0000 - val_loss: 0.0012 - val_accuracy: 1.0000\n",
            "Epoch 18/20\n",
            "20/20 [==============================] - 6s 279ms/step - loss: 6.2722e-04 - accuracy: 1.0000 - val_loss: 0.0016 - val_accuracy: 1.0000\n",
            "Epoch 19/20\n",
            "20/20 [==============================] - 5s 274ms/step - loss: 8.6374e-04 - accuracy: 1.0000 - val_loss: 0.0011 - val_accuracy: 1.0000\n",
            "Epoch 20/20\n",
            "20/20 [==============================] - 5s 271ms/step - loss: 6.6275e-04 - accuracy: 1.0000 - val_loss: 9.8223e-04 - val_accuracy: 1.0000\n"
          ],
          "name": "stdout"
        }
      ]
    },
    {
      "cell_type": "code",
      "metadata": {
        "id": "K0fJREe6R_ax",
        "outputId": "fd78cd21-35a7-48f5-d018-8eaf1db70e78",
        "colab": {
          "base_uri": "https://localhost:8080/",
          "height": 282
        }
      },
      "source": [
        "plt.plot(results.history['accuracy'])\n",
        "plt.plot(results.history['val_accuracy'])\n",
        "plt.legend(labels=[\"train\", \"val\"])"
      ],
      "execution_count": 32,
      "outputs": [
        {
          "output_type": "execute_result",
          "data": {
            "text/plain": [
              "<matplotlib.legend.Legend at 0x7f02428b8710>"
            ]
          },
          "metadata": {
            "tags": []
          },
          "execution_count": 32
        },
        {
          "output_type": "display_data",
          "data": {
            "image/png": "[encoded data removed]",
            "text/plain": [
              "<Figure size 432x288 with 1 Axes>"
            ]
          },
          "metadata": {
            "tags": [],
            "needs_background": "light"
          }
        }
      ]
    }
  ]
}