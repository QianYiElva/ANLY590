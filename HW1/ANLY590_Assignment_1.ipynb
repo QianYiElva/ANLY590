{
 "cells": [
  {
   "cell_type": "code",
   "execution_count": 1,
   "metadata": {},
   "outputs": [],
   "source": [
    "# homework discussion group member: Xin Hu, Yunxi Zhang"
   ]
  },
  {
   "cell_type": "markdown",
   "metadata": {},
   "source": [
    "## 1.1\n",
    "#### Use LASSO regression to predict Salary from the other numeric predictors.\n",
    "#### Create a visualization of the coefficient trajectories. \n",
    "#### Comment on which are the final three predictors that remain in the model. \n",
    "#### Use cross-validation to find the optimal value of the regularization penality. \n",
    "#### How many predictors are left in that model?"
   ]
  },
  {
   "cell_type": "markdown",
   "metadata": {},
   "source": [
    "#### import the packages "
   ]
  },
  {
   "cell_type": "code",
   "execution_count": 1,
   "metadata": {},
   "outputs": [],
   "source": [
    "import pandas as pd \n",
    "import numpy as np\n",
    "import matplotlib.pyplot as plt\n",
    "from sklearn import linear_model\n",
    "from sklearn.model_selection import train_test_split\n",
    "from sklearn.linear_model import Ridge, RidgeCV, Lasso, LassoCV\n",
    "from sklearn.metrics import mean_squared_error\n",
    "from sklearn.preprocessing import scale "
   ]
  },
  {
   "cell_type": "markdown",
   "metadata": {},
   "source": [
    "#### data cleaning and pre-processing "
   ]
  },
  {
   "cell_type": "code",
   "execution_count": 2,
   "metadata": {},
   "outputs": [],
   "source": [
    "# data cleaning \n",
    "data=pd.read_csv('Hitters.csv')\n",
    "# (1)only keep numeric predictors, remove categorical columns \n",
    "data=data.drop(columns=['League', 'Division', 'NewLeague'])\n",
    "# (2) remove rows with NA value \n",
    "data=data.dropna()\n",
    "# (3) remove the first column \n",
    "data=data.drop(['Unnamed: 0'], axis=1)\n",
    "# (4) separate the data into variables(x) and target(y)\n",
    "x=data.drop(['Salary'],axis=1)\n",
    "y=data.Salary\n",
    "\n",
    "\n",
    "# (5) Split data into training set and testing set \n",
    "x_train, x_test , y_train, y_test = train_test_split(x, y, test_size=0.2, random_state=1)"
   ]
  },
  {
   "cell_type": "code",
   "execution_count": 3,
   "metadata": {},
   "outputs": [
    {
     "name": "stderr",
     "output_type": "stream",
     "text": [
      "/Users/qianyi/anaconda3/lib/python3.7/site-packages/ipykernel_launcher.py:2: DataConversionWarning: Data with input dtype int64 were all converted to float64 by the scale function.\n",
      "  \n",
      "/Users/qianyi/anaconda3/lib/python3.7/site-packages/ipykernel_launcher.py:3: DataConversionWarning: Data with input dtype int64 were all converted to float64 by the scale function.\n",
      "  This is separate from the ipykernel package so we can avoid doing imports until\n"
     ]
    }
   ],
   "source": [
    "# scale the numeric features before lasso and ridge regression \n",
    "x_train=scale(x_train)\n",
    "x_test=scale(x_test)"
   ]
  },
  {
   "cell_type": "markdown",
   "metadata": {},
   "source": [
    "#### Lasso Regression "
   ]
  },
  {
   "cell_type": "code",
   "execution_count": 4,
   "metadata": {},
   "outputs": [],
   "source": [
    "# build a list of lambda, with 100 different values ranging from very small to very large \n",
    "lambda_value = 10**np.linspace(10,-2,100)*0.5\n",
    "lasso = Lasso(max_iter = 10000, normalize = True)\n",
    "\n",
    "# create a new list to store coefficient for each predictors under different lambda value \n",
    "coefs = []\n",
    "# create a dictionary to store lambda value with its coefficient \n",
    "dictionary={}\n",
    "\n",
    "for a in lambda_value:\n",
    "    lasso.set_params(alpha=a)\n",
    "    lasso.fit(x_train, y_train)\n",
    "    coefs.append(lasso.coef_)\n",
    "    dictionary[a]=lasso.coef_\n",
    "        "
   ]
  },
  {
   "cell_type": "markdown",
   "metadata": {},
   "source": [
    "#### Visualization "
   ]
  },
  {
   "cell_type": "code",
   "execution_count": 5,
   "metadata": {},
   "outputs": [
    {
     "data": {
      "text/plain": [
       "Text(0, 0.5, 'weights')"
      ]
     },
     "execution_count": 5,
     "metadata": {},
     "output_type": "execute_result"
    },
    {
     "data": {
      "image/png": "[encoded data removed]",
      "text/plain": [
       "<Figure size 432x288 with 1 Axes>"
      ]
     },
     "metadata": {
      "needs_background": "light"
     },
     "output_type": "display_data"
    }
   ],
   "source": [
    "ax = plt.gca()\n",
    "ax.plot(lambda_value*2, coefs)\n",
    "ax.set_xscale('log')\n",
    "plt.axis('tight')\n",
    "plt.xlabel('alpha')\n",
    "plt.ylabel('weights')\n"
   ]
  },
  {
   "cell_type": "markdown",
   "metadata": {},
   "source": [
    "#### Find an appropriate lambda value that only 3 variables have non-zero coefficient (for training set)"
   ]
  },
  {
   "cell_type": "code",
   "execution_count": 6,
   "metadata": {},
   "outputs": [
    {
     "name": "stdout",
     "output_type": "stream",
     "text": [
      "when lambda value equals to  12.38538177995857  the coefficient will have 3 non-zero values\n",
      "when lambda value equals to  12.38538177995857 the coefficient of all predictors are:  [ 0.          7.30439999  0.          0.          3.75313792  0.\n",
      "  0.          0.          0.          0.          0.         65.36460074\n",
      "  0.          0.          0.          0.        ]\n"
     ]
    }
   ],
   "source": [
    "for i in dictionary: \n",
    "    counter=0\n",
    "    for each in dictionary[i]: \n",
    "        if each !=0:\n",
    "            counter+=1\n",
    "    if counter==3:\n",
    "        print(\"when lambda value equals to \", i, \" the coefficient will have 3 non-zero values\")\n",
    "        print(\"when lambda value equals to \", i,\"the coefficient of all predictors are: \", dictionary[i])"
   ]
  },
  {
   "cell_type": "markdown",
   "metadata": {},
   "source": [
    "#### For the training set, when lambda is around 12, the lasso regression will result in just 3 non-zero coefficient value.\n",
    "#### However, since we have a small dataset (262 records in total), the lambda value may vary due to difference between training set and the overall set. \n",
    "#### After tried multiple values near 12, when lambda=11 or lambda=10, we can see the coefficient output with only 3 non-zero values"
   ]
  },
  {
   "cell_type": "markdown",
   "metadata": {},
   "source": [
    "#### According to the coefficient table below, \"Hits\", \"CRuns\" and \"CRBI\" are the final three predictors that remain in the model"
   ]
  },
  {
   "cell_type": "code",
   "execution_count": 7,
   "metadata": {},
   "outputs": [
    {
     "data": {
      "text/plain": [
       "AtBat      0.000000\n",
       "Hits       0.037439\n",
       "HmRun      0.000000\n",
       "Runs       0.000000\n",
       "RBI        0.000000\n",
       "Walks      0.000000\n",
       "Years      0.000000\n",
       "CAtBat     0.000000\n",
       "CHits      0.000000\n",
       "CHmRun     0.000000\n",
       "CRuns      0.062909\n",
       "CRBI       0.176160\n",
       "CWalks     0.000000\n",
       "PutOuts    0.000000\n",
       "Assists    0.000000\n",
       "Errors     0.000000\n",
       "dtype: float64"
      ]
     },
     "execution_count": 7,
     "metadata": {},
     "output_type": "execute_result"
    }
   ],
   "source": [
    "lasso = Lasso(alpha=11, max_iter=10000, normalize=True)\n",
    "lasso.fit(x, y)\n",
    "pd.Series(lasso.coef_, index=x.columns)"
   ]
  },
  {
   "cell_type": "code",
   "execution_count": 8,
   "metadata": {},
   "outputs": [
    {
     "data": {
      "text/plain": [
       "AtBat      0.000000\n",
       "Hits       0.329475\n",
       "HmRun      0.000000\n",
       "Runs       0.000000\n",
       "RBI        0.000000\n",
       "Walks      0.000000\n",
       "Years      0.000000\n",
       "CAtBat     0.000000\n",
       "CHits      0.000000\n",
       "CHmRun     0.000000\n",
       "CRuns      0.076322\n",
       "CRBI       0.204475\n",
       "CWalks     0.000000\n",
       "PutOuts    0.000000\n",
       "Assists    0.000000\n",
       "Errors     0.000000\n",
       "dtype: float64"
      ]
     },
     "execution_count": 8,
     "metadata": {},
     "output_type": "execute_result"
    }
   ],
   "source": [
    "lasso = Lasso(alpha=10, max_iter=10000, normalize=True)\n",
    "lasso.fit(x, y)\n",
    "pd.Series(lasso.coef_, index=x.columns)"
   ]
  },
  {
   "cell_type": "markdown",
   "metadata": {},
   "source": [
    "#### Cross-validation for Lasso Regression "
   ]
  },
  {
   "cell_type": "code",
   "execution_count": 9,
   "metadata": {},
   "outputs": [
    {
     "name": "stdout",
     "output_type": "stream",
     "text": [
      "The optimal optimal value of the regularization penality is 0.06908886763991272\n"
     ]
    }
   ],
   "source": [
    "# Lasso with 5-fold cross validation \n",
    "lassocv = LassoCV(alphas = None, cv = 5, max_iter = 10000, normalize = True)\n",
    "lassocv.fit(x_train, y_train)\n",
    "\n",
    "# the optimal lambda value \n",
    "print('The optimal optimal value of the regularization penality is',  lassocv.alpha_)"
   ]
  },
  {
   "cell_type": "code",
   "execution_count": 10,
   "metadata": {},
   "outputs": [
    {
     "data": {
      "text/plain": [
       "AtBat     -2.069759\n",
       "Hits       6.979941\n",
       "HmRun      0.000000\n",
       "Runs      -0.581855\n",
       "RBI        0.480022\n",
       "Walks      5.465287\n",
       "Years     -6.374196\n",
       "CAtBat    -0.080898\n",
       "CHits      0.000000\n",
       "CHmRun     0.184016\n",
       "CRuns      1.192017\n",
       "CRBI       0.566938\n",
       "CWalks    -0.680604\n",
       "PutOuts    0.292290\n",
       "Assists    0.299036\n",
       "Errors    -2.421782\n",
       "dtype: float64"
      ]
     },
     "execution_count": 10,
     "metadata": {},
     "output_type": "execute_result"
    }
   ],
   "source": [
    "# Build Lasso regression model with the optimal lambda value generated by cross-validation \n",
    "lasso.set_params(alpha=lassocv.alpha_)\n",
    "lasso.fit(x, y)\n",
    "mean_squared_error(y_test, lasso.predict(x_test))\n",
    "\n",
    "# Check the coefficient table with optimal lambda value\n",
    "pd.Series(lasso.coef_, index=x.columns)"
   ]
  },
  {
   "cell_type": "markdown",
   "metadata": {},
   "source": [
    "#### By using the optimal lambda value (0.06908886763991272), there are 14 variables left in the model "
   ]
  },
  {
   "cell_type": "markdown",
   "metadata": {},
   "source": [
    "### 1.2\n",
    "### Repeat with Ridge Regression. Visualize coeffiecient trajectories. \n",
    "### Use cross-validation to find the optimal vaule of the regularization penalty."
   ]
  },
  {
   "cell_type": "markdown",
   "metadata": {},
   "source": [
    "#### Ridge Regression "
   ]
  },
  {
   "cell_type": "code",
   "execution_count": 11,
   "metadata": {},
   "outputs": [],
   "source": [
    "# build a list of lambda, with 100 different values ranging from very small to very large \n",
    "lambda_value = 10**np.linspace(10,-2,100)*0.5\n",
    "ridge = Ridge(normalize = True)\n",
    "\n",
    "# create a new list to store coefficient for each predictors under different lambda value \n",
    "coefs = []\n",
    "\n",
    "for a in lambda_value:\n",
    "    ridge.set_params(alpha=a)\n",
    "    ridge.fit(x_train, y_train)\n",
    "    coefs.append(ridge.coef_)"
   ]
  },
  {
   "cell_type": "markdown",
   "metadata": {},
   "source": [
    "#### Visualization"
   ]
  },
  {
   "cell_type": "code",
   "execution_count": 12,
   "metadata": {},
   "outputs": [
    {
     "data": {
      "text/plain": [
       "Text(0, 0.5, 'weights')"
      ]
     },
     "execution_count": 12,
     "metadata": {},
     "output_type": "execute_result"
    },
    {
     "data": {
      "image/png": "[encoded data removed]",
      "text/plain": [
       "<Figure size 432x288 with 1 Axes>"
      ]
     },
     "metadata": {
      "needs_background": "light"
     },
     "output_type": "display_data"
    }
   ],
   "source": [
    "ax = plt.gca()\n",
    "ax.plot(lambda_value*2, coefs)\n",
    "ax.set_xscale('log')\n",
    "plt.axis('tight')\n",
    "plt.xlabel('alpha')\n",
    "plt.ylabel('weights')"
   ]
  },
  {
   "cell_type": "markdown",
   "metadata": {},
   "source": [
    "#### Use cross-validation for ridge regression "
   ]
  },
  {
   "cell_type": "code",
   "execution_count": 13,
   "metadata": {},
   "outputs": [
    {
     "name": "stdout",
     "output_type": "stream",
     "text": [
      "The optimal alpha (regularization penalty):  0.015269277544167062\n"
     ]
    }
   ],
   "source": [
    "ridgecv=RidgeCV(alphas=lambda_value, scoring='neg_mean_squared_error',normalize=True)\n",
    "ridgecv.fit(x_train, y_train)\n",
    "print('The optimal alpha (regularization penalty): ', ridgecv.alpha_)"
   ]
  },
  {
   "cell_type": "markdown",
   "metadata": {},
   "source": [
    "### 2 Short Answer. \n",
    "#### (1) Explain in your own words the bias-variance tradeoff. \n",
    "#### (2) What role does regularization play in this tradeoff? \n",
    "#### (3) Make reference to your findings in number (1) to describe models of high/low bias and variance."
   ]
  },
  {
   "cell_type": "markdown",
   "metadata": {},
   "source": [
    "#### (1) Bias-Variance trade-off: Basically, bias means the error between real value and the predicted value by a model. Variance means the extent of a model change by using different training data set. When the model is low bias high variance, there will be a problem of overfitting; When the model is low variance high bias, there will be a problem of underfitting. In real life modeling, it might be hard to find both low variance and low bias situation, so there's a trade-off between them. In order to minimize the  test error of a model, we want to select a statistical learning method that has both relatively low variance and relatively low bias.  "
   ]
  },
  {
   "cell_type": "markdown",
   "metadata": {},
   "source": [
    "#### (2) The regularization helps reduce the variance and prevent overfitting. The regularization performed a feature selection by adding a penalty term to shrink the contribution of each independent features. "
   ]
  },
  {
   "cell_type": "markdown",
   "metadata": {},
   "source": [
    "#### (3)  According to the cross-validation results, Lasso regression got optimal lambda value of 0.06908886763991272 while ridge regression got optimal lambda of  0.015269277544167062. With the penalty term, the regression will achieve a smaller MSE, which means the regularization reduced overfitting, lower variance but higher the bias. Thus, the cross validation generated a non-zero value for lambda. "
   ]
  }
 ],
 "metadata": {
  "kernelspec": {
   "display_name": "Python 3",
   "language": "python",
   "name": "python3"
  },
  "language_info": {
   "codemirror_mode": {
    "name": "ipython",
    "version": 3
   },
   "file_extension": ".py",
   "mimetype": "text/x-python",
   "name": "python",
   "nbconvert_exporter": "python",
   "pygments_lexer": "ipython3",
   "version": "3.7.3"
  }
 },
 "nbformat": 4,
 "nbformat_minor": 2
}
